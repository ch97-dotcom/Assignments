{
 "cells": [
  {
   "cell_type": "code",
   "execution_count": null,
   "metadata": {},
   "outputs": [],
   "source": [
    "Programming_Assignment_1\n",
    "1. Write a function that takes a list of lists and returns the value of all of the symbols in it, where each symbol adds or takes something from the total score. Symbol values:\n",
    "= 5"
   ]
  },
  {
   "cell_type": "code",
   "execution_count": 23,
   "metadata": {},
   "outputs": [],
   "source": [
    "O = 3\n",
    "\n",
    "X = 1\n",
    "\n",
    "! = -1\n",
    "\n",
    "!! = -3\n",
    "\n",
    "!!! = -5\n",
    "\n",
    "A list of lists containing 2 #s, a O, and a !!! would equal (0 + 5 + 5 + 3 - 5) 8.\n",
    "\n",
    "If the final score is negative, return 0 (e.g. 3 #s, 3 !!s, 2 !!!s and a X would be (0 + 5 + 5 + 5 - 3 - 3 - 3 - 5 - 5 + 1) -3, so return 0.\n",
    "\n",
    "Examples\n",
    "\n",
    "check_score([ [\"#\", \"!\"], [\"!!\", \"X\"] ]) ➞ 2\n",
    "\n",
    "check_score([ [\"!!!\", \"O\", \"!\"], [\"X\", \"#\", \"!!!\"], [\"!!\", \"X\", \"O\"] ]) ➞ 0"
   ]
  },
  {
   "cell_type": "code",
   "execution_count": 1,
   "metadata": {},
   "outputs": [
    {
     "name": "stdout",
     "output_type": "stream",
     "text": [
      "2\n",
      "0\n",
      "0\n"
     ]
    }
   ],
   "source": [
    "def check_score(l):\n",
    "    d = {'#': 5, 'O' : 3, 'X' : 1, '!' : -1 , '!!' : -3 , '!!!' : -5}\n",
    "    score = 0\n",
    "    for sub_list in l:\n",
    "        for i in sub_list:\n",
    "            score += d[i]\n",
    "            \n",
    "    if score < 0:\n",
    "        return 0\n",
    "    else:\n",
    "        return score\n",
    "    \n",
    "print(check_score([[\"#\", \"!\"], [\"!!\", \"X\"]]))\n",
    "print(check_score([ [\"!!!\", \"O\", \"!\"], [\"X\", \"#\", \"!!!\"], [\"!!\", \"X\", \"O\"] ]))\n",
    "print(check_score([[\"#\",\"#\",\"#\"],[\"!!\",\"!!\",\"!!\"],[\"!!!\",\"!!!\"],[\"X\"]]))"
   ]
  },
  {
   "cell_type": "code",
   "execution_count": null,
   "metadata": {},
   "outputs": [],
   "source": [
    "2. Create a function that takes a variable number of arguments, each argument representing the number of items in a group, and returns the number of permutations (combinations) of items that you could get by taking one item from each group."
   ]
  },
  {
   "cell_type": "code",
   "execution_count": null,
   "metadata": {},
   "outputs": [],
   "source": [
    "Examples\n",
    "\n",
    "combinations(2, 3) ➞ 6\n",
    "\n",
    "combinations(3, 7, 4) ➞ 84\n",
    "\n",
    "combinations(2, 3, 4, 5) ➞ 120"
   ]
  },
  {
   "cell_type": "code",
   "execution_count": 2,
   "metadata": {},
   "outputs": [
    {
     "name": "stdout",
     "output_type": "stream",
     "text": [
      "6\n",
      "84\n",
      "120\n"
     ]
    },
    {
     "data": {
      "text/plain": [
       "6"
      ]
     },
     "execution_count": 2,
     "metadata": {},
     "output_type": "execute_result"
    }
   ],
   "source": [
    "def combinations(*args):\n",
    "    n = 1\n",
    "    \n",
    "    for i in args:\n",
    "        n *= i\n",
    "        \n",
    "    return n\n",
    "\n",
    "print(combinations(2, 3))\n",
    "\n",
    "print(combinations(3, 7, 4))\n",
    "\n",
    "print(combinations(2, 3, 4, 5))\n",
    "6"
   ]
  },
  {
   "cell_type": "code",
   "execution_count": null,
   "metadata": {},
   "outputs": [],
   "source": [
    "3. Create a function that takes a string as an argument and returns the Morse code equivalent."
   ]
  },
  {
   "cell_type": "code",
   "execution_count": null,
   "metadata": {},
   "outputs": [],
   "source": [
    "xamples\n",
    "\n",
    "encode_morse(\"EDABBIT CHALLENGE\") ➞ \". -.. .- -... -... .. - -.-. .... .- .-.. .-.. . -. --. .\"\n",
    "\n",
    "encode_morse(\"HELP ME !\") ➞ \".... . .-.. .--. -- . -.-.--\"\n",
    "\n",
    "This dictionary can be used for coding:\n",
    "\n",
    "char_to_dots = { 'A': '.-', 'B': '-...', 'C': '-.-.', 'D': '-..', 'E': '.', 'F': '..-.', 'G': '--.', 'H': '....', 'I': '..', 'J': '.---', 'K': '-.-', 'L': '.-..', 'M': '--', 'N': '-.', 'O': '---', 'P': '.--.', 'Q': '--.-', 'R': '.-.', 'S': '...', 'T': '-', 'U': '..-', 'V': '...-', 'W': '.--', 'X': '-..-', 'Y': '-.--', 'Z': '--..', ' ': ' ', '0': '-----', '1': '.----', '2': '..---', '3': '...--', '4': '....-', '5': '.....', '6': '-....', '7': '--...', '8': '---..', '9': '----.', '&': '.-...', \"'\": '.----.', '@': '.--.-.', ')': '-.--.-', '(': '-.--.', ':': '---...', ',': '--..--', '=': '-...-', '!': '-.-.--', '.': '.-.-.-', '-': '-....-', '+': '.-.-.', '\"': '.-..-.', '?': '..--..', '/': '-..-.' }"
   ]
  },
  {
   "cell_type": "code",
   "execution_count": 3,
   "metadata": {},
   "outputs": [
    {
     "name": "stdout",
     "output_type": "stream",
     "text": [
      " . -.. .- -... -... .. - -.-. .... .- .-.. .-.. . -. --. .\n",
      " .... . .-.. .--. -- . -.-.--\n"
     ]
    }
   ],
   "source": [
    "def encode_morse(s):\n",
    "    char_to_dots = { 'A': '.-', 'B': '-...', 'C': '-.-.', 'D': '-..', 'E': '.', 'F': '..-.', 'G': '--.', 'H': '....', 'I': '..', 'J': '.---', 'K': '-.-', 'L': '.-..', 'M': '--', 'N': '-.', 'O': '---', 'P': '.--.', 'Q': '--.-', 'R': '.-.', 'S': '...', 'T': '-', 'U': '..-', 'V': '...-', 'W': '.--', 'X': '-..-', 'Y': '-.--', 'Z': '--..', ' ': ' ', '0': '-----', '1': '.----', '2': '..---', '3': '...--', '4': '....-', '5': '.....', '6': '-....', '7': '--...', '8': '---..', '9': '----.', '&': '.-...', \"'\": '.----.', '@': '.--.-.', ')': '-.--.-', '(': '-.--.', ':': '---...', ',': '--..--', '=': '-...-', '!': '-.-.--', '.': '.-.-.-', '-': '-....-', '+': '.-.-.', '\"': '.-..-.', '?': '..--..', '/': '-..-.' }\n",
    "    result = \"\"\n",
    "    \n",
    "    for letter in s:\n",
    "        if letter != ' ':\n",
    "            result += ' ' + char_to_dots[letter]\n",
    "        \n",
    "    return result    \n",
    "\n",
    "print(encode_morse(\"EDABBIT CHALLENGE\"))\n",
    "print(encode_morse(\"HELP ME !\"))"
   ]
  },
  {
   "cell_type": "code",
   "execution_count": null,
   "metadata": {},
   "outputs": [],
   "source": [
    "4. Write a function that takes a number and returns True if it's a prime; False otherwise. The number can be 2^64-1 (2 to the power of 63, not XOR). With the standard technique it would be O(2^64-1), which is much too large for the 10 second time limit."
   ]
  },
  {
   "cell_type": "code",
   "execution_count": null,
   "metadata": {},
   "outputs": [],
   "source": [
    "Examples\n",
    "\n",
    "prime(7) ➞ True\n",
    "\n",
    "prime(56963) ➞ True\n",
    "\n",
    "prime(5151512515524) ➞ False"
   ]
  },
  {
   "cell_type": "code",
   "execution_count": 4,
   "metadata": {},
   "outputs": [
    {
     "name": "stdout",
     "output_type": "stream",
     "text": [
      "True\n",
      "True\n",
      "False\n"
     ]
    }
   ],
   "source": [
    "def prime(n):\n",
    "    if n == 1:\n",
    "        return False\n",
    "    if n == 2:\n",
    "        return True\n",
    "    else:\n",
    "        for i in range(2,n):\n",
    "            if n % i == 0:\n",
    "                return False\n",
    "            return True\n",
    "\n",
    "print(prime(11))\n",
    "print(prime(56963))\n",
    "print(prime(1234)) "
   ]
  },
  {
   "cell_type": "code",
   "execution_count": null,
   "metadata": {},
   "outputs": [],
   "source": [
    "5. Create a function that converts a word to a bitstring and then to a boolean list based on the following criteria:"
   ]
  },
  {
   "cell_type": "code",
   "execution_count": null,
   "metadata": {},
   "outputs": [],
   "source": [
    "1. Locate the position of the letter in the English alphabet (from 1 to 26).\n",
    "\n",
    "2. Odd positions will be represented as 1 and 0 otherwise.\n",
    "\n",
    "3. Convert the represented positions to boolean values, 1 for True and 0 for False.\n",
    "\n",
    "4. Store the conversions into an array.\n"
   ]
  },
  {
   "cell_type": "code",
   "execution_count": null,
   "metadata": {},
   "outputs": [],
   "source": [
    "Examples\n",
    "\n",
    "to_boolean_list(\"deep\") ➞ [False, True, True, False]\n",
    "\n",
    "deep converts to 0110\n",
    "\n",
    "d is the 4th alphabet - 0 e is the 5th alphabet - 1 e is the 5th alphabet - 1 p is the 16th alphabet - 0\n",
    "\n",
    "to_boolean_list(\"loves\") ➞ [False, True, False, True, True]\n",
    "\n",
    "to_boolean_list(\"tesh\") ➞ [False, True, True, False]"
   ]
  },
  {
   "cell_type": "code",
   "execution_count": 5,
   "metadata": {},
   "outputs": [
    {
     "name": "stdout",
     "output_type": "stream",
     "text": [
      "[False, True, False, True, True]\n",
      "[False, True, True, False]\n",
      "[False, True, True, False]\n"
     ]
    }
   ],
   "source": [
    "def to_boolean(s):\n",
    "    char_list = list(map(chr,range(97,123)))\n",
    "    boolean_list = []\n",
    "    \n",
    "    for letter in s.lower():\n",
    "        if (char_list.index(letter) + 1) % 2 == 0:\n",
    "            boolean_list.append(False)\n",
    "        else:\n",
    "            boolean_list.append(True)\n",
    "            \n",
    "    return boolean_list\n",
    "\n",
    "print(to_boolean(\"loves\"))\n",
    "print(to_boolean(\"tesh\"))\n",
    "print(to_boolean(\"deep\"))"
   ]
  },
  {
   "cell_type": "code",
   "execution_count": null,
   "metadata": {},
   "outputs": [],
   "source": [
    "Programming_Assignment_3\n",
    "1. Create a function to perform basic arithmetic operations that includes addition, subtraction, multiplication and division on a string number (e.g. \"12 + 24\" or \"23 - 21\" or \"12 // 12\" or \"12 * 21\")."
   ]
  },
  {
   "cell_type": "code",
   "execution_count": null,
   "metadata": {},
   "outputs": [],
   "source": [
    "Here, we have 1 followed by a space, operator followed by another space and 2. For the challenge, we are going to have only two numbers between 1 valid operator. The return value should be a number. eval() is not allowed. In case of division, whenever the second number equals \"0\" return -1.\n",
    "\n",
    "For example:\n",
    "\n",
    "\"15 // 0\" ➞ -1\n",
    "\n",
    "Examples\n",
    "\n",
    "arithmetic_operation(\"12 + 12\") ➞ 24 // 12 + 12 = 24\n",
    "\n",
    "arithmetic_operation(\"12 - 12\") ➞ 24 // 12 - 12 = 0\n",
    "\n",
    "arithmetic_operation(\"12 12\") ➞ 144 // 12 12 = 144\n",
    "\n",
    "arithmetic_operation(\"12 // 0\") ➞ -1 // 12 / 0 = -1"
   ]
  },
  {
   "cell_type": "code",
   "execution_count": 6,
   "metadata": {},
   "outputs": [
    {
     "name": "stdout",
     "output_type": "stream",
     "text": [
      "24\n",
      "0\n",
      "144\n",
      "1.0\n",
      "-1\n"
     ]
    }
   ],
   "source": [
    "def arithmetic_operation(s):\n",
    "    l = s.split()\n",
    "    l1 = list(map(int,l[0:3:2]))\n",
    "    if l[1] == '+':\n",
    "         return l1[0] + l1[1]\n",
    "    elif l[1] == '-':\n",
    "         return l1[0] - l1[1]\n",
    "    elif l[1] == '*':\n",
    "         return l1[0] * l1[1]\n",
    "    else:\n",
    "        if l1[1] == 0:\n",
    "            return -1\n",
    "        else:\n",
    "            return l1[0] / l1[1]\n",
    "            \n",
    "\n",
    "print(arithmetic_operation(\"12 + 12\"))\n",
    "print(arithmetic_operation(\"12 - 12\"))\n",
    "print(arithmetic_operation(\"12 * 12\"))\n",
    "print(arithmetic_operation(\"12 / 12\"))\n",
    "print(arithmetic_operation(\"12 / 0\"))"
   ]
  },
  {
   "cell_type": "code",
   "execution_count": null,
   "metadata": {},
   "outputs": [],
   "source": [
    "2. Write a function that takes the coordinates of three points in the form of a 2d array and returns the perimeter of the triangle. The given points are the vertices of a triangle on a two-dimensional plane."
   ]
  },
  {
   "cell_type": "code",
   "execution_count": null,
   "metadata": {},
   "outputs": [],
   "source": [
    "Examples\n",
    "\n",
    "perimeter( [ [15, 7], [5, 22], [11, 1] ] ) ➞ 47.08\n",
    "\n",
    "perimeter( [ [0, 0], [0, 1], [1, 0] ] ) ➞ 3.42\n",
    "\n",
    "perimeter( [ [-10, -10], [10, 10 ], [-10, 10] ] ) ➞ 68.28"
   ]
  },
  {
   "cell_type": "code",
   "execution_count": 7,
   "metadata": {},
   "outputs": [
    {
     "name": "stdout",
     "output_type": "stream",
     "text": [
      "47.08\n",
      "3.41\n",
      "68.28\n"
     ]
    }
   ],
   "source": [
    "import math\n",
    "def distance(xA,yA,xB,yB):\n",
    "    return math.sqrt((xA-xB)*(xA-xB)+(yA-yB)*(yA-yB))\n",
    "\n",
    "def perimeter(l):\n",
    "    return round(distance(l[0][0],l[0][1],l[1][0],l[1][1])+distance(l[0][0],l[0][1],l[2][0],l[2][1])+distance(l[2][0],l[2][1],l[1][0],l[1][1]),2)\n",
    "\n",
    "print(perimeter( [ [15, 7], [5, 22], [11, 1] ] ))\n",
    "print(perimeter(  [ [0, 0], [0, 1], [1, 0] ] ))\n",
    "print(perimeter([[-10, -10],[10, 10 ],[-10, 10]]))"
   ]
  },
  {
   "cell_type": "code",
   "execution_count": null,
   "metadata": {},
   "outputs": [],
   "source": [
    "3. A city skyline can be represented as a 2-D list with 1s representing buildings. In the example below, the height of the tallest building is 4 (second-most right column)."
   ]
  },
  {
   "cell_type": "code",
   "execution_count": null,
   "metadata": {},
   "outputs": [],
   "source": [
    "[[0, 0, 0, 0, 0, 0], [0, 0, 0, 0, 1, 0], [0, 0, 1, 0, 1, 0], [0, 1, 1, 1, 1, 0], [1, 1, 1, 1, 1, 1]]\n",
    "\n",
    "Create a function that takes a skyline (2-D list of 0's and 1's) and returns the height of the tallest skyscraper.\n",
    "\n",
    "Examples\n",
    "\n",
    "tallest_skyscraper([ [0, 0, 0, 0], [0, 1, 0, 0], [0, 1, 1, 0], [1, 1, 1, 1] ]) ➞ 3\n",
    "\n",
    "tallest_skyscraper([ [0, 1, 0, 0], [0, 1, 0, 0], [0, 1, 1, 0], [1, 1, 1, 1] ]) ➞ 4\n",
    "\n",
    "tallest_skyscraper([ [0, 0, 0, 0], [0, 0, 0, 0], [1, 1, 1, 0], [1, 1, 1, 1] ]) ➞ 2"
   ]
  },
  {
   "cell_type": "code",
   "execution_count": 8,
   "metadata": {},
   "outputs": [
    {
     "name": "stdout",
     "output_type": "stream",
     "text": [
      "3\n",
      "4\n",
      "2\n"
     ]
    }
   ],
   "source": [
    "import numpy as np\n",
    "\n",
    "def tallest_skyscraper(l):\n",
    "    arr = np.array(l)\n",
    "    height =[]\n",
    "    for i in range(len(arr)):\n",
    "        height.append((arr[:,i] == 1).sum())\n",
    "    \n",
    "    return max(height)\n",
    "print(tallest_skyscraper([ [0, 0, 0, 0], [0, 1, 0, 0], [0, 1, 1, 0], [1, 1, 1, 1] ]))\n",
    "print(tallest_skyscraper([ [0, 1, 0, 0], [0, 1, 0, 0], [0, 1, 1, 0], [1, 1, 1, 1] ]))\n",
    "\n",
    "print(tallest_skyscraper([\n",
    "  [0, 0, 0, 0],\n",
    "  [0, 0, 0, 0],\n",
    "  [1, 1, 1, 0],\n",
    "  [1, 1, 1, 1]\n",
    "]))"
   ]
  },
  {
   "cell_type": "code",
   "execution_count": null,
   "metadata": {},
   "outputs": [],
   "source": [
    "4. A financial institution provides professional services to banks and claims charges from the customers based on the number of man-days provided. Internally, it has set a scheme to motivate and reward staff to meet and exceed targeted billable utilization and revenues by paying a bonus for each day claimed from customers in excess of a threshold target."
   ]
  },
  {
   "cell_type": "code",
   "execution_count": null,
   "metadata": {},
   "outputs": [],
   "source": [
    "This quarterly scheme is calculated with a threshold target of 32 days per quarter, and the incentive payment for each billable day in excess of such threshold target is shown as follows:\n",
    "\n",
    "Days Bonus\n",
    "\n",
    "0 to 32 days Zero\n",
    "\n",
    "33 to 40 days SGD$325 per billable day\n",
    "\n",
    "41 to 48 days SGD$550 per billable day\n",
    "\n",
    "Greater than 48 days SGD$600 per billable day\n",
    "\n",
    "Please note that incentive payment is calculated progressively. As an example, if an employee reached total billable days of 45 in a quarter, his/her incentive payment is computed as follows:\n",
    "\n",
    "32 0 + 8 325 + 5 * 550 = 5350\n",
    "\n",
    "Write a function to read the billable days of an employee and return the bonus he/she has obtained in that quarter.\n",
    "\n",
    "Examples\n",
    "\n",
    "bonus(15) ➞ 0\n",
    "\n",
    "bonus(37) ➞ 1625\n",
    "\n",
    "bonus(50) ➞ 8200"
   ]
  },
  {
   "cell_type": "code",
   "execution_count": 9,
   "metadata": {},
   "outputs": [
    {
     "name": "stdout",
     "output_type": "stream",
     "text": [
      "0\n",
      "1625\n",
      "8200\n"
     ]
    }
   ],
   "source": [
    "def bonus(days):\n",
    "    if days < 32:\n",
    "        return 0\n",
    "    \n",
    "    elif days > 32 and days < 41:\n",
    "        return (days-32) * 325\n",
    "    \n",
    "    elif days > 40 and days < 49:\n",
    "        return 8 * 325 + (days - 40) * 550\n",
    "    \n",
    "    elif days > 48:\n",
    "        return 8 * 325 + 8 * 550 + (days - 48) * 600\n",
    "    \n",
    "print(bonus(15))\n",
    "print(bonus(37))\n",
    "print(bonus(50))    "
   ]
  },
  {
   "cell_type": "code",
   "execution_count": null,
   "metadata": {},
   "outputs": [],
   "source": [
    "5. A number is said to be Disarium if the sum of its digits raised to their respective positions is the number itself."
   ]
  },
  {
   "cell_type": "code",
   "execution_count": null,
   "metadata": {},
   "outputs": [],
   "source": [
    "Create a function that determines whether a number is a Disarium or not.\n",
    "\n",
    "Examples\n",
    "\n",
    "is_disarium(75) ➞ False 7^1 + 5^2 = 7 + 25 = 32\n",
    "\n",
    "is_disarium(135) ➞ True 1^1 + 3^2 + 5^3 = 1 + 9 + 125 = 135\n",
    "\n",
    "is_disarium(544) ➞ False\n",
    "\n",
    "is_disarium(518) ➞ True\n",
    "\n",
    "is_disarium(466) ➞ False\n",
    "\n",
    "is_disarium(8) ➞ True"
   ]
  },
  {
   "cell_type": "code",
   "execution_count": 10,
   "metadata": {},
   "outputs": [
    {
     "name": "stdout",
     "output_type": "stream",
     "text": [
      "False\n",
      "True\n",
      "False\n",
      "True\n",
      "False\n",
      "True\n"
     ]
    }
   ],
   "source": [
    "def is_disarium(n):\n",
    "    sum1 = 0 \n",
    "    l = list(map(int,str(n)))\n",
    "    for i in range(0,len(l)):\n",
    "        sum1 += l[i]**(i+1)\n",
    "\n",
    "    if sum1 == n:\n",
    "        return True\n",
    "    else:\n",
    "        return False\n",
    "    \n",
    "print(is_disarium(75))\n",
    "print(is_disarium(135))\n",
    "print(is_disarium(544))\n",
    "print(is_disarium(518))\n",
    "print(is_disarium(466))\n",
    "print(is_disarium(8))"
   ]
  },
  {
   "cell_type": "code",
   "execution_count": null,
   "metadata": {},
   "outputs": [],
   "source": [
    "Programming_Assignment_4\n"
   ]
  },
  {
   "cell_type": "code",
   "execution_count": null,
   "metadata": {},
   "outputs": [],
   "source": [
    "ANS-1"
   ]
  },
  {
   "cell_type": "code",
   "execution_count": 11,
   "metadata": {},
   "outputs": [
    {
     "name": "stdout",
     "output_type": "stream",
     "text": [
      "5\n",
      "55\n",
      "6765\n"
     ]
    }
   ],
   "source": [
    "def fib_fast(n):\n",
    "    if n == 0:\n",
    "        return 0\n",
    "    if n == 1 or n == 2:\n",
    "        return 1\n",
    "    if n > 1:\n",
    "        return fib_fast(n-1) + fib_fast(n-2)\n",
    "    \n",
    "print(fib_fast(5))\n",
    "print(fib_fast(10))\n",
    "print(fib_fast(20))"
   ]
  },
  {
   "cell_type": "code",
   "execution_count": null,
   "metadata": {},
   "outputs": [],
   "source": [
    "2. Create a function that takes a strings characters as ASCII and returns each characters hexadecimal value as a string."
   ]
  },
  {
   "cell_type": "code",
   "execution_count": null,
   "metadata": {},
   "outputs": [],
   "source": [
    "Examples\n",
    "\n",
    "convert_to_hex(\"hello world\") ➞ \"68 65 6c 6c 6f 20 77 6f 72 6c 64\"\n",
    "\n",
    "convert_to_hex(\"Big Boi\") ➞ \"42 69 67 20 42 6f 69\"\n",
    "\n",
    "convert_to_hex(\"Marty Poppinson\") ➞ \"4d 61 72 74 79 20 50 6f 70 70 69 6e 73 6f 6e\""
   ]
  },
  {
   "cell_type": "code",
   "execution_count": 12,
   "metadata": {},
   "outputs": [
    {
     "name": "stdout",
     "output_type": "stream",
     "text": [
      "68 65 6c 6c 6f 20 77 6f 72 6c 64\n",
      "42 69 67 20 42 6f 69\n",
      "4d 61 72 74 79 20 50 6f 70 70 69 6e 73 6f 6e\n"
     ]
    }
   ],
   "source": [
    "def convert_to_hex(s):\n",
    "    s = s.encode('utf-8')\n",
    "    return s.hex(' ')\n",
    "\n",
    "print(convert_to_hex(\"hello world\"))\n",
    "print(convert_to_hex(\"Big Boi\"))\n",
    "print(convert_to_hex(\"Marty Poppinson\"))"
   ]
  },
  {
   "cell_type": "code",
   "execution_count": null,
   "metadata": {},
   "outputs": [],
   "source": [
    "3. Someone has attempted to censor my strings by replacing every vowel with a , lk ths. Luckily, I've been able to find the vowels that were removed."
   ]
  },
  {
   "cell_type": "code",
   "execution_count": null,
   "metadata": {},
   "outputs": [],
   "source": [
    "Given a censored string and a string of the censored vowels, return the original uncensored string.\n",
    "\n",
    "Example\n",
    "\n",
    "uncensor(\"Whr dd my vwls g?\", \"eeioeo\") ➞ \"Where did my vowels go?\"\n",
    "\n",
    "uncensor(\"abcd\", \"\") ➞ \"abcd\"\n",
    "\n",
    "uncensor(\"PPRCS\", \"UEAE\") ➞ \"UPPERCASE\""
   ]
  },
  {
   "cell_type": "code",
   "execution_count": 13,
   "metadata": {},
   "outputs": [
    {
     "name": "stdout",
     "output_type": "stream",
     "text": [
      "Where did my vowels go?\n",
      "abcd\n",
      "UPPERCASE\n"
     ]
    }
   ],
   "source": [
    "def uncensor(s,s1):\n",
    "    i = 0 \n",
    "    \n",
    "    for letter in s:\n",
    "        if letter == '*':\n",
    "            s = s.replace('*', s1[i],1)\n",
    "            i += 1\n",
    "    return s\n",
    "\n",
    "print(uncensor(\"Wh*r* d*d my v*w*ls g*?\", \"eeioeo\"))\n",
    "print(uncensor(\"abcd\", \"\"))\n",
    "print(uncensor(\"*PP*RC*S*\", \"UEAE\"))"
   ]
  },
  {
   "cell_type": "code",
   "execution_count": null,
   "metadata": {},
   "outputs": [],
   "source": [
    "4. Write a function that takes an IP address and returns the domain name using PTR DNS records."
   ]
  },
  {
   "cell_type": "code",
   "execution_count": null,
   "metadata": {},
   "outputs": [],
   "source": [
    "Example\n",
    "\n",
    "get_domain(\"8.8.8.8\") ➞ \"dns.google\"\n",
    "\n",
    "get_domain(\"8.8.4.4\") ➞ \"dns.google\""
   ]
  },
  {
   "cell_type": "code",
   "execution_count": 14,
   "metadata": {},
   "outputs": [
    {
     "name": "stdout",
     "output_type": "stream",
     "text": [
      "dns.google\n",
      "dns.google\n",
      "ineuron.interactivedns.com\n"
     ]
    }
   ],
   "source": [
    "import socket\n",
    "\n",
    "def get_domain(ip_address):\n",
    "    return socket.gethostbyaddr(ip_address)[0]\n",
    "\n",
    "print(get_domain(\"8.8.8.8\"))\n",
    "print(get_domain(\"8.8.4.4\"))\n",
    "print(get_domain(\"172.105.51.234\"))"
   ]
  },
  {
   "cell_type": "code",
   "execution_count": null,
   "metadata": {},
   "outputs": [],
   "source": [
    "5. Create a function that takes an integer n and returns the factorial of factorials. See below examples for a better understanding:"
   ]
  },
  {
   "cell_type": "code",
   "execution_count": null,
   "metadata": {},
   "outputs": [],
   "source": [
    "Examples\n",
    "\n",
    "fact_of_fact(4) ➞ 288\n",
    "\n",
    "4! 3! 2! * 1! = 288\n",
    "fact_of_fact(5) ➞ 34560\n",
    "\n",
    "fact_of_fact(6) ➞ 24883200\n",
    "\n"
   ]
  },
  {
   "cell_type": "code",
   "execution_count": 15,
   "metadata": {},
   "outputs": [
    {
     "name": "stdout",
     "output_type": "stream",
     "text": [
      "288\n",
      "34560\n",
      "24883200\n"
     ]
    }
   ],
   "source": [
    "def fact(n):\n",
    "    if n == 0 or n == 1:\n",
    "        return 1\n",
    "    \n",
    "    else:\n",
    "        return n * fact(n-1)\n",
    "    \n",
    "def fact_of_fact(n):\n",
    "    result = 1\n",
    "    while n > 1:\n",
    "        result *= fact(n)\n",
    "        n -= 1\n",
    "    return result   \n",
    "\n",
    "print(fact_of_fact(4)) \n",
    "print(fact_of_fact(5))\n",
    "print(fact_of_fact(6))"
   ]
  },
  {
   "cell_type": "code",
   "execution_count": null,
   "metadata": {},
   "outputs": [],
   "source": [
    "Programming_Assignment_5\n",
    "1. Create a function that takes a number n (integer greater than zero) as an argument, and returns 2 if n is odd and 8 if n is even."
   ]
  },
  {
   "cell_type": "code",
   "execution_count": null,
   "metadata": {},
   "outputs": [],
   "source": [
    "You can only use the following arithmetic operators: addition of numbers +, subtraction of numbers -, multiplication of number *, division of number /, and exponentiation **.\n",
    "\n",
    "You are not allowed to use any other methods in this challenge (i.e. no if statements, comparison operators, etc).\n",
    "\n",
    "Examples\n",
    "\n",
    "f(1) ➞ 2\n",
    "\n",
    "f(2) ➞ 8\n",
    "\n",
    "f(3) ➞ 2"
   ]
  },
  {
   "cell_type": "code",
   "execution_count": 16,
   "metadata": {},
   "outputs": [
    {
     "name": "stdout",
     "output_type": "stream",
     "text": [
      "2\n",
      "8\n",
      "2\n"
     ]
    }
   ],
   "source": [
    "def f(n):\n",
    "    n = n/2\n",
    "    b = n - int(n)\n",
    "    d = {0.5:2, 0.0:8}\n",
    "    return (d[b])\n",
    "\n",
    "print(f(1))\n",
    "print(f(2))\n",
    "print(f(3))"
   ]
  },
  {
   "cell_type": "code",
   "execution_count": null,
   "metadata": {},
   "outputs": [],
   "source": [
    "2. Create a function that returns the majority vote in a list. A majority vote is an element that occurs > N/2 times in a list (where N is the length of the list).\n",
    "Examples\n",
    "\n",
    "majority_vote([\"A\", \"A\", \"B\"]) ➞ \"A\"\n",
    "\n",
    "majority_vote([\"A\", \"A\", \"A\", \"B\", \"C\", \"A\"]) ➞ \"A\"\n",
    "\n",
    "majority_vote([\"A\", \"B\", \"B\", \"A\", \"C\", \"C\"]) ➞ None"
   ]
  },
  {
   "cell_type": "code",
   "execution_count": 17,
   "metadata": {},
   "outputs": [
    {
     "name": "stdout",
     "output_type": "stream",
     "text": [
      "A\n",
      "A\n",
      "None\n"
     ]
    }
   ],
   "source": [
    "def majority_vote(l):\n",
    "    \n",
    "    N = len(l)\n",
    "    for item in l:\n",
    "        if l.count(item) > (N/2):\n",
    "            return item\n",
    "        else:\n",
    "            return 'None'\n",
    "\n",
    "print(majority_vote([\"A\", \"A\", \"B\"]))  \n",
    "print(majority_vote([\"A\", \"A\", \"A\", \"B\", \"C\", \"A\"]))\n",
    "print(majority_vote([\"A\", \"B\", \"B\", \"A\", \"C\", \"C\"]))"
   ]
  },
  {
   "cell_type": "code",
   "execution_count": null,
   "metadata": {},
   "outputs": [],
   "source": [
    "3. Create a function that takes a string txt and censors any word from a given list lst. The text removed must be replaced by the given character char.\n",
    "Examples\n",
    "\n",
    "censor_string(\"Today is a Wednesday!\", [\"Today\", \"a\"], \"-\") ➞ \"----- is - Wednesday!\"\n",
    "\n",
    "censor_string(\"The cow jumped over the moon.\", [\"cow\", \"over\"], \"\"), \"The ** jumped ** the moon.\")\n",
    "\n",
    "censor_string(\"Why did the chicken cross the road?\", [\"Did\", \"chicken\", \"road\"], \"\") ➞ \"Why ** the *** cross the **?\""
   ]
  },
  {
   "cell_type": "code",
   "execution_count": 18,
   "metadata": {},
   "outputs": [
    {
     "name": "stdout",
     "output_type": "stream",
     "text": [
      "----- is - wednesday!\n",
      "the *** jumped **** the moon.\n",
      "why *** the ******* cross the ****\n"
     ]
    }
   ],
   "source": [
    "def censor_string(s,l,s1):\n",
    "    l = [i.lower() for i in l]\n",
    "    s = s.lower().rstrip('?')\n",
    "    for word in s.split(' '):\n",
    "        if word in l:\n",
    "            s = s.replace(word,s1 * len(word),1)\n",
    "    return s    \n",
    "\n",
    "print(censor_string(\"Today is a Wednesday!\", [\"Today\", \"a\"], \"-\"))\n",
    "print(censor_string(\"The cow jumped over the moon.\", [\"cow\", \"over\"], \"*\"))\n",
    "print(censor_string(\"Why did the chicken cross the road?\", [\"Did\", \"chicken\", \"road\"], \"*\"))"
   ]
  },
  {
   "cell_type": "code",
   "execution_count": null,
   "metadata": {},
   "outputs": [],
   "source": [
    "4. In mathematics a Polydivisible Number (or magic number) is a number in a given number base with digits abcde... that has the following properties:\n",
    "Its first digit a is not 0.\n",
    "The number formed by its first two digits ab is a multiple of 2.\n",
    "The number formed by its first three digits abc is a multiple of 3.\n",
    "The number formed by its first four digits abcd is a multiple of 4.\n",
    "Create a function which takes an integer n and returns True if the given number is a Polydivisible Number and False otherwise.\n",
    "\n",
    "Examples\n",
    "\n",
    "is_polydivisible(1232) ➞ True\n",
    "\n",
    "1 / 1 = 1\n",
    "\n",
    "12 / 2 = 6\n",
    "\n",
    "123 / 3 = 41\n",
    "\n",
    "1232 / 4 = 308\n",
    "\n",
    "is_polydivisible(123220 ) ➞ False 1 / 1 = 1\n",
    "\n",
    "12 / 2 = 6\n",
    "\n",
    "123 / 3 = 41\n",
    "\n",
    "1232 / 4 = 308\n",
    "\n",
    "12322 / 5 = 2464.4 # Not a Whole Number\n",
    "\n",
    "123220 /6 = 220536.333... # Not a Whole Number"
   ]
  },
  {
   "cell_type": "code",
   "execution_count": 19,
   "metadata": {},
   "outputs": [
    {
     "name": "stdout",
     "output_type": "stream",
     "text": [
      "True\n",
      "True\n",
      "True\n",
      "True\n",
      "False\n",
      "False\n"
     ]
    }
   ],
   "source": [
    "def is_polydivisible(n):\n",
    "    n1 = str(n)\n",
    "\n",
    "    if n % len(n1) == 0:\n",
    "        return True\n",
    "    else:\n",
    "        return False\n",
    "    \n",
    "print(is_polydivisible(1))    \n",
    "print(is_polydivisible(12))    \n",
    "print(is_polydivisible(123))    \n",
    "print(is_polydivisible(1232))    \n",
    "print(is_polydivisible(12322))\n",
    "print(is_polydivisible(123220))"
   ]
  },
  {
   "cell_type": "code",
   "execution_count": null,
   "metadata": {},
   "outputs": [],
   "source": [
    "5. Create a function that takes a list of numbers and returns the sum of all prime numbers in the list.\n",
    "Examples\n",
    "\n",
    "sum_primes([1, 2, 3, 4, 5, 6, 7, 8, 9, 10]) ➞ 17\n",
    "\n",
    "sum_primes([2, 3, 4, 11, 20, 50, 71]) ➞ 87\n",
    "\n",
    "sum_primes([]) ➞ None"
   ]
  },
  {
   "cell_type": "code",
   "execution_count": 21,
   "metadata": {},
   "outputs": [
    {
     "name": "stdout",
     "output_type": "stream",
     "text": [
      "17\n",
      "87\n",
      "None\n"
     ]
    }
   ],
   "source": [
    "def sum_primes(l):\n",
    "    sum1 = 0 \n",
    "    flag = 0\n",
    "    if l:\n",
    "        for n in l:\n",
    "            if n == 2:\n",
    "                sum1 += n\n",
    "            elif n > 2:            \n",
    "                for i in range(2,n):\n",
    "                    if n % i == 0:\n",
    "                        break\n",
    "                else:\n",
    "                    sum1 += n\n",
    "        return sum1\n",
    "    else:\n",
    "        return None\n",
    "\n",
    "print(sum_primes([1, 2, 3, 4, 5, 6, 7, 8, 9, 10]))\n",
    "print(sum_primes([2, 3, 4, 11, 20, 50, 71]))\n",
    "print(sum_primes([]))"
   ]
  },
  {
   "cell_type": "code",
   "execution_count": null,
   "metadata": {},
   "outputs": [],
   "source": [
    "Programming_Assignment_6\n",
    "1. You are given two strings s and t. String t is generated by randomly shuffling string s and then adding one more letter at a random position. Return the letter that was added to t.\n",
    "Examples\n",
    "\n",
    "find_the_difference(\"abcd\", \"abcde\") ➞ \"e\"\n",
    "\n",
    "find_the_difference(\"\", \"y\") ➞ \"y\"\n",
    "\n",
    "find_the_difference(\"ae\", \"aea\") ➞ \"a\""
   ]
  },
  {
   "cell_type": "code",
   "execution_count": null,
   "metadata": {},
   "outputs": [],
   "source": [
    "ef find_the_difference(s, t):\n",
    "    if len(t) > len(s):\n",
    "        return t[-1]\n",
    "\n",
    "print(find_the_difference(\"abcd\",\"abcde\"))\n",
    "print(find_the_difference(\"\",\"y\"))\n",
    "print(find_the_difference(\"ae\", \"aea\"))"
   ]
  },
  {
   "cell_type": "code",
   "execution_count": null,
   "metadata": {},
   "outputs": [],
   "source": [
    "2. Given a function that accepts unlimited arguments, check and count how many data types are in those arguments. Finally return the total in a list.\n",
    "List order is:\n",
    "\n",
    "[int, str, bool, list, tuple, dictionary]\n",
    "\n",
    "Examples\n",
    "\n",
    "count_datatypes(1, 45, \"Hi\", False) ➞ [2, 1, 1, 0, 0, 0]\n",
    "\n",
    "count_datatypes([10, 20], (\"t\", \"Ok\"), 2, 3, 1) ➞ [3, 0, 0, 1, 1, 0]\n",
    "\n",
    "count_datatypes(\"Hello\", \"Bye\", True, True, False, {\"1\": \"One\", \"2\": \"Two\"}, [1, 3], {\"Brayan\": 18}, 25, 23) ➞ [2, 2, 3, 1, 0, 2]\n",
    "\n",
    "count_datatypes(4, 21, (\"ES\", \"EN\"), (\"a\", \"b\"), False, [1, 2, 3], [4, 5, 6]) ➞ [2, 0, 1, 2, 2, 0]"
   ]
  },
  {
   "cell_type": "code",
   "execution_count": 24,
   "metadata": {},
   "outputs": [
    {
     "name": "stdout",
     "output_type": "stream",
     "text": [
      "[2, 1, 1, 0, 0, 0]\n",
      "[3, 0, 0, 1, 1, 0]\n",
      "[2, 2, 3, 1, 0, 2]\n",
      "[2, 0, 1, 2, 2, 0]\n"
     ]
    }
   ],
   "source": [
    "def count_datatypes(*args):\n",
    "    #int, str, bool, list, tuple, dict\n",
    "    l = [0,0,0,0,0,0] \n",
    "    for item in args:\n",
    "        if type(item) == int:\n",
    "            l[0] += 1\n",
    "        if type(item) == str:\n",
    "            l[1] += 1\n",
    "        if type(item) == bool:\n",
    "            l[2] += 1\n",
    "        if type(item) == list:\n",
    "            l[3] += 1\n",
    "        if type(item) == tuple:\n",
    "            l[4] += 1\n",
    "        if type(item) == dict:\n",
    "            l[5] += 1\n",
    "    return l\n",
    "\n",
    "print(count_datatypes(1, 45, \"Hi\", False)  )\n",
    "print(count_datatypes([10, 20], (\"t\", \"Ok\"), 2, 3, 1) )\n",
    "print(count_datatypes(\"Hello\", \"Bye\", True, True, False, {\"1\": \"One\", \"2\": \"Two\"}, [1, 3], {\"Brayan\": 18}, 25, 23))\n",
    "print(count_datatypes(4, 21, (\"ES\", \"EN\"), (\"a\", \"b\"), False, [1, 2, 3], [4, 5, 6]))"
   ]
  },
  {
   "cell_type": "code",
   "execution_count": null,
   "metadata": {},
   "outputs": [],
   "source": [
    "3. A Fibonacci string is a precedence of the Fibonacci series. It works with any two characters of the English alphabet (as opposed to the numbers 0 and 1 in the Fibonacci series) as the initial items and concatenates them together as it progresses in a similar fashion as the Fibonacci series.\n",
    "Examples\n",
    "\n",
    "fib_str(3, [\"j\", \"h\"]) ➞ \"j, h, hj\"\n",
    "\n",
    "fib_str(5, [\"e\", \"a\"]) ➞ \"e, a, ae, aea, aeaae\"\n",
    "\n",
    "fib_str(6, [\"n\", \"k\"]) ➞ \"n, k, kn, knk, knkkn, knkknknk\""
   ]
  },
  {
   "cell_type": "code",
   "execution_count": 25,
   "metadata": {},
   "outputs": [
    {
     "name": "stdout",
     "output_type": "stream",
     "text": [
      "j,h,hj\n",
      "e,a,ae,aea,aeaae\n",
      "n,k,kn,knk,knkkn,knkknknk\n"
     ]
    }
   ],
   "source": [
    "def fib_str(n,l):\n",
    "    new_str = l[0] + ',' + l[1]\n",
    "    \n",
    "    while len(new_str.split(',')) < n:\n",
    "        s2 = l[1] + l[0]\n",
    "        new_str += ',' +s2\n",
    "        l[1], l[0] = s2, l[1]\n",
    "\n",
    "    return new_str\n",
    "\n",
    "print(fib_str(3, [\"j\", \"h\"]))\n",
    "print(fib_str(5, [\"e\", \"a\"]))\n",
    "print(fib_str(6, [\"n\", \"k\"]))"
   ]
  },
  {
   "cell_type": "code",
   "execution_count": null,
   "metadata": {},
   "outputs": [],
   "source": [
    "4. Given an integer between 0 and 26, make a variable (self.answer). That variable would be assigned to a string in this format:\n",
    "\"nines:your answer, threes:your answer, ones:your answer\"\n",
    "\n",
    "You need to find out how many ones, threes, and nines it would at least take for the number of each to add up to the given integer when multiplied by one, three or nine (depends).\n",
    "\n",
    "Examples\n",
    "\n",
    "ones_threes_nines(10) ➞ \"nines:1, threes:0, ones:1\"\n",
    "\n",
    "ones_threes_nines(15) ➞ \"nines:1, threes:2, ones:0\"\n",
    "\n",
    "ones_threes_nines(22) ➞ \"nines:2, threes:1, ones:1\""
   ]
  },
  {
   "cell_type": "code",
   "execution_count": 26,
   "metadata": {},
   "outputs": [
    {
     "name": "stdout",
     "output_type": "stream",
     "text": [
      "{'nines': 1, 'threes': 0, 'ones': 1}\n",
      "{'nines': 1, 'threes': 2, 'ones': 0}\n",
      "{'nines': 2, 'threes': 1, 'ones': 1}\n"
     ]
    }
   ],
   "source": [
    "def ones_thress_nines(n):\n",
    "    l = []\n",
    "    d = {'nines':0 , 'threes':0 , 'ones' : 0}\n",
    "    for i in range(0,26):\n",
    "        for j in range(0,26):\n",
    "            for k in range(0,26):\n",
    "                if n == (9 * i + 3 * j + 1 * k):\n",
    "                    t = (i,j,k)\n",
    "                    l.append(t)\n",
    "    d['nines'] = l[-1][0]\n",
    "    d['threes'] = l[-1][1]\n",
    "    d['ones'] = l[-1][2]\n",
    "    return d\n",
    "print(ones_thress_nines(10))\n",
    "print(ones_thress_nines(15))\n",
    "print(ones_thress_nines(22))"
   ]
  },
  {
   "cell_type": "code",
   "execution_count": null,
   "metadata": {},
   "outputs": [],
   "source": [
    "5. The Fibonacci sequence is a classic use case for recursive functions since the value of the sequence at a given index is dependent on the sum of the last two values. However, the recursion tree created by solving the Fibonacci sequence recursively can grow quite fast. Therefore it can be important to think about the implications of running a function recursively. Depending on the size of n needed and the capabilities of the system in question you might want to take a different approach.\n",
    "Write a non-recursive function that takes an integer n and returns the Fibonacci sequence's value at index n.\n",
    "\n",
    "Examples\n",
    "\n",
    "fib(6) ➞ 8\n",
    "\n",
    "0 + 1 = 1, 1 + 1 = 2, 1 + 2 = 3, 2 + 3 = 5, 3 + 5 = 8\n",
    "fib(1) ➞ 1\n",
    "\n",
    "fib(2) ➞ 1"
   ]
  },
  {
   "cell_type": "code",
   "execution_count": 27,
   "metadata": {},
   "outputs": [
    {
     "name": "stdout",
     "output_type": "stream",
     "text": [
      "8\n"
     ]
    }
   ],
   "source": [
    "def fib(n): # 0,1,1,2,3,5,8,13\n",
    "    i = 0\n",
    "    n0 = 0\n",
    "    n1 = 1\n",
    "    while i <= n-2:\n",
    "        n2 = n0 + n1\n",
    "        n0, n1 = n1, n2\n",
    "        i += 1\n",
    "    return n2\n",
    "\n",
    "print(fib(6))"
   ]
  },
  {
   "cell_type": "code",
   "execution_count": null,
   "metadata": {},
   "outputs": [],
   "source": [
    "Programming_Assignment_7\n",
    "1. Write a function that counts how many concentric layers a rug.\n",
    "Examples\n",
    "\n",
    "count_layers([ \"AAAA\", \"ABBA\", \"AAAA\" ]) ➞ 2\n",
    "\n",
    "count_layers([ \"AAAAAAAAA\", \"ABBBBBBBA\", \"ABBAAABBA\", \"ABBBBBBBA\", \"AAAAAAAAA\" ]) ➞ 3\n",
    "\n",
    "count_layers([ \"AAAAAAAAAAA\", \"AABBBBBBBAA\", \"AABCCCCCBAA\", \"AABCAAACBAA\", \"AABCADACBAA\", \"AABCAAACBAA\", \"AABCCCCCBAA\", \"AABBBBBBBAA\", \"AAAAAAAAAAA\" ]) ➞ 5"
   ]
  },
  {
   "cell_type": "code",
   "execution_count": 30,
   "metadata": {},
   "outputs": [
    {
     "name": "stdout",
     "output_type": "stream",
     "text": [
      "2\n",
      "3\n",
      "5\n"
     ]
    }
   ],
   "source": [
    "import numpy as np\n",
    "\n",
    "def count_layers(arr):\n",
    "    arr1 = np.unique(arr)\n",
    "    return arr1.size\n",
    "\n",
    "print(count_layers([ \"AAAA\", \"ABBA\", \"AAAA\" ]))\n",
    "print(count_layers([ \"AAAAAAAAA\", \"ABBBBBBBA\", \"ABBAAABBA\", \"ABBBBBBBA\", \"AAAAAAAAA\" ]) )\n",
    "print(count_layers([ \"AAAAAAAAAAA\", \"AABBBBBBBAA\", \"AABCCCCCBAA\", \"AABCAAACBAA\", \"AABCADACBAA\", \"AABCAAACBAA\", \"AABCCCCCBAA\", \"AABBBBBBBAA\", \"AAAAAAAAAAA\"])) "
   ]
  },
  {
   "cell_type": "code",
   "execution_count": null,
   "metadata": {},
   "outputs": [],
   "source": [
    "2. There are many different styles of music and many albums exhibit multiple styles. Create a function that takes a list of musical styles from albums and returns how many styles are unique.\n",
    "Examples\n",
    "\n",
    "unique_styles([ \"Dub,Dancehall\", \"Industrial,Heavy Metal\", \"Techno,Dubstep\", \"Synth-pop,Euro-Disco\", \"Industrial,Techno,Minimal\" ]) ➞ 9\n",
    "\n",
    "unique_styles([ \"Soul\", \"House,Folk\", \"Trance,Downtempo,Big Beat,House\", \"Deep House\", \"Soul\" ]) ➞ 7"
   ]
  },
  {
   "cell_type": "code",
   "execution_count": 31,
   "metadata": {},
   "outputs": [
    {
     "name": "stdout",
     "output_type": "stream",
     "text": [
      "9\n",
      "7\n"
     ]
    }
   ],
   "source": [
    "import numpy as np\n",
    "\n",
    "def unique_styles(l):\n",
    "    l1 = []\n",
    "    for item in l:\n",
    "        item = item.split(',')\n",
    "        for j in item:\n",
    "            l1.append(j) \n",
    "    \n",
    "    return len(set(l1))\n",
    "        \n",
    "        \n",
    "print(unique_styles([ \"Dub,Dancehall\", \"Industrial,Heavy Metal\", \"Techno,Dubstep\", \"Synth-pop,Euro-Disco\", \"Industrial,Techno,Minimal\" ]))\n",
    "print(unique_styles([ \"Soul\", \"House,Folk\", \"Trance,Downtempo,Big Beat,House\", \"Deep House\", \"Soul\" ]) )"
   ]
  },
  {
   "cell_type": "code",
   "execution_count": null,
   "metadata": {},
   "outputs": [],
   "source": [
    "3. Create a function that finds a target number in a list of prime numbers. Implement a binary search algorithm in your function. The target number will be from 2 through 97. If the target is prime then return \"yes\" else return \"no\".\n",
    "Examples\n",
    "\n",
    "primes = [2, 3, 5, 7, 11, 13, 17, 19, 23, 29, 31, 37, 41, 43, 47, 53, 59, 61, 67, 71, 73, 79, 83, 89, 97]\n",
    "\n",
    "is_prime(primes, 3) ➞ \"yes\"\n",
    "\n",
    "is_prime(primes, 4) ➞ \"no\"\n",
    "\n",
    "is_prime(primes, 67) ➞ \"yes\"\n",
    "\n",
    "is_prime(primes, 36) ➞ \"no\""
   ]
  },
  {
   "cell_type": "code",
   "execution_count": 32,
   "metadata": {},
   "outputs": [
    {
     "name": "stdout",
     "output_type": "stream",
     "text": [
      "yes\n",
      "no\n",
      "yes\n",
      "no\n"
     ]
    }
   ],
   "source": [
    "def bin_search(l,low, high,key):\n",
    "\n",
    "    if high >= low:\n",
    "        mid = int ((low + high) / 2)\n",
    "    \n",
    "        if key == l[mid]:\n",
    "            return mid\n",
    "    \n",
    "        if l[mid] > key:\n",
    "            return bin_search(l,low,mid - 1, key)\n",
    "        \n",
    "        else:\n",
    "            return bin_search(l, mid+1,high, key)\n",
    "        \n",
    "    else:\n",
    "        return -1\n",
    "def is_prime(primes,n):\n",
    "    if n in range(2,97):\n",
    "        result = bin_search(sorted(primes), 0, len(primes), n)\n",
    "        \n",
    "        if result > 0:\n",
    "            return 'yes'\n",
    "        else:\n",
    "            return 'no'\n",
    "    else:\n",
    "        return 'Elemnet is not in the list primes'\n",
    "primes = [2, 3, 5, 7, 11, 13, 17, 19, 23, 29, 31, 37, 41, 43, 47, 53, 59, 61, 67, 71, 73, 79, 83, 89, 97]\n",
    "\n",
    "print(is_prime(primes, 3))\n",
    "print(is_prime(primes, 4))\n",
    "print(is_prime(primes, 67))\n",
    "print(is_prime(primes, 36))"
   ]
  },
  {
   "cell_type": "code",
   "execution_count": null,
   "metadata": {},
   "outputs": [],
   "source": [
    "4. Create a function that takes in n, a, b and returns the number of positive values raised to the nth power that lie in the range [a, b], inclusive."
   ]
  },
  {
   "cell_type": "code",
   "execution_count": null,
   "metadata": {},
   "outputs": [],
   "source": [
    "Examples\n",
    "\n",
    "power_ranger(2, 49, 65) ➞ 2"
   ]
  },
  {
   "cell_type": "code",
   "execution_count": null,
   "metadata": {},
   "outputs": [],
   "source": [
    "2 squares (n^2) lie between 49 and 65, 49 (7^2) and 64 (8^2)"
   ]
  },
  {
   "cell_type": "code",
   "execution_count": null,
   "metadata": {},
   "outputs": [],
   "source": [
    "power_ranger(3, 1, 27) ➞ 3"
   ]
  },
  {
   "cell_type": "code",
   "execution_count": null,
   "metadata": {},
   "outputs": [],
   "source": [
    "3 cubes (n^3) lie between 1 and 27, 1 (1^3), 8 (2^3) and 27 (3^3)"
   ]
  },
  {
   "cell_type": "code",
   "execution_count": null,
   "metadata": {},
   "outputs": [],
   "source": [
    "power_ranger(10, 1, 5) ➞ 1"
   ]
  },
  {
   "cell_type": "code",
   "execution_count": null,
   "metadata": {},
   "outputs": [],
   "source": [
    "1 value raised to the 10th power lies between 1 and 5, 1 (1^10)\n",
    "power_ranger(5, 31, 33) ➞ 1\n",
    "\n",
    "power_ranger(4, 250, 1300) ➞ 3"
   ]
  },
  {
   "cell_type": "code",
   "execution_count": 33,
   "metadata": {},
   "outputs": [
    {
     "name": "stdout",
     "output_type": "stream",
     "text": [
      "2\n",
      "3\n",
      "1\n",
      "1\n",
      "3\n"
     ]
    }
   ],
   "source": [
    "def power_ranger(n,a,b):\n",
    "    count = 0\n",
    "    a1 = int(a**(1/n))\n",
    "    b1 = int(b**(1/n))\n",
    "    for i in range(a1,b1+1):\n",
    "        if i**n in range(a,b+1):\n",
    "            count += 1\n",
    "    return count\n",
    "\n",
    "print(power_ranger(2,49,65))\n",
    "print(power_ranger(3, 1, 27))\n",
    "print(power_ranger(10, 1, 5))\n",
    "print(power_ranger(5,31,33))    \n",
    "print(power_ranger(4,250,1300))    "
   ]
  },
  {
   "cell_type": "code",
   "execution_count": null,
   "metadata": {},
   "outputs": [],
   "source": [
    "5. Given a number, return the difference between the maximum and minimum numbers that can be formed when the digits are rearranged."
   ]
  },
  {
   "cell_type": "code",
   "execution_count": null,
   "metadata": {},
   "outputs": [],
   "source": [
    "Examples\n",
    "\n",
    "rearranged_difference(972882) ➞ 760833\n",
    "\n",
    "988722 - 227889 = 760833\n",
    "rearranged_difference(3320707) ➞ 7709823\n",
    "\n",
    "7733200 - 23377 = 7709823\n",
    "rearranged_difference(90010) ➞ 90981\n",
    "\n",
    "91000 - 19 = 90981"
   ]
  },
  {
   "cell_type": "code",
   "execution_count": 34,
   "metadata": {},
   "outputs": [
    {
     "name": "stdout",
     "output_type": "stream",
     "text": [
      "760833\n",
      "7709823\n",
      "90981\n"
     ]
    }
   ],
   "source": [
    "def rearranged_difference(n):\n",
    "    n = str(n)\n",
    "    nl,nh = '', ''\n",
    "   \n",
    "    n_high = sorted(n, reverse = True)\n",
    "    n_low = sorted(n)\n",
    "    \n",
    "    for i in n_low:\n",
    "        nl += ''.join(i)\n",
    "    for j in n_high:\n",
    "        nh += ''.join(j)\n",
    "    return int(nh) - int(nl)\n",
    "    \n",
    "print(rearranged_difference(972882))\n",
    "print(rearranged_difference(3320707))\n",
    "print(rearranged_difference(90010))"
   ]
  },
  {
   "cell_type": "code",
   "execution_count": null,
   "metadata": {},
   "outputs": [],
   "source": [
    "Programming_Assignment_8\n",
    "1. Given a sentence as txt, return True if any two adjacent words have this property: One word ends with a vowel, while the word immediately after begins with a vowel (a e i o u)."
   ]
  },
  {
   "cell_type": "code",
   "execution_count": null,
   "metadata": {},
   "outputs": [],
   "source": [
    "Examples\n",
    "\n",
    "vowel_links(\"a very large appliance\") ➞ True\n",
    "\n",
    "vowel_links(\"go to edabit\") ➞ True\n",
    "\n",
    "vowel_links(\"an open fire\") ➞ False\n",
    "\n",
    "vowel_links(\"a sudden applause\") ➞ False"
   ]
  },
  {
   "cell_type": "code",
   "execution_count": 35,
   "metadata": {},
   "outputs": [
    {
     "name": "stdout",
     "output_type": "stream",
     "text": [
      "True\n",
      "True\n",
      "False\n",
      "False\n"
     ]
    }
   ],
   "source": [
    "def vowel_links(s):\n",
    "    l = s.split()\n",
    "    for i in range(len(l)-1):\n",
    "        if (l[i][-1] in [\"a\",\"i\",\"e\",\"o\",\"u\"]) and (l[i+1][0] in [\"a\",\"i\",\"e\",\"o\",\"u\"]):\n",
    "            return True\n",
    "    else:\n",
    "        return False\n",
    "        \n",
    "print(vowel_links(\"a very large appliance\"))\n",
    "print(vowel_links(\"go to edabit\"))\n",
    "print(vowel_links(\"an open fire\"))\n",
    "print(vowel_links(\"a sudden applause\"))"
   ]
  },
  {
   "cell_type": "code",
   "execution_count": null,
   "metadata": {},
   "outputs": [],
   "source": [
    "2. You are given three inputs: a string, one letter, and a second letter.\n",
    "Write a function that returns True if every instance of the first letter occurs before every instance of the second letter.\n",
    "\n",
    "Examples\n",
    "\n",
    "first_before_second(\"a rabbit jumps joyfully\", \"a\", \"j\") ➞ True"
   ]
  },
  {
   "cell_type": "code",
   "execution_count": null,
   "metadata": {},
   "outputs": [],
   "source": [
    "Every instance of \"a\" occurs before every instance of \"j\".\n",
    "first_before_second(\"knaves knew about waterfalls\", \"k\", \"w\") ➞ True\n",
    "\n",
    "first_before_second(\"happy birthday\", \"a\", \"y\") ➞ False\n",
    "\n",
    "The \"a\" in \"birthday\" occurs after the \"y\" in \"happy\".\n",
    "first_before_second(\"precarious kangaroos\", \"k\", \"a\") ➞ False"
   ]
  },
  {
   "cell_type": "code",
   "execution_count": 36,
   "metadata": {},
   "outputs": [
    {
     "name": "stdout",
     "output_type": "stream",
     "text": [
      "True\n",
      "True\n",
      "False\n",
      "False\n"
     ]
    }
   ],
   "source": [
    "def first_before_second(s,first_letter,second_letter):\n",
    "    if s.rfind(first_letter) < s.find(second_letter):\n",
    "        return True\n",
    "    else:\n",
    "        return False\n",
    "    \n",
    "print(first_before_second(\"a rabbit jumps joyfully\",\"a\",\"j\"))\n",
    "print(first_before_second(\"knaves knew about waterfalls\", \"k\", \"w\"))\n",
    "print(first_before_second(\"happy birthday\", \"a\", \"y\"))\n",
    "print(first_before_second(\"precarious kangaroos\", \"k\", \"a\"))"
   ]
  },
  {
   "cell_type": "code",
   "execution_count": null,
   "metadata": {},
   "outputs": [],
   "source": [
    "3. Create a function that returns the characters from a list or string r on odd or even positions, depending on the specifier s. The specifier will be \"odd\" for items on odd positions (1, 3, 5, ...) and \"even\" for items on even positions (2, 4, 6, ...).\n",
    "Examples\n",
    "\n",
    "char_at_pos([2, 4, 6, 8, 10], \"even\") ➞ [4, 8]\n",
    "\n",
    "4 & 8 occupy the 2nd & 4th positions\n",
    "char_at_pos(\"EDABIT\", \"odd\") ➞ \"EAI\"\n",
    "\n",
    "\"E\", \"A\" and \"I\" occupy the 1st, 3rd and 5th positions\n",
    "char_at_pos([\"A\", \"R\", \"B\", \"I\", \"T\", \"R\", \"A\", \"R\", \"I\", \"L\", \"Y\"], \"odd\") ➞ [\"A\", \"B\", \"T\", \"A\", \"I\", \"Y\"]"
   ]
  },
  {
   "cell_type": "code",
   "execution_count": 37,
   "metadata": {},
   "outputs": [
    {
     "name": "stdout",
     "output_type": "stream",
     "text": [
      "[4, 8]\n",
      "['E', 'A', 'I']\n",
      "['A', 'B', 'T', 'A', 'I', 'Y']\n"
     ]
    }
   ],
   "source": [
    "def char_at_pos(l,s):\n",
    "    if s == 'even':\n",
    "        return [l[i] for i in range(len(l)) if (i+1) % 2 == 0]\n",
    "    elif s == 'odd':\n",
    "        return [l[i] for i in range(len(l)) if (i+1) % 2 != 0]\n",
    "\n",
    "print(char_at_pos([2, 4, 6, 8, 10], \"even\"))   \n",
    "print(char_at_pos(\"EDABIT\", \"odd\"))\n",
    "print(char_at_pos([\"A\", \"R\", \"B\", \"I\", \"T\", \"R\", \"A\", \"R\", \"I\", \"L\", \"Y\"], \"odd\"))"
   ]
  },
  {
   "cell_type": "code",
   "execution_count": null,
   "metadata": {},
   "outputs": [],
   "source": [
    "4. Write a function that returns the greatest common divisor of all list elements. If the greatest common divisor is 1, return 1.\n",
    "Examples\n",
    "\n",
    "GCD([10, 20, 40]) ➞ 10\n",
    "\n",
    "GCD([1, 2, 3, 100]) ➞ 1\n",
    "\n",
    "GCD([1024, 192, 2048, 512]) ➞ 64"
   ]
  },
  {
   "cell_type": "code",
   "execution_count": 38,
   "metadata": {},
   "outputs": [
    {
     "name": "stdout",
     "output_type": "stream",
     "text": [
      "10\n",
      "1\n",
      "64\n"
     ]
    }
   ],
   "source": [
    "import math \n",
    "\n",
    "def GCD(numbers):\n",
    "    res = numbers[0]\n",
    "    for i in range(1,len(numbers)):\n",
    "        res = math.gcd(numbers[i],res)\n",
    "    return res\n",
    "\n",
    "print(GCD([10, 20, 40]))\n",
    "print(GCD([1, 2, 3, 100]))\n",
    "print(GCD([1024, 192, 2048, 512]))"
   ]
  },
  {
   "cell_type": "code",
   "execution_count": 40,
   "metadata": {},
   "outputs": [],
   "source": [
    "5. A number/string is a palindrome if the digits/characters are the same when read both forward and backward. Examples include \"racecar\" and 12321. Given a positive number n, check if n or the binary representation of n is palindromic. Return the following:\n",
    "\"Decimal only.\" if only n is a palindrome.\n",
    "\"Binary only.\" if only the binary representation of n is a palindrome.\n",
    "\"Decimal and binary.\" if both are palindromes.\n",
    "\"Neither!\" if neither are palindromes.\n",
    "Examples\n",
    "\n",
    "palindrome_type(1306031) ➞ \"Decimal only.\"\n",
    "\n",
    "decimal = 1306031\n",
    "binary = \"100111110110110101111\"\n",
    "palindrome_type(427787) ➞ \"Binary only.\"\n",
    "\n",
    "decimal = 427787\n",
    "binary = \"1101000011100001011\"\n",
    "palindrome_type(313) ➞ \"Decimal and binary.\"\n",
    "\n",
    "decimal = 313\n",
    "binary = 100111001\n",
    "palindrome_type(934) ➞ \"Neither!\"\n",
    "\n",
    "decimal = 934\n",
    "binary = \"1110100110\""
   ]
  },
  {
   "cell_type": "code",
   "execution_count": 41,
   "metadata": {},
   "outputs": [
    {
     "name": "stdout",
     "output_type": "stream",
     "text": [
      "Decimal only\n",
      "Binary only\n",
      "Decimal and binary.\n",
      "Neither!\n"
     ]
    }
   ],
   "source": [
    "def palindrome_type(n):\n",
    "    type1 = '' \n",
    "    if bin(n).lstrip('0b') == bin(n).lstrip('0b')[::-1]:\n",
    "        type1 += \"Binary only\"\n",
    "    if str(n) == str(n)[::-1]:\n",
    "        type1 += \"Decimal only\"\n",
    "    \n",
    "    if type1 == \"Binary onlyDecimal only\":\n",
    "        return  \"Decimal and binary.\"\n",
    "    elif type1 == '':\n",
    "        return \"Neither!\"\n",
    "    else:\n",
    "        return type1\n",
    "    \n",
    "print(palindrome_type(1306031))\n",
    "print(palindrome_type(427787))\n",
    "print(palindrome_type(313))\n",
    "print(palindrome_type(934))"
   ]
  },
  {
   "cell_type": "code",
   "execution_count": 43,
   "metadata": {},
   "outputs": [],
   "source": [
    "Programming_Assignment_9\n",
    "1. YouTube offers different playback speed options for users. This allows users to increase or decrease the speed of the video content. Given the actual duration and playback speed of the video, calculate the playback duration of the video.\n",
    "#Examples\n",
    "\n",
    "playback_duration(\"00:30:00\", 2) ➞ \"00:15:00\"\n",
    "\n",
    "playback_duration(\"01:20:00\", 1.5) ➞ \"00:53:20\"\n",
    "\n",
    "playback_duration(\"51:20:09\", 0.5) ➞ \"102:40:18\""
   ]
  },
  {
   "cell_type": "code",
   "execution_count": 44,
   "metadata": {},
   "outputs": [
    {
     "name": "stdout",
     "output_type": "stream",
     "text": [
      "00:15:00\n",
      "00:53:20\n",
      "102:40:18\n"
     ]
    }
   ],
   "source": [
    "import math\n",
    "import datetime\n",
    "\n",
    "def conversion(time):\n",
    "    day = time // (24 * 3600)\n",
    "    time = time % (24 * 3600)\n",
    "    hour = time // 3600\n",
    "    if day > 1:\n",
    "        hour = (day * 24) +hour\n",
    "    time %= 3600\n",
    "    minutes = time // 60\n",
    "    time %= 60\n",
    "    seconds = time\n",
    "    return \"%02d:%02d:%02d\" % ( hour, minutes, seconds)\n",
    "\n",
    "def playback_duration(time, speed):\n",
    "    time = time.split(':')\n",
    "    hours = int(time[0])\n",
    "    minutes = int(time[1])\n",
    "    seconds = int(time[2])\n",
    "\n",
    "    total_seconds = hours * 3600 + minutes * 60 + seconds\n",
    "    total_seconds = total_seconds/ speed\n",
    "    return conversion(total_seconds)\n",
    "\n",
    "print(playback_duration(\"00:30:00\", 2))\n",
    "print(playback_duration(\"01:20:00\", 1.5))\n",
    "print(playback_duration(\"51:20:09\", 0.5))"
   ]
  },
  {
   "cell_type": "code",
   "execution_count": null,
   "metadata": {},
   "outputs": [],
   "source": [
    "2. We needs your help to construct a building which will be a pile of n cubes. The cube at the bottom will have a volume of n^3, the cube above will have volume of (n-1)^3 and so on until the top which will have a volume of 1^3.\n",
    "Given the total volume m of the building, can you find the number of cubes n required for the building?\n",
    "\n",
    "In other words, you have to return an integer n such that:\n",
    "\n",
    "n^3 + (n-1)^3 + ... + 1^3 == m\n",
    "\n",
    "Return None if there is no such number.\n",
    "\n",
    "Examples\n",
    "\n",
    "pile_of_cubes(1071225) ➞ 45\n",
    "\n",
    "pile_of_cubes(4183059834009) ➞ 2022\n",
    "\n",
    "pile_of_cubes(16) ➞ None"
   ]
  },
  {
   "cell_type": "code",
   "execution_count": 45,
   "metadata": {},
   "outputs": [],
   "source": [
    "def pile_of_cubes(m):\n",
    "    i = 0\n",
    "    sum1 = 0\n",
    "    \n",
    "    while True:\n",
    "        sum1 = sum1 + (i)**3\n",
    "        if sum1 == m:\n",
    "            break\n",
    "        elif sum1 > m:\n",
    "            return \"None\"\n",
    "        i += 1\n",
    "        \n",
    "    return i"
   ]
  },
  {
   "cell_type": "code",
   "execution_count": null,
   "metadata": {},
   "outputs": [],
   "source": [
    "3. A fulcrum of a list is an integer such that all elements to the left of it and all elements to the right of it sum to the same value. Write a function that finds the fulcrum of a list.\n",
    "To illustrate:\n",
    "\n",
    "find_fulcrum([3, 1, 5, 2, 4, 6, -1]) ➞ 2 // Since [3, 1, 5] and [4, 6, -1] both sum to 9\n",
    "\n",
    "Examples\n",
    "\n",
    "find_fulcrum([1, 2, 4, 9, 10, -10, -9, 3]) ➞ 4\n",
    "\n",
    "find_fulcrum([9, 1, 9]) ➞ 1\n",
    "\n",
    "find_fulcrum([7, -1, 0, -1, 1, 1, 2, 3]) ➞ 0\n",
    "\n",
    "find_fulcrum([8, 8, 8, 8]) ➞ -1"
   ]
  },
  {
   "cell_type": "code",
   "execution_count": 46,
   "metadata": {},
   "outputs": [
    {
     "name": "stdout",
     "output_type": "stream",
     "text": [
      "4\n",
      "1\n",
      "0\n",
      "None\n"
     ]
    }
   ],
   "source": [
    "def find_fulcrum(l):\n",
    "    for i in range(1,len(l)):\n",
    "        if sum(l[:i]) == sum(l[i+1:]):\n",
    "            return l[i]\n",
    "        \n",
    "            \n",
    "        \n",
    "        \n",
    "print(find_fulcrum([1, 2, 4, 9, 10, -10, -9, 3]))        \n",
    "print(find_fulcrum([9,1,9]))\n",
    "print(find_fulcrum([7, -1, 0, -1, 1, 1, 2, 3]))\n",
    "print(find_fulcrum([8, 8, 8, 8]))"
   ]
  },
  {
   "cell_type": "code",
   "execution_count": null,
   "metadata": {},
   "outputs": [],
   "source": [
    "4. Given a list of integers representing the color of each sock, determine how many pairs of socks with matching colors there are. For example, there are 7 socks with colors [1, 2, 1, 2, 1, 3, 2]. There is one pair of color 1 and one of color 2. There are three odd socks left, one of each color. The number of pairs is 2.\n",
    "Create a function that returns an integer representing the number of matching pairs of socks that are available.\n",
    "\n",
    "Examples\n",
    "\n",
    "sock_merchant([10, 20, 20, 10, 10, 30, 50, 10, 20]) ➞ 3\n",
    "\n",
    "sock_merchant([50, 20, 30, 90, 30, 20, 50, 20, 90]) ➞ 4\n",
    "\n",
    "sock_merchant([]) ➞ 0"
   ]
  },
  {
   "cell_type": "code",
   "execution_count": 51,
   "metadata": {},
   "outputs": [],
   "source": [
    "    count = 0\n",
    "    i1 = list(set(l))\n",
    "    for i in l1:\n",
    "        count += (l.count(i) // 2)\n",
    "\n",
    "    return count     \n",
    "\n",
    "print(sock_merchant([10, 20, 20, 10, 10, 30, 50, 10, 20]))\n",
    "print(sock_merchant([50, 20, 30, 90, 30, 20, 50, 20, 90]))\n",
    "print(sock_merchant([]))"
   ]
  },
  {
   "cell_type": "code",
   "execution_count": null,
   "metadata": {},
   "outputs": [],
   "source": [
    "5. Create a function that takes a string containing integers as well as other characters and return the sum of the negative integers only.\n",
    "Examples\n",
    "\n",
    "negative_sum(\"-12 13%14&-11\") ➞ -23\n",
    "\n",
    "-12 + -11 = -23\n",
    "negative_sum(\"22 13%14&-11-22 13 12\") ➞ -33\n",
    "\n",
    "-11 + -22 = -33"
   ]
  },
  {
   "cell_type": "code",
   "execution_count": 48,
   "metadata": {},
   "outputs": [
    {
     "name": "stdout",
     "output_type": "stream",
     "text": [
      "-23\n",
      "-33\n"
     ]
    }
   ],
   "source": [
    "def negative_sum(s):\n",
    "    l = s.split('-')\n",
    "    res = 0\n",
    "    for i in range(1,len(l)):\n",
    "        l[i] = l[i].split()\n",
    "        res += int(l[i][0])\n",
    "\n",
    "    return -res\n",
    "\n",
    "print(negative_sum(\"-12 13%14&-11\"))\n",
    "print(negative_sum(\"22 13%14&-11-22 13 12\"))"
   ]
  },
  {
   "cell_type": "code",
   "execution_count": null,
   "metadata": {},
   "outputs": [],
   "source": [
    "Programming_Assignment_10\n",
    "1. Create a function that takes the width, height and character and returns a picture frame as a 2D list.\n",
    "Examples\n",
    "\n",
    "get_frame(4, 5, \"#\") ➞ [ [\"####\"], [\"# #\"], [\"# #\"], [\"# #\"], [\"####\"] ]\n",
    "\n",
    "Frame is 4 characters wide and 5 characters tall.\n",
    "get_frame(10, 3, \"\") ➞ [ [\"**\"], [\" *\"], [\"**\"] ]\n",
    "\n",
    "Frame is 10 characters and wide and 3 characters tall.\n",
    "get_frame(2, 5, \"0\") ➞ \"invalid\"\n",
    "\n",
    "Frame's width is not more than 2."
   ]
  },
  {
   "cell_type": "code",
   "execution_count": 52,
   "metadata": {},
   "outputs": [
    {
     "name": "stdout",
     "output_type": "stream",
     "text": [
      "[['####'], ['#  #'], ['#  #'], ['#  #'], ['####']]\n",
      "[['**********'], ['*        *'], ['**********']]\n",
      "[['++++++'], ['+    +'], ['+    +'], ['+    +'], ['+    +'], ['+    +'], ['++++++']]\n",
      "Invalid\n"
     ]
    }
   ],
   "source": [
    "def get_frame(w,t,char):\n",
    "    l = []\n",
    "    if w > 2:\n",
    "        for i in range(t):\n",
    "            l1 = []\n",
    "            if i == 0 or i == t-1:\n",
    "                l1.append(char*w)\n",
    "            else:\n",
    "                pattern = char + ' ' * (w-2) + char\n",
    "                l1.append(pattern)\n",
    "            l.append(l1)                \n",
    "        return l\n",
    "    else:\n",
    "        return 'Invalid'\n",
    "            \n",
    "print(get_frame(4,5,'#')) \n",
    "print(get_frame(10,3,'*'))\n",
    "print(get_frame(6,7,'+'))\n",
    "print(get_frame(2,5,'0'))"
   ]
  },
  {
   "cell_type": "code",
   "execution_count": null,
   "metadata": {},
   "outputs": [],
   "source": [
    "2. Write three functions:\n",
    "boolean_and\n",
    "boolean_or\n",
    "boolean_xor These functions should evaluate a list of True and False values, starting from the leftmost element and evaluating pairwise.\n",
    "Examples\n",
    "\n",
    "boolean_and([True, True, False, True]) ➞ False\n",
    "\n",
    "[True, True, False, True] => [True, False, True] => [False, True] => False\n",
    "boolean_or([True, True, False, False]) ➞ True\n",
    "\n",
    "[True, True, False, True] => [True, False, False] => [True, False] => True\n",
    "boolean_xor([True, True, False, False]) ➞ False\n",
    "\n",
    "[True, True, False, False] => [False, False, False] => [False, False] => False"
   ]
  },
  {
   "cell_type": "code",
   "execution_count": 53,
   "metadata": {},
   "outputs": [
    {
     "name": "stdout",
     "output_type": "stream",
     "text": [
      "False\n",
      "True\n",
      "False\n"
     ]
    }
   ],
   "source": [
    "def boolean_and(l):\n",
    "    res = True\n",
    "    i = 0\n",
    "    while i < len(l):\n",
    "        res = res and l[i]\n",
    "        l.pop(i)\n",
    "        l[0] = res\n",
    "        length = len(l)\n",
    "        i += 1\n",
    "    return l[0] and l[1]\n",
    "\n",
    "def boolean_or(l):\n",
    "    res = False\n",
    "    i = 0\n",
    "    while i < len(l):\n",
    "        res = res or l[i]\n",
    "        l.pop(i)\n",
    "        l[0] = res\n",
    "        length = len(l)\n",
    "        i += 1\n",
    "    return l[0] or l[1]\n",
    "\n",
    "def boolean_xor(l):\n",
    "    res = True\n",
    "    i = 0\n",
    "    while i < len(l):\n",
    "        res = res ^ l[i]\n",
    "        l.pop(i)\n",
    "        l[0] = res\n",
    "        length = len(l)\n",
    "        i += 1\n",
    "    return l[0] ^ l[1]\n",
    "\n",
    "print(boolean_and([False, True, False, True]) )        \n",
    "print(boolean_or([True, True, False, False])) \n",
    "print(boolean_xor([True, True, False, False]))"
   ]
  },
  {
   "cell_type": "code",
   "execution_count": null,
   "metadata": {},
   "outputs": [],
   "source": [
    "3. Create a function that creates a box based on dimension n.\n",
    "Examples\n",
    "\n",
    "make_box(5) ➞ [ \"#####\", \"# #\", \"# #\", \"# #\", \"#####\" ]\n",
    "\n",
    "make_box(3) ➞ [ \"###\", \"# #\", \"###\" ]\n",
    "\n",
    "make_box(2) ➞ [ \"##\", \"##\" ]\n",
    "\n",
    "make_box(1) ➞ [ \"#\" ]"
   ]
  },
  {
   "cell_type": "code",
   "execution_count": 54,
   "metadata": {},
   "outputs": [
    {
     "name": "stdout",
     "output_type": "stream",
     "text": [
      "Output is::\n",
      "['#####', '#   #', '#   #', '#   #', '#####']\n",
      "Output is::\n",
      "['###', '# #', '###']\n",
      "Output is::\n",
      "['##', '##']\n",
      "Output is::\n",
      "['#']\n"
     ]
    }
   ],
   "source": [
    "def make_box(n):\n",
    "    l = []\n",
    "    print('Output is::')\n",
    "    for i in range(n):\n",
    "        pattern = ''\n",
    "        if i == 0 or i == n-1:\n",
    "            pattern += '#'*n\n",
    "        else:\n",
    "            pattern += '#' + ' ' * (n-2) + '#'\n",
    "        l.append(pattern)    \n",
    "    return l\n",
    "\n",
    "print(make_box(5))\n",
    "print(make_box(3))\n",
    "print(make_box(2))\n",
    "print(make_box(1))"
   ]
  },
  {
   "cell_type": "code",
   "execution_count": null,
   "metadata": {},
   "outputs": [],
   "source": [
    "4. Given a common phrase, return False if any individual word in the phrase contains duplicate letters. Return True otherwise.\n",
    "Examples\n",
    "\n",
    "no_duplicate_letters(\"Fortune favours the bold.\") ➞ True\n",
    "\n",
    "no_duplicate_letters(\"You can lead a horse to water, but you can't make him drink.\") ➞ True\n",
    "\n",
    "no_duplicate_letters(\"Look before you leap.\") ➞ False\n",
    "Duplicate letters in \"Look\" and \"before\".\n",
    "no_duplicate_letters(\"An apple a day keeps the doctor away.\") ➞ False\n",
    "\n",
    "Duplicate letters in \"apple\", \"keeps\", \"doctor\", and \"away\"."
   ]
  },
  {
   "cell_type": "code",
   "execution_count": 55,
   "metadata": {},
   "outputs": [
    {
     "name": "stdout",
     "output_type": "stream",
     "text": [
      "True\n",
      "True\n",
      "False\n",
      "False\n"
     ]
    }
   ],
   "source": [
    "def no_duplicate_letters(s):\n",
    "    words = s.split()\n",
    "    for word in words:\n",
    "        for letter in word:\n",
    "            if word.count(letter) > 1:\n",
    "                return False\n",
    "\n",
    "    return True\n",
    "        \n",
    "print(no_duplicate_letters(\"Fortune favours the bold.\"))\n",
    "print(no_duplicate_letters(\"You can lead a horse to water, but you can't make him drink.\"))\n",
    "print(no_duplicate_letters(\"Look before you leap.\"))\n",
    "print(no_duplicate_letters(\"An apple a day keeps the doctor away.\"))"
   ]
  },
  {
   "cell_type": "code",
   "execution_count": null,
   "metadata": {},
   "outputs": [],
   "source": [
    "5. Write a regular expression that will match the states that voted yes to President Trump's impeachment. You must use RegEx positive lookahead.\n",
    "Example\n",
    "\n",
    "txt = \"Texas = no, California = yes, Florida = yes, Michigan = no\" pattern = \"yourregularexpressionhere\"\n",
    "\n",
    "re.findall(pattern, txt) ➞ [\"California\", \"Florida\"]"
   ]
  },
  {
   "cell_type": "code",
   "execution_count": 56,
   "metadata": {},
   "outputs": [
    {
     "name": "stdout",
     "output_type": "stream",
     "text": [
      "['California', 'Florida']\n"
     ]
    }
   ],
   "source": [
    "import re\n",
    "\n",
    "txt = \"Texas = no, California = yes, Florida = yes, Michigan = no\" \n",
    "\n",
    "pattern = r'[a-zA-Z]+(?= = yes)'\n",
    "\n",
    "match = re.findall(pattern, txt)\n",
    "\n",
    "print(match)"
   ]
  },
  {
   "cell_type": "code",
   "execution_count": null,
   "metadata": {},
   "outputs": [],
   "source": [
    "Programming_Assignment_12\n",
    "1. For this challenge, forget how to add two numbers together. The best explanation on what to do for this function is this meme:\n",
    "Examples\n",
    "\n",
    "meme_sum(26, 39) ➞ 515 #2+3 = 5, 6+9 = 15\n",
    "\n",
    "26 + 39 = 515\n",
    "meme_sum(122, 81) ➞ 1103 #1+0 = 1, 2+8 = 10, 2+1 = 3\n",
    "\n",
    "122 + 81 = 1103\n",
    "meme_sum(1222, 30277) ➞ 31499\n",
    "\n",
    "​"
   ]
  },
  {
   "cell_type": "code",
   "execution_count": 57,
   "metadata": {},
   "outputs": [
    {
     "name": "stdout",
     "output_type": "stream",
     "text": [
      "515\n",
      "1103\n",
      "31499\n",
      "213\n"
     ]
    }
   ],
   "source": [
    "def meme_sum(a,b):\n",
    "    a = str(a)\n",
    "    b = str(b)\n",
    "    sum1 = ''\n",
    "    \n",
    "    while True:\n",
    "        if len(a) < len(b):\n",
    "            a = '0'+a\n",
    "        elif len(b) < len(a):\n",
    "            b = '0'+b\n",
    "        else:\n",
    "            break\n",
    "    \n",
    "    for i in range(len(a)):\n",
    "        sum1 += str(int(a[i]) + int(b[i]))\n",
    "\n",
    "    return sum1\n",
    "\n",
    "print(meme_sum(26, 39))\n",
    "print(meme_sum(122,81))\n",
    "print(meme_sum(1222, 30277))\n",
    "print(meme_sum(10,203))"
   ]
  },
  {
   "cell_type": "code",
   "execution_count": null,
   "metadata": {},
   "outputs": [],
   "source": [
    "3. If a person traveled up a hill for 18mins at 20mph and then traveled back down the same path at 60mph then their average speed traveled was 30mph.\n",
    "Write a function that returns the average speed traveled given an uphill time, uphill rate and a downhill rate. Uphill time is given in minutes. Return the rate as an integer (mph). No rounding is necessary.\n",
    "\n",
    "Examples\n",
    "\n",
    "ave_spd(18, 20, 60) ➞ 30\n",
    "\n",
    "ave_spd(30, 10, 30) ➞ 15\n",
    "\n",
    "ave_spd(30, 8, 24) ➞ 12"
   ]
  },
  {
   "cell_type": "code",
   "execution_count": 58,
   "metadata": {},
   "outputs": [
    {
     "name": "stdout",
     "output_type": "stream",
     "text": [
      "30\n",
      "15\n",
      "12\n"
     ]
    }
   ],
   "source": [
    "# as distance is same, formula  is  2ab/a+b where a and b are two speeds\n",
    "\n",
    "def ave_spd(uphill_time, uphill_rate, downhill_rate):\n",
    "    return int(2 * uphill_rate * downhill_rate/ (uphill_rate + downhill_rate))\n",
    "\n",
    "print(ave_spd(18, 20, 60))\n",
    "print(ave_spd(30, 10, 30))\n",
    "print(ave_spd(30,8,24))"
   ]
  },
  {
   "cell_type": "code",
   "execution_count": null,
   "metadata": {},
   "outputs": [],
   "source": [
    "4. The Kempner Function, applied to a composite number, permits to find the smallest integer greater than zero whose factorial is exactly divided by the number.\n",
    "kempner(6) ➞ 3\n",
    "\n",
    "1! = 1 % 6 > 0 2! = 2 % 6 > 0 3! = 6 % 6 === 0\n",
    "\n",
    "kempner(10) ➞ 5\n",
    "\n",
    "1! = 1 % 10 > 0 2! = 2 % 10 > 0 3! = 6 % 10 > 0 4! = 24 % 10 > 0 5! = 120 % 10 === 0\n",
    "\n",
    "A Kempner Function applied to a prime will always return the prime itself.\n",
    "\n",
    "kempner(2) ➞ 2 kempner(5) ➞ 5\n",
    "\n",
    "Given an integer n, implement a Kempner Function.\n",
    "\n",
    "Examples\n",
    "\n",
    "kempner(6) ➞ 3\n",
    "\n",
    "kempner(10) ➞ 5\n",
    "\n",
    "kempner(2) ➞ 2"
   ]
  },
  {
   "cell_type": "code",
   "execution_count": 59,
   "metadata": {},
   "outputs": [
    {
     "name": "stdout",
     "output_type": "stream",
     "text": [
      "3\n",
      "5\n",
      "2\n"
     ]
    }
   ],
   "source": [
    "#n = 6\n",
    "\n",
    "def fact(n):\n",
    "    if n == 0 or n == 1:\n",
    "        return 1\n",
    "    else:\n",
    "        return n * fact(n-1)\n",
    "        \n",
    "def kempner(n):\n",
    "    for i in range(1,n+1):\n",
    "        if fact(i) % n == 0:\n",
    "            return i\n",
    "\n",
    "print(kempner(6))\n",
    "print(kempner(10))\n",
    "print(kempner(2))"
   ]
  },
  {
   "cell_type": "code",
   "execution_count": null,
   "metadata": {},
   "outputs": [],
   "source": [
    "5. You work in a factory, and your job is to take items from a conveyor belt and pack them into boxes. Each box can hold a maximum of 10 kgs. Given a list containing the weight (in kg) of each item, how many boxes would you need to pack all of the items?\n",
    "Example\n",
    "\n",
    "boxes([2, 1, 2, 5, 4, 3, 6, 1, 1, 9, 3, 2]) ➞ 5\n",
    "\n",
    "Box 1 = [2, 1, 2, 5] (10kg)\n",
    "Box 2 = [4, 3] (7kg)\n",
    "Box 3 = [6, 1, 1] (8kg)\n",
    "Box 4 = [9] (9kg)\n",
    "Box 5 = [3, 2] (5kg)"
   ]
  },
  {
   "cell_type": "code",
   "execution_count": 60,
   "metadata": {},
   "outputs": [
    {
     "name": "stdout",
     "output_type": "stream",
     "text": [
      "[[2, 1, 2, 5], [4, 3], [6, 1, 1], [9], [3, 2]]\n",
      "[[5, 1, 3], [6], [8, 2], [3, 1, 4, 2], [5], [6], [10]]\n"
     ]
    }
   ],
   "source": [
    "def boxes(l):\n",
    "    l1 =[]\n",
    "    box =[]\n",
    "    \n",
    "    for i in l:\n",
    "        box.append(i)\n",
    "        if sum(box) > 10:\n",
    "            box.pop()\n",
    "            l1.append(box)\n",
    "            box = []\n",
    "            box.append(i)\n",
    "            \n",
    "    l1.append(box)\n",
    "    return l1    \n",
    "\n",
    "print(boxes([2, 1, 2, 5, 4, 3, 6, 1, 1, 9, 3, 2]))\n",
    "print(boxes([5,1,3,6,8,2,3,1,4,2,5,6,10]))"
   ]
  },
  {
   "cell_type": "code",
   "execution_count": null,
   "metadata": {},
   "outputs": [],
   "source": [
    "Programming_Assignment_13\n",
    "1. Create a function that takes a list and string. The function should remove the letters in the string from the list, and return the list.\n",
    "Examples\n",
    "\n",
    "remove_letters([\"s\", \"t\", \"r\", \"i\", \"n\", \"g\", \"w\"], \"string\") ➞ [\"w\"]\n",
    "\n",
    "remove_letters([\"b\", \"b\", \"l\", \"l\", \"g\", \"n\", \"o\", \"a\", \"w\"], \"balloon\") ➞ [\"b\", \"g\", \"w\"]\n",
    "\n",
    "remove_letters([\"d\", \"b\", \"t\", \"e\", \"a\", \"i\"], \"edabit\") ➞ []"
   ]
  },
  {
   "cell_type": "code",
   "execution_count": 61,
   "metadata": {},
   "outputs": [
    {
     "name": "stdout",
     "output_type": "stream",
     "text": [
      "['w']\n",
      "['b', 'g', 'w']\n",
      "[]\n"
     ]
    }
   ],
   "source": [
    "def remove_letters(l,s):\n",
    "    i = 0\n",
    "    while True:\n",
    "        if len(s) == 0:\n",
    "            break\n",
    "        else:\n",
    "            if s[i] in l:\n",
    "                if s.count(s[i]) > 1 and(s.count(s[i]) != l.count(s[i])):\n",
    "                    l.remove(s[i])\n",
    "                    s = s.replace(s[i],'')\n",
    "                else:\n",
    "                    l.remove(s[i])                    \n",
    "                    s = s.replace(s[i],'',1)\n",
    "            else:\n",
    "                i += 1\n",
    "    return l\n",
    "\n",
    "print(remove_letters([\"s\", \"t\", \"r\", \"i\", \"n\", \"g\", \"w\"], \"string\"))\n",
    "print(remove_letters([\"b\", \"b\", \"l\", \"l\", \"g\", \"n\", \"o\", \"a\", \"w\"], \"balloon\"))\n",
    "print(remove_letters([\"d\", \"b\", \"t\", \"e\", \"a\", \"i\"], \"edabit\") )"
   ]
  },
  {
   "cell_type": "code",
   "execution_count": null,
   "metadata": {},
   "outputs": [],
   "source": [
    "2. A block sequence in three dimensions. We can write a formula for this one:\n",
    "Create a function that takes a number (step) as an argument and returns the amount of blocks in that step.\n",
    "\n",
    "Examples\n",
    "\n",
    "blocks(1) ➞ 5\n",
    "\n",
    "blocks(5) ➞ 39\n",
    "\n",
    "blocks(2) ➞ 12"
   ]
  },
  {
   "cell_type": "code",
   "execution_count": 62,
   "metadata": {},
   "outputs": [
    {
     "name": "stdout",
     "output_type": "stream",
     "text": [
      "5\n",
      "39\n",
      "12\n"
     ]
    }
   ],
   "source": [
    "# formula is number of blocks = fun(step) + step * 3 + step * 2 -1\n",
    "# where fun(step) = step + fun(step  - 1)\n",
    "\n",
    "def fun(n):\n",
    "    if n == 1:\n",
    "        return 1\n",
    "    else:\n",
    "        return n + fun(n-1)\n",
    "    \n",
    "def blocks(step):\n",
    "    return fun(step) + step * 3 + step * 2 -1\n",
    "\n",
    "\n",
    "print(blocks(1))\n",
    "print(blocks(5))\n",
    "print(blocks(2))"
   ]
  },
  {
   "cell_type": "code",
   "execution_count": null,
   "metadata": {},
   "outputs": [],
   "source": [
    "3. Create a function that subtracts one positive integer from another, without using any arithmetic operators such as -, %, /, +, etc.\n",
    "Examples\n",
    "\n",
    "my_sub(5, 9) ➞ 4\n",
    "\n",
    "my_sub(10, 30) ➞ 20\n",
    "\n",
    "my_sub(0, 0) ➞ 0"
   ]
  },
  {
   "cell_type": "code",
   "execution_count": 63,
   "metadata": {},
   "outputs": [
    {
     "name": "stdout",
     "output_type": "stream",
     "text": [
      "4\n",
      "20\n",
      "0\n"
     ]
    }
   ],
   "source": [
    "def my_sub(n1,n2):\n",
    "    if n2 > n1:\n",
    "        return n2 - n1 % n2\n",
    "    elif n1 > n2:\n",
    "        return n1 - n2 % n1\n",
    "    elif n1 == 0 and n2 == 0:\n",
    "        return 0\n",
    "    \n",
    "print(my_sub(5,9))\n",
    "print(my_sub(10,30))\n",
    "print(my_sub(0,0))"
   ]
  },
  {
   "cell_type": "code",
   "execution_count": null,
   "metadata": {},
   "outputs": [],
   "source": [
    "4. Create a function that takes a string containing money in dollars and pounds sterling (seperated by comma) and returns the sum of dollar bills only, as an integer.\n",
    "For the input string:\n",
    "\n",
    "Each amount is prefixed by the currency symbol: $ for dollars and £ for pounds.\n",
    "Thousands are represented by the suffix k.\n",
    "i.e. 4,000 and £40k = £40,000\n",
    "\n",
    "Examples\n",
    "\n",
    "add_bill(\"d20,p40,p60,d50\") ➞ 20 + 50 = 70\n",
    "\n",
    "add_bill(\"p30,d20,p60,d150,p360\") ➞ 20 + 150 = 170\n",
    "\n",
    "add_bill(\"p30,d2k,p60,d200,p360\") ➞ 2 * 1000 + 200 = 2200"
   ]
  },
  {
   "cell_type": "code",
   "execution_count": 64,
   "metadata": {},
   "outputs": [
    {
     "name": "stdout",
     "output_type": "stream",
     "text": [
      "70\n",
      "170\n",
      "2200\n"
     ]
    }
   ],
   "source": [
    "def add_bill(s):\n",
    "    sum1 = ''\n",
    "    for i in s.split(','):\n",
    "        if 'd' in i:\n",
    "            sum1 += i\n",
    "    sum1 = sum1.replace('k','000')\n",
    "    bill = 0\n",
    "    for i in sum1.split('d')[1:]:\n",
    "        bill += int(i)\n",
    "    \n",
    "    return bill    \n",
    "                \n",
    "print(add_bill(\"d20,p40,p60,d50\"))\n",
    "print(add_bill(\"p30,d20,p60,d150,p360\"))\n",
    "print(add_bill(\"p30,d2k,p60,d200,p360\"))"
   ]
  },
  {
   "cell_type": "code",
   "execution_count": null,
   "metadata": {},
   "outputs": [],
   "source": [
    "5. Create a function that flips a horizontal list into a vertical list, and a vertical list into a horizontal list.\n",
    "In other words, take an 1 x n list (1 row + n columns) and flip it into a n x 1 list (n rows and 1 column), and vice versa.\n",
    "\n",
    "Examples\n",
    "\n",
    "flip_list([1, 2, 3, 4]) ➞ [[1], [2], [3], [4]]\n",
    "\n",
    "Take a horizontal list and flip it vertical.\n",
    "flip_list([[5], [6], [9]]) ➞ [5, 6, 9]\n",
    "\n",
    "Take a vertical list and flip it horizontal.\n",
    "flip_list([]) ➞ []"
   ]
  },
  {
   "cell_type": "code",
   "execution_count": 65,
   "metadata": {},
   "outputs": [
    {
     "name": "stdout",
     "output_type": "stream",
     "text": [
      "[[1]\n",
      " [2]\n",
      " [3]\n",
      " [4]]\n",
      "[[5 6 7]]\n",
      "[]\n"
     ]
    }
   ],
   "source": [
    "# Appraoch no. 1 using numpy array\n",
    "\n",
    "import numpy as np\n",
    "\n",
    "def flip_list(l):\n",
    "    list1 =  np.array(l)\n",
    "    \n",
    "    if list1.ndim == 1:\n",
    "        i = list1.shape\n",
    "        return list1.reshape(i[0],1)\n",
    "    else:\n",
    "        i,j = list1.shape\n",
    "        return list1.reshape(j,i)\n",
    "        \n",
    "print(flip_list([1,2,3,4]))\n",
    "\n",
    "print(flip_list([[5],[6],[7]]))\n",
    "print(flip_list([]))"
   ]
  },
  {
   "cell_type": "code",
   "execution_count": 66,
   "metadata": {},
   "outputs": [
    {
     "name": "stdout",
     "output_type": "stream",
     "text": [
      "[[1], [2], [3], [4]]\n",
      "[5, 6, 7]\n",
      "[]\n"
     ]
    }
   ],
   "source": [
    "# Approach no. 2 \n",
    "def flip_list1(l):\n",
    "    j = 0\n",
    "    for i in range(len(l)):\n",
    "        if type(l[i]) == list:\n",
    "            l[i] = int(str(l[i]).replace('[','').replace(']',''))\n",
    "        elif type(l[i]) == int:\n",
    "            l[i] = [l[i]]\n",
    "\n",
    "    return l       \n",
    "\n",
    "print(flip_list1([1,2,3,4]))\n",
    "\n",
    "print(flip_list1([[5],[6],[7]]))\n",
    "print(flip_list([]))"
   ]
  },
  {
   "cell_type": "code",
   "execution_count": null,
   "metadata": {},
   "outputs": [],
   "source": [
    "Programming_Assignment_14\n",
    "1. Given a list of numbers, create a function that removes 25% from every number in the list except the smallest number, and adds the total amount removed to the smallest number.\n",
    "Examples\n",
    "\n",
    "show_the_love([4, 1, 4]) ➞ [3, 3, 3]\n",
    "\n",
    "show_the_love([16, 10, 8]) ➞ [12, 7.5, 14.5]\n",
    "\n",
    "show_the_love([2, 100]) ➞ [27, 75]"
   ]
  },
  {
   "cell_type": "code",
   "execution_count": 67,
   "metadata": {},
   "outputs": [
    {
     "name": "stdout",
     "output_type": "stream",
     "text": [
      "[3, 3, 3]\n",
      "[12, 7.5, 14.5]\n",
      "[27, 75]\n"
     ]
    }
   ],
   "source": [
    "def show_the_love(l):\n",
    "    smallest_no = min(l)\n",
    "    index = l.index(smallest_no)\n",
    "    k = 0\n",
    "    \n",
    "    for i in range(len(l)):\n",
    "        if l[i] != smallest_no:\n",
    "            j =  0.25 * l[i]\n",
    "            l[i] = l[i]- j\n",
    "            k += j\n",
    "            \n",
    "    l[index] = smallest_no + k\n",
    "    l = [int(i) if i == int(i) else i for i in l]\n",
    "    return l\n",
    "\n",
    "print(show_the_love([4,1,4]) )\n",
    "print(show_the_love([16, 10, 8]))\n",
    "print(show_the_love([2, 100]))"
   ]
  },
  {
   "cell_type": "code",
   "execution_count": null,
   "metadata": {},
   "outputs": [],
   "source": [
    "2. Create a function that takes in two words as input and returns a list of three elements, in the following order:\n",
    "1.Shared letters between two words. 2.Letters unique to word 1. 3.Letters unique to word 2.\n",
    "\n",
    "Each element should have unique letters, and have each letter be alphabetically sorted.\n",
    "\n",
    "Examples\n",
    "\n",
    "letters(\"sharp\", \"soap\") ➞ [\"aps\", \"hr\", \"o\"]\n",
    "\n",
    "letters(\"board\", \"bored\") ➞ [\"bdor\", \"a\", \"e\"]\n",
    "\n",
    "letters(\"happiness\", \"envelope\") ➞ [\"enp\", \"ahis\", \"lov\"]\n",
    "\n",
    "letters(\"kerfuffle\", \"fluffy\") ➞ [\"flu\", \"ekr\", \"y\"]\n",
    "\n",
    "Even with multiple matching letters (e.g. 3 f's), there should\n",
    "only exist a single \"f\" in your first element.\n",
    "letters(\"match\", \"ham\") ➞ [\"ahm\", \"ct\", \"\"]\n",
    "\"ham\" does not contain any letters that are not found already\n",
    "in \"match\".                                     "
   ]
  },
  {
   "cell_type": "code",
   "execution_count": 68,
   "metadata": {},
   "outputs": [
    {
     "name": "stdout",
     "output_type": "stream",
     "text": [
      "('aps', 'rh', 'o')\n",
      "('dbro', 'a', 'e')\n",
      "('pen', 'ahis', 'lvo')\n",
      "('flu', 'erk', 'y')\n",
      "('ahm', 'ct', '')\n"
     ]
    }
   ],
   "source": [
    "def letters(w1,w2):\n",
    "    common = ''\n",
    "    for i in set(w1)&set(w2):\n",
    "        common += ''.join(i)\n",
    "    \n",
    "    unique1 = ''\n",
    "    for i in set(w1).difference(set(w2)):\n",
    "        unique1 += ''.join(i)\n",
    "        \n",
    "    unique2 = ''\n",
    "    for i in set(w2).difference(set(w1)):\n",
    "        unique2 += ''.join(i)\n",
    "        \n",
    "    return common, unique1 , unique2\n",
    "\n",
    "print(letters(\"sharp\", \"soap\"))\n",
    "print(letters(\"board\", \"bored\") )\n",
    "print(letters(\"happiness\", \"envelope\"))\n",
    "print(letters(\"kerfuffle\", \"fluffy\"))\n",
    "print(letters(\"match\",\"ham\"))"
   ]
  },
  {
   "cell_type": "code",
   "execution_count": null,
   "metadata": {},
   "outputs": [],
   "source": [
    "3. Write a function that pairs the first number in an array with the last, the second number with the second to last, etc.\n",
    "Examples\n",
    "\n",
    "pairs([1, 2, 3, 4, 5, 6, 7]) ➞ [[1, 7], [2, 6], [3, 5], [4, 4]]\n",
    "\n",
    "pairs([1, 2, 3, 4, 5, 6]) ➞ [[1, 6], [2, 5], [3, 4]]\n",
    "\n",
    "pairs([5, 9, 8, 1, 2]) ➞ [[5, 2], [9, 1], [8, 8]]\n",
    "\n",
    "pairs([]) ➞ []"
   ]
  },
  {
   "cell_type": "code",
   "execution_count": 69,
   "metadata": {},
   "outputs": [
    {
     "name": "stdout",
     "output_type": "stream",
     "text": [
      "[[1, 7], [2, 6], [3, 5], [4, 4]]\n",
      "[[1, 6], [2, 5], [3, 4]]\n",
      "[[5, 2], [9, 1], [8, 8]]\n",
      "[]\n"
     ]
    }
   ],
   "source": [
    "import math\n",
    "def pairs(l):\n",
    "    l2 = []\n",
    "    for i in range(math.ceil(len(l)/2)):\n",
    "        l1 = []\n",
    "        l1.append(l[i])\n",
    "        l1.append(l[len(l)-i-1])\n",
    "        l2.append(l1)\n",
    "    return l2\n",
    "\n",
    "print(pairs([1,2,3,4,5,6,7]))\n",
    "print(pairs([1,2,3,4,5,6]))\n",
    "print(pairs([5,9,8,1,2]))\n",
    "print(pairs([]))"
   ]
  },
  {
   "cell_type": "code",
   "execution_count": null,
   "metadata": {},
   "outputs": [],
   "source": [
    "4. Write a function that adds two numbers. The catch, however, is that the numbers will be strings.\n",
    "Examples\n",
    "\n",
    "add_str_nums(\"4\", \"5\") ➞ \"9\"\n",
    "\n",
    "add_str_nums(\"abcdefg\", \"3\") ➞ \"-1\"\n",
    "\n",
    "add_str_nums(\"1\", \"\") ➞ \"1\"\n",
    "\n",
    "add_str_nums(\"1874682736267235927359283579235789257\", \"32652983572985729\") ➞ \"1874682736267235927391936562808774986\""
   ]
  },
  {
   "cell_type": "code",
   "execution_count": 70,
   "metadata": {},
   "outputs": [
    {
     "name": "stdout",
     "output_type": "stream",
     "text": [
      "9\n",
      "-1\n",
      "1\n",
      "1874682736267235927391936562808774986\n"
     ]
    }
   ],
   "source": [
    "def add_str_nums(s1,s2):\n",
    "    if s1 != '' and s2 != '':\n",
    "        if s1.isnumeric() and s2.isnumeric():\n",
    "            return str(int(s1) + int(s2))\n",
    "        else:\n",
    "            return -1\n",
    "    else:\n",
    "        return s1 + s2\n",
    "    \n",
    "    \n",
    "print(add_str_nums(\"4\",\"5\"))\n",
    "print(add_str_nums(\"abcdefg\", \"3\"))\n",
    "print(add_str_nums(\"1\",\"\"))\n",
    "print(add_str_nums(\"1874682736267235927359283579235789257\", \"32652983572985729\"))"
   ]
  },
  {
   "cell_type": "code",
   "execution_count": null,
   "metadata": {},
   "outputs": [],
   "source": [
    "5. lPaeesh le pemu mnxit ehess rtnisg! Oh, sorry, that was supposed to say: Please help me unmix these strings!\n",
    "Somehow my strings have all become mixed up; every pair of characters has been swapped. Help me undo this so I can understand my strings again.\n",
    "\n",
    "Examples\n",
    "\n",
    "unmix(\"123456\") ➞ \"214365\"\n",
    "\n",
    "unmix(\"hTsii s aimex dpus rtni.g\") ➞ \"This is a mixed up string.\"\n",
    "\n",
    "unmix(\"badce\") ➞ \"abcde\""
   ]
  },
  {
   "cell_type": "code",
   "execution_count": 71,
   "metadata": {},
   "outputs": [
    {
     "name": "stdout",
     "output_type": "stream",
     "text": [
      "214365\n",
      "This is a mixed up string.\n",
      "abcde\n"
     ]
    }
   ],
   "source": [
    "def unmix(s):\n",
    "    length = len(s)\n",
    "\n",
    "    if length % 2 != 0 :\n",
    "        length = length - 1\n",
    "\n",
    "    l = list(s)\n",
    "    i = 0\n",
    "    while True:\n",
    "        if i == length:\n",
    "            break\n",
    "        else:\n",
    "            l[i], l[i+1] = l[i+1],l[i]\n",
    "            i += 2\n",
    "\n",
    "    s = ''\n",
    "    for i in l:\n",
    "        s += ''.join(i)\n",
    "\n",
    "    return s    \n",
    "\n",
    "print(unmix(\"123456\"))\n",
    "print(unmix(\"hTsii  s aimex dpus rtni.g\"))\n",
    "print(unmix(\"badce\"))"
   ]
  },
  {
   "cell_type": "code",
   "execution_count": null,
   "metadata": {},
   "outputs": [],
   "source": [
    "Programming_Assignment_15\n",
    "1. Write a function that returns True if a given name can generate an array of words.\n",
    "Examples\n",
    "\n",
    "anagram(\"Justin Bieber\", [\"injures\", \"ebb\", \"it\"]) ➞ True\n",
    "\n",
    "anagram(\"Natalie Portman\", [\"ornamental\", \"pita\"]) ➞ True\n",
    "\n",
    "anagram(\"Chris Pratt\", [\"chirps\", \"rat\"]) ➞ False\n",
    "\n",
    "Not all letters are used\n",
    "anagram(\"Jeff Goldblum\", [\"jog\", \"meld\", \"bluffs\"]) ➞ False\n",
    "\n",
    "\"s\" does not exist in the original name"
   ]
  },
  {
   "cell_type": "code",
   "execution_count": null,
   "metadata": {},
   "outputs": [],
   "source": [
    "Programming_Assignment_15\n",
    "1. Write a function that returns True if a given name can generate an array of words.\n",
    "Examples\n",
    "\n",
    "anagram(\"Justin Bieber\", [\"injures\", \"ebb\", \"it\"]) ➞ True\n",
    "\n",
    "anagram(\"Natalie Portman\", [\"ornamental\", \"pita\"]) ➞ True\n",
    "\n",
    "anagram(\"Chris Pratt\", [\"chirps\", \"rat\"]) ➞ False\n",
    "\n",
    "Not all letters are used\n",
    "anagram(\"Jeff Goldblum\", [\"jog\", \"meld\", \"bluffs\"]) ➞ False\n",
    "\n",
    "\"s\" does not exist in the original name"
   ]
  },
  {
   "cell_type": "code",
   "execution_count": 72,
   "metadata": {},
   "outputs": [
    {
     "name": "stdout",
     "output_type": "stream",
     "text": [
      "True\n",
      "True\n",
      "False\n",
      "False\n"
     ]
    }
   ],
   "source": [
    "def anagram(s,l):\n",
    "    for word in l:\n",
    "        for letter in word:\n",
    "            if letter not in s:\n",
    "                return False\n",
    "            return True\n",
    "\n",
    "\n",
    "print(anagram(\"Justin Bieber\", [\"injures\", \"ebb\", \"it\"]))\n",
    "print(anagram(\"Natalie Portman\", [\"ornamental\", \"pita\"]))\n",
    "print(anagram(\"Chris Pratt\", [\"chirps\", \"rat\"])) \n",
    "print(anagram(\"Jeff Goldblum\", [\"jog\", \"meld\", \"bluffs\"]))"
   ]
  },
  {
   "cell_type": "code",
   "execution_count": null,
   "metadata": {},
   "outputs": [],
   "source": [
    "2. Given an array of users, each defined by an object with the following properties: name, score, reputation create a function that sorts the array to form the correct leaderboard.\n",
    "The leaderboard takes into consideration the score of each user of course, but an emphasis is put on their reputation in the community, so to get the trueScore, you should add the reputation multiplied by 2 to the score.\n",
    "\n",
    "Once you know the trueScore of each user, sort the array according to it in descending order.\n",
    "\n",
    "Examples\n",
    "\n",
    "leaderboards([ { \"name\": \"a\", \"score\": 100, \"reputation\": 20 }, { \"name\": \"b\", \"score\": 90, \"reputation\": 40 }, { \"name\": \"c\", \"score\": 115, \"reputation\": 30 }, ]) ➞ [ { \"name\": \"c\", \"score\": 115, \"reputation\": 30 }, # trueScore = 175 { \"name\": \"b\", \"score\": 90, \"reputation\": 40 }, # trueScore = 170 { \"name\": \"a\", \"score\": 100, \"reputation\": 20 } # trueScore = 140 ]"
   ]
  },
  {
   "cell_type": "code",
   "execution_count": null,
   "metadata": {},
   "outputs": [],
   "source": [
    "from operator import itemgetter\n",
    "\n",
    "def leaderboard(l):\n",
    "    return sorted(l, reverse=True, key = lambda k : k['score'] + k['reputation'] * 2 )\n",
    "\n",
    "print(leaderboard([{ \"name\": \"a\", \"score\": 100, \"reputation\": 20 }, { \"name\": \"b\", \"score\": 90, \"reputation\": 40 }, { \"name\": \"c\", \"score\": 115, \"reputatio"
   ]
  },
  {
   "cell_type": "code",
   "execution_count": null,
   "metadata": {},
   "outputs": [],
   "source": [
    "3. Create a function that, given a phrase and a number of letters guessed, returns a string with hyphens - for every letter of the phrase not guessed, and each letter guessed in place.\n",
    "Examples\n",
    "\n",
    "hangman(\"helicopter\", [\"o\", \"e\", \"s\"]) ➞ \"-e---o--e-\"\n",
    "\n",
    "hangman(\"tree\", [\"r\", \"t\", \"e\"]) ➞ \"tree\"\n",
    "\n",
    "hangman(\"Python rules\", [\"a\", \"n\", \"p\", \"r\", \"z\"]) ➞ \"P----n r----\"\n",
    "\n",
    "hangman(\"He\"s a very naughty boy!\", [\"e\", \"a\", \"y\"]) ➞ \"-e\"- a -e-y -a----y –y!\""
   ]
  },
  {
   "cell_type": "code",
   "execution_count": 73,
   "metadata": {},
   "outputs": [
    {
     "name": "stdout",
     "output_type": "stream",
     "text": [
      "-e---o--e-\n",
      "tree\n",
      "P----n-r----\n",
      "-e\"--a--e-y--a----y---y-\n"
     ]
    }
   ],
   "source": [
    "def hangman(s,l):\n",
    "    for letter in s:\n",
    "        if letter.lower() not in l and letter != '\"':\n",
    "            s = s.replace(letter,'-')\n",
    "            \n",
    "    return s\n",
    "\n",
    "print(hangman(\"helicopter\", [\"o\", \"e\", \"s\"]))\n",
    "print(hangman(\"tree\", [\"r\", \"t\", \"e\"]) )\n",
    "print(hangman(\"Python rules\", [\"a\", \"n\", \"p\", \"r\", \"z\"]) )\n",
    "print(hangman('He\"s a very naughty boy!', [\"e\", \"a\", \"y\"]))"
   ]
  },
  {
   "cell_type": "code",
   "execution_count": null,
   "metadata": {},
   "outputs": [],
   "source": [
    "4. The Collatz sequence is as follows:\n",
    "Start with some given integer n.\n",
    "If it is even, the next number will be n divided by 2.\n",
    "If it is odd, multiply it by 3 and add 1 to make the next number.\n",
    "The sequence stops when it reaches 1.\n",
    "According to the Collatz conjecture, it will always reach 1. If that's true, you can construct a finite sequence following the aforementioned method for any given integer.\n",
    "\n",
    "Write a function that takes in an integer n and returns the highest integer in the corresponding Collatz sequence.\n",
    "\n",
    "Examples\n",
    "\n",
    "max_collatz(10) ➞ 16\n",
    "\n",
    "Collatz sequence: 10, 5, 16, 8, 4, 2, 1\n",
    "max_collatz(32) ➞ 32\n",
    "\n",
    "Collatz sequence: 32, 16, 8, 4, 2, 1\n",
    "max_collatz(85) ➞ 256\n",
    "\n",
    "Collatz sequence: 85, 256, 128, 64, 32, 16, 8, 4, 2, 1"
   ]
  },
  {
   "cell_type": "code",
   "execution_count": 74,
   "metadata": {},
   "outputs": [
    {
     "name": "stdout",
     "output_type": "stream",
     "text": [
      "[10, 5, 16, 8, 4, 2, 1]\n",
      "[32, 16, 8, 4, 2, 1]\n",
      "[85, 256, 128, 64, 32, 16, 8, 4, 2, 1]\n"
     ]
    }
   ],
   "source": [
    "def max_collatz(n):\n",
    "    l = [n]\n",
    "    i = 0\n",
    "    while l[-1] != 1:\n",
    "        if l[i] % 2 ==0:\n",
    "            l.append(l[i] / 2)\n",
    "        else:\n",
    "            l.append(l[i] * 3 + 1)\n",
    "        i += 1    \n",
    "    return list(map(int,l))\n",
    "\n",
    "print(max_collatz(10))\n",
    "print(max_collatz(32))\n",
    "print(max_collatz(85))"
   ]
  },
  {
   "cell_type": "code",
   "execution_count": null,
   "metadata": {},
   "outputs": [],
   "source": [
    "5. Write a function that sorts a list of integers by their digit length in descending order, then settles ties by sorting numbers with the same digit length in ascending order.\n",
    "Examples\n",
    "\n",
    "digit_sort([77, 23, 5, 7, 101]) ➞ [101, 23, 77, 5, 7]\n",
    "\n",
    "digit_sort([1, 5, 9, 2, 789, 563, 444]) ➞ [444, 563, 789, 1, 2, 5, 9]\n",
    "\n",
    "digit_sort([53219, 3772, 564, 32, 1]) ➞ [53219, 3772, 564, 32, 1]"
   ]
  },
  {
   "cell_type": "code",
   "execution_count": 75,
   "metadata": {},
   "outputs": [
    {
     "name": "stdout",
     "output_type": "stream",
     "text": [
      "[101, 23, 77, 5, 7]\n",
      "[444, 563, 789, 1, 2, 5, 9]\n",
      "[53219, 3772, 564, 32, 1]\n"
     ]
    }
   ],
   "source": [
    "def digit_sort(l):\n",
    "    \n",
    "    l = list(map(str,l))\n",
    "    \n",
    "    l = sorted(l, key = len, reverse=True)\n",
    "    \n",
    "    for i in range(len(l)):\n",
    "        for j in range(i,len(l)):\n",
    "            if len(l[i]) == len(l[j]):\n",
    "                if l[j] < l[i]:\n",
    "                    temp = l[i]\n",
    "                    l[i] = l[j]\n",
    "                    l[j] = temp\n",
    "    return list(map(int,l))\n",
    "\n",
    "print(digit_sort([77,23,5,7,101]))\n",
    "print(digit_sort([1, 5, 9, 2, 789, 563, 444]))\n",
    "print(digit_sort([53219, 3772, 564, 32, 1]))"
   ]
  },
  {
   "cell_type": "code",
   "execution_count": null,
   "metadata": {},
   "outputs": [],
   "source": [
    "Programming_Assignment_16\n",
    "1. Rondo Form is a type of musical structure, in which there is a recurring theme/refrain, notated as A. Here are the rules for valid rondo forms:\n",
    "Rondo forms always start and end with an A section.\n",
    "In between the A sections, there should be contrasting sections notated as B, then C, then D, etc... No letter should be skipped.\n",
    "There shouldn't be any repeats in the sequence (such as ABBACCA).\n",
    "Create a function which validates whether a given string is a valid Rondo Form.\n",
    "\n",
    "Examples\n",
    "\n",
    "valid_rondo(\"ABACADAEAFAGAHAIAJA\") ➞ True\n",
    "\n",
    "valid_rondo(\"ABA\") ➞ True\n",
    "\n",
    "valid_rondo(\"ABBACCA\") ➞ False\n",
    "\n",
    "valid_rondo(\"ACAC\") ➞ False\n",
    "\n",
    "valid_rondo(\"A\") ➞ False"
   ]
  },
  {
   "cell_type": "code",
   "execution_count": 76,
   "metadata": {},
   "outputs": [
    {
     "name": "stdout",
     "output_type": "stream",
     "text": [
      "True\n",
      "True\n",
      "False\n",
      "False\n",
      "False\n"
     ]
    }
   ],
   "source": [
    "def valid_rondo(s):\n",
    "    if s[0] == s[-1] == 'A' and len(s) > 1:\n",
    "        for i in range(1,len(s)-1):\n",
    "            if s[i] != 'A' and s.count(s[i]) > 1:\n",
    "                return False\n",
    "\n",
    "        return True\n",
    "    else:\n",
    "        return False\n",
    "    \n",
    "\n",
    "print(valid_rondo(\"ABACADAEAFAGAHAIAJA\"))\n",
    "print(valid_rondo(\"ABA\"))\n",
    "print(valid_rondo(\"ABBACCA\"))\n",
    "print(valid_rondo(\"ACAC\"))\n",
    "print(valid_rondo(\"A\"))"
   ]
  },
  {
   "cell_type": "code",
   "execution_count": null,
   "metadata": {},
   "outputs": [],
   "source": [
    "2. Create a function that returns the whole of the first sentence which contains a specific word. Include the full stop at the end of the sentence.\n",
    "Examples\n",
    "\n",
    "txt = \"I have a cat. I have a mat. Things are going swell.\"\n",
    "\n",
    "sentence_searcher(txt, \"have\") ➞ \"I have a cat.\"\n",
    "\n",
    "sentence_searcher(txt, \"MAT\") ➞ \"I have a mat.\"\n",
    "\n",
    "sentence_searcher(txt, \"things\") ➞ \"Things are going swell.\"\n",
    "\n",
    "sentence_searcher(txt, \"flat\") ➞ \"\""
   ]
  },
  {
   "cell_type": "code",
   "execution_count": 78,
   "metadata": {},
   "outputs": [
    {
     "name": "stdout",
     "output_type": "stream",
     "text": [
      "I have a cat.\n",
      "I have a mat.\n",
      "Things are going swell.\n",
      "\n"
     ]
    }
   ],
   "source": [
    "def sentence_searcher(txt, s):\n",
    "    for i in txt.split('.'):\n",
    "        if s.lower() in i.lower():\n",
    "            i = i.strip()\n",
    "            i += '.'\n",
    "            return i\n",
    "    else:\n",
    "        return \"\"\n",
    "    \n",
    "txt = \"I have a cat. I have a mat. Things are going swell.\"\n",
    "    \n",
    "print(sentence_searcher(txt, \"have\"))\n",
    "\n",
    "print(sentence_searcher(txt, \"MAT\"))\n",
    "\n",
    "print(sentence_searcher(txt, \"things\"))\n",
    "\n",
    "print(sentence_searcher(txt, \"flat\"))"
   ]
  },
  {
   "cell_type": "code",
   "execution_count": null,
   "metadata": {},
   "outputs": [],
   "source": [
    "3. Given a number, find the \"round \"of each digit of the number. An integer is called \"round\" if all its digits except the leftmost (most significant) are equal to zero.\n",
    "- Round numbers: 4000, 1, 9, 800, 90\n",
    "- Not round numbers: 110, 707, 222, 1001\n",
    "\n",
    "Create a function that takes a number and returns the \"round\" of each digit (except if the digit is zero) as a string. Check out the following examples for more clarification.\n",
    "\n",
    "Examples\n",
    "\n",
    "sum_round(101) ➞ \"1 100\"\n",
    "\n",
    "sum_round(1234) ➞ \"4 30 200 1000\"\n",
    "\n",
    "sum_round(54210) ➞ \"10 200 4000 50000\""
   ]
  },
  {
   "cell_type": "code",
   "execution_count": 79,
   "metadata": {},
   "outputs": [
    {
     "name": "stdout",
     "output_type": "stream",
     "text": [
      "1 1000\n",
      "4 30 200 1000\n",
      "10 200 4000 50000\n",
      "10 2000 40000 500000\n"
     ]
    }
   ],
   "source": [
    "def sum_round(n):\n",
    "    n = str(n)\n",
    "    output = ''\n",
    "    j = 1\n",
    "    for i in range(len(n)-1,-1,-1):\n",
    "        output += str(int(n[i]) * j) + ' '\n",
    "        j *= 10\n",
    "\n",
    "    output = output.lstrip('0 ').replace(' 0','')\n",
    "    return output.strip()        \n",
    "        \n",
    "print(sum_round(1001))\n",
    "\n",
    "print(sum_round(1234))\n",
    "\n",
    "print(sum_round(54210))\n",
    "\n",
    "print(sum_round(542010))"
   ]
  },
  {
   "cell_type": "code",
   "execution_count": null,
   "metadata": {},
   "outputs": [],
   "source": [
    "4. Your task, is to create N x N multiplication table, of size n provided in parameter.\n",
    "For example, when n is 5, the multiplication table is:\n",
    "\n",
    "1, 2, 3, 4, 5\n",
    "2, 4, 6, 8, 10\n",
    "3, 6, 9, 12, 15\n",
    "4, 8, 12, 16, 20\n",
    "5, 10, 15, 20, 25\n",
    "This example will result in:\n",
    "\n",
    "[[1, 2, 3, 4, 5], [2, 4, 6, 8, 10], [3, 6, 9, 12, 15], [4, 8, 12, 16, 20], [5, 10, 15, 20, 25]]\n",
    "\n",
    "Examples\n",
    "\n",
    "multiplication_table(1) ➞ [[1]]\n",
    "\n",
    "multiplication_table(3) ➞ [[1, 2, 3], [2, 4, 6], [3, 6, 9]]"
   ]
  },
  {
   "cell_type": "code",
   "execution_count": 80,
   "metadata": {},
   "outputs": [
    {
     "name": "stdout",
     "output_type": "stream",
     "text": [
      "[[1]]\n",
      "[[1, 2, 3], [2, 4, 6], [3, 6, 9]]\n"
     ]
    }
   ],
   "source": [
    "def multiplication_table(n):\n",
    "    l = []\n",
    "    k = 1\n",
    "    \n",
    "    for i in range(n):\n",
    "        l1 = []\n",
    "        for j in range(1,n+1):\n",
    "            l1.append(j * k)\n",
    "        l.append(l1)    \n",
    "        k += 1\n",
    "        \n",
    "    return l \n",
    "\n",
    "print(multiplication_table(1))\n",
    "print(multiplication_table(3))"
   ]
  },
  {
   "cell_type": "code",
   "execution_count": null,
   "metadata": {},
   "outputs": [],
   "source": [
    "5. Create a function that returns True if two lines rhyme and False otherwise. For the purposes of this exercise, two lines rhyme if the last word from each sentence contains the same vowels.\n",
    "Examples\n",
    "\n",
    "does_rhyme(\"Sam I am!\", \"Green eggs and ham.\") ➞ True\n",
    "\n",
    "does_rhyme(\"Sam I am!\", \"Green eggs and HAM.\") ➞ True\n",
    "\n",
    "Capitalization and punctuation should not matter.\n",
    "does_rhyme(\"You are off to the races\", \"a splendid day.\") ➞ False\n",
    "\n",
    "does_rhyme(\"and frequently do?\", \"you gotta move.\") ➞ False"
   ]
  },
  {
   "cell_type": "code",
   "execution_count": 81,
   "metadata": {},
   "outputs": [
    {
     "name": "stdout",
     "output_type": "stream",
     "text": [
      "True\n",
      "True\n",
      "False\n",
      "False\n"
     ]
    }
   ],
   "source": [
    "def does_rhyme(s,s1):\n",
    "    for letter in s.split()[-1]:\n",
    "        for letter1 in s1.split()[-1]:\n",
    "            if letter.lower() in \"aieou\" and letter1.lower() in \"aeiou\":\n",
    "                if letter.lower() != letter1.lower():\n",
    "                    return False\n",
    "    return True            \n",
    "            \n",
    "print(does_rhyme(\"Sam I am!\", \"Green eggs and ham.\"))\n",
    "print(does_rhyme(\"Sam I am!\", \"Green eggs and HAM.\") )\n",
    "print(does_rhyme(\"You are off to the races\", \"a splendid day.\"))\n",
    "print(does_rhyme(\"and frequently do?\", \"you gotta move.\"))"
   ]
  },
  {
   "cell_type": "code",
   "execution_count": null,
   "metadata": {},
   "outputs": [],
   "source": [
    "Programming_Assignment_17\n",
    "1. Create a function that transposes a 2D matrix.\n",
    "Examples\n",
    "\n",
    "transpose_matrix([ [1, 1, 1], [2, 2, 2], [3, 3, 3] ]) ➞ [ [1, 2, 3], [1, 2, 3], [1, 2, 3] ]\n",
    "\n",
    "transpose_matrix([ [5, 5], [6, 7], [9, 1] ]) ➞ [ [5, 6, 9], [5, 7, 1] ]"
   ]
  },
  {
   "cell_type": "code",
   "execution_count": 82,
   "metadata": {},
   "outputs": [
    {
     "name": "stdout",
     "output_type": "stream",
     "text": [
      "[[1, 2, 3], [1, 2, 3], [1, 2, 3]]\n",
      "[[5, 6, 9], [5, 7, 1]]\n"
     ]
    }
   ],
   "source": [
    "def transpose_matrix(l):\n",
    "    l2 = []\n",
    "    for i in range(len(l[0])):\n",
    "        l1 = []\n",
    "        \n",
    "        for j in range(len(l)):\n",
    "            l1.append(l[j][i])\n",
    "        l2.append(l1)\n",
    "    return l2    \n",
    "        \n",
    "print(transpose_matrix([ [1, 1, 1], [2, 2, 2], [3, 3, 3]]))\n",
    "print(transpose_matrix([ [5, 5], [6, 7], [9, 1] ]))"
   ]
  },
  {
   "cell_type": "code",
   "execution_count": null,
   "metadata": {},
   "outputs": [],
   "source": [
    "2. Create a function that determines whether a string is a valid hex code.\n",
    "A hex code must begin with a pound key # and is exactly 6 characters in length. Each character must be a digit from 0-9 or an alphabetic character from A-F. All alphabetic characters may be uppercase or lowercase.\n",
    "\n",
    "Examples\n",
    "\n",
    "is_valid_hex_code(\"#CD5C5C\") ➞ True\n",
    "\n",
    "is_valid_hex_code(\"#EAECEE\") ➞ True\n",
    "\n",
    "is_valid_hex_code(\"#eaecee\") ➞ True\n",
    "\n",
    "is_valid_hex_code(\"#CD5C58C\") ➞ False\n",
    "\n",
    "Length exceeds 6\n",
    "is_valid_hex_code(\"#CD5C5Z\") ➞ False\n",
    "\n",
    "Not all alphabetic characters in A-F\n",
    "is_valid_hex_code(\"#CD5C&C\") ➞ False\n",
    "\n",
    "Contains unacceptable character\n",
    "is_valid_hex_code(\"CD5C5C\") ➞ False\n",
    "\n",
    "Missing"
   ]
  },
  {
   "cell_type": "code",
   "execution_count": 83,
   "metadata": {},
   "outputs": [
    {
     "name": "stdout",
     "output_type": "stream",
     "text": [
      "True\n",
      "True\n",
      "True\n",
      "False\n",
      "False\n",
      "False\n",
      "False\n"
     ]
    }
   ],
   "source": [
    "def is_valid_hex_code(s):\n",
    "    if len(s) == 7 and s[0] == '#':\n",
    "        for letter in s[1:]:\n",
    "            if letter.lower() not in 'abcdef' and not letter.isdigit() :\n",
    "                return False\n",
    "        return True\n",
    "    else:\n",
    "        return False\n",
    "        \n",
    "\n",
    "print(is_valid_hex_code(\"#CD5C5C\"))\n",
    "print(is_valid_hex_code(\"#EAECEE\"))\n",
    "print(is_valid_hex_code(\"#eaecee\"))                \n",
    "print(is_valid_hex_code(\"#CD5C58C\"))\n",
    "print(is_valid_hex_code(\"#CD5C5Z\"))\n",
    "print(is_valid_hex_code(\"#CD5C&C\"))\n",
    "print(is_valid_hex_code(\"CD5C5C\"))"
   ]
  },
  {
   "cell_type": "code",
   "execution_count": null,
   "metadata": {},
   "outputs": [],
   "source": [
    "3. Given a list of math equations (given as strings), return the percentage of correct answers as a string. Round to the nearest whole number.\n",
    "Examples\n",
    "\n",
    "mark_maths([\"2+2=4\", \"3+2=5\", \"10-3=3\", \"5+5=10\"]) ➞ \"75%\"\n",
    "\n",
    "mark_maths([\"1-2=-2\"]), \"0%\"\n",
    "\n",
    "mark_maths([\"2+3=5\", \"4+4=9\", \"3-1=2\"]) ➞ \"67%\""
   ]
  },
  {
   "cell_type": "code",
   "execution_count": 84,
   "metadata": {},
   "outputs": [
    {
     "name": "stdout",
     "output_type": "stream",
     "text": [
      "75%\n",
      "0%\n",
      "67%\n"
     ]
    }
   ],
   "source": [
    "def mark_maths(l):\n",
    "    count = 0\n",
    "    for item in l:\n",
    "        item1 = item.split('=')\n",
    "        if eval(item1[0]) == int(item1[1]):\n",
    "            count += 1\n",
    "\n",
    "    return str(round((count/len(l)) * 100)) +'%'     \n",
    "\n",
    "print(mark_maths([\"2+2=4\", \"3+2=5\", \"10-3=3\", \"5+5=10\"])) \n",
    "print(mark_maths([\"1-2=-2\"]))\n",
    "print(mark_maths([\"2+3=5\", \"4+4=9\", \"3-1=2\"]))"
   ]
  },
  {
   "cell_type": "code",
   "execution_count": null,
   "metadata": {},
   "outputs": [],
   "source": [
    "4. There are two players, Alice and Bob, each with a 3-by-3 grid. A referee tells Alice to fill out one particular row in the grid (say the second row) by putting either a 1 or a 0 in each box, such that the sum of the numbers in that row is odd. The referee tells Bob to fill out one column in the grid (say the first column) by putting either a 1 or a 0 in each box, such that the sum of the numbers in that column is even.\n",
    "Alice and Bob win the game if Alice’s numbers give an odd sum, Bob’s give an even sum, and (most important) they’ve each written down the same number in the one square where their row and column intersect.\n",
    "\n",
    "Examples\n",
    "\n",
    "magic_square_game([2, \"100\"], [1, \"101\"]) ➞ False\n",
    "\n",
    "magic_square_game([2, \"001\"], [1, \"101\"]) ➞ True\n",
    "\n",
    "magic_square_game([3, \"111\"], [2, \"011\"]) ➞ True\n",
    "\n",
    "magic_square_game([1, \"010\"], [3, \"101\"]) ➞ False\n",
    "Two lists, Alice [row, \"her choice\"], Bob [column, \"his choice\"]"
   ]
  },
  {
   "cell_type": "code",
   "execution_count": 85,
   "metadata": {},
   "outputs": [
    {
     "name": "stdout",
     "output_type": "stream",
     "text": [
      "False\n",
      "True\n",
      "True\n",
      "False\n"
     ]
    }
   ],
   "source": [
    "def magic_square_game(l1,l2):\n",
    "    if (sum(list(map(int,l1[1]))) % 2 != 0) and (sum(list(map(int,l2[1]))) % 2 == 0):\n",
    "        if l1[1][l2[0] - 1] == l2[1][l1[0] - 1]:\n",
    "            return True\n",
    "    return False\n",
    "\n",
    "print(magic_square_game([2, \"100\"], [1, \"101\"]))\n",
    "print(magic_square_game([2, \"001\"], [1, \"101\"]))\n",
    "print(magic_square_game([3, \"111\"], [2, \"011\"]) )\n",
    "print(magic_square_game([1, \"010\"], [3, \"101\"]))"
   ]
  },
  {
   "cell_type": "code",
   "execution_count": null,
   "metadata": {},
   "outputs": [],
   "source": [
    "5. From point A, an object is moving towards point B at constant velocity va (in km/hr). From point B, another object is moving towards point A at constant velocity vb (in km/hr). Knowing this and the distance between point A and B (in km), write a function that returns how much time passes until both objects meet.\n",
    "Format the output like this:\n",
    "\n",
    "\"2h 23min 34s\"\n",
    "\n",
    "Examples\n",
    "\n",
    "lets_meet(100, 10, 30) ➞ \"2h 30min 0s\"\n",
    "\n",
    "lets_meet(280, 70, 80) ➞ \"1h 52min 0s\"\n",
    "\n",
    "lets_meet(90, 75, 65) ➞ \"0h 38min 34s\""
   ]
  },
  {
   "cell_type": "code",
   "execution_count": 86,
   "metadata": {},
   "outputs": [
    {
     "name": "stdout",
     "output_type": "stream",
     "text": [
      "2h 30min 0sec\n",
      "1h 52min 0sec\n",
      "0h 38min 34sec\n"
     ]
    }
   ],
   "source": [
    "def lets_meet(d,v1,v2):\n",
    "    res =  d / (v1+v2)\n",
    "    time = res * 60\n",
    "    hours, seconds = divmod(time * 60, 3600)  # split to hours and seconds\n",
    "    minutes, seconds = divmod(seconds, 60)\n",
    "    return str(round(hours))+\"h \"+ str(round(minutes)) +\"min \"+ str(round(seconds)) +\"sec\"\n",
    "\n",
    "print(lets_meet(100, 10, 30))\n",
    "print(lets_meet(280, 70, 80))\n",
    "print(lets_meet(90, 75, 65))"
   ]
  },
  {
   "cell_type": "code",
   "execution_count": null,
   "metadata": {},
   "outputs": [],
   "source": [
    "Programming_Assignment_18\n",
    "1. A robot has been given a list of movement instructions. Each instruction is either left, right, up or down, followed by a distance to move. The robot starts at [0, 0]. You want to calculate where the robot will end up and return its final position as a list.\n",
    "To illustrate, if the robot is given the following instructions:\n",
    "\n",
    "[\"right 10\", \"up 50\", \"left 30\", \"down 10\"]\n",
    "\n",
    "It will end up 20 left and 40 up from where it started, so we return [-20, 40].\n",
    "\n",
    "Examples\n",
    "\n",
    "track_robot([\"right 10\", \"up 50\", \"left 30\", \"down 10\"]) ➞ [-20, 40]\n",
    "\n",
    "track_robot([]) ➞ [0, 0] // If there are no instructions, the robot doesn't move.\n",
    "\n",
    "track_robot([\"right 100\", \"right 100\", \"up 500\", \"up 10000\"]) ➞ [200, 10500]"
   ]
  },
  {
   "cell_type": "code",
   "execution_count": 87,
   "metadata": {},
   "outputs": [
    {
     "name": "stdout",
     "output_type": "stream",
     "text": [
      "[-20, 40]\n",
      "[0, 0]\n",
      "[200, 10500]\n"
     ]
    }
   ],
   "source": [
    "def track_robot(l):\n",
    "    l1 = []\n",
    "    count_l =0\n",
    "    count_r =0\n",
    "    count_u =0\n",
    "    count_d =0\n",
    "    \n",
    "    for i in l:\n",
    "        if \"left\" in i:\n",
    "            count_l += int(i.split(' ')[1])\n",
    "        if \"right\" in i:\n",
    "            count_r += int(i.split(' ')[1])\n",
    "        if \"up\" in i:\n",
    "            count_u += int(i.split(' ')[1])\n",
    "        if \"down\" in i:\n",
    "            count_d += int(i.split(' ')[1])\n",
    "              \n",
    "    l1.append(count_r - count_l)\n",
    "    l1.append(count_u - count_d)\n",
    "    \n",
    "    return l1\n",
    "\n",
    "print(track_robot([\"right 10\", \"up 50\", \"left 30\", \"down 10\"]))\n",
    "print(track_robot([]))\n",
    "print(track_robot([\"right 100\", \"right 100\", \"up 500\", \"up 10000\"]) )"
   ]
  },
  {
   "cell_type": "code",
   "execution_count": null,
   "metadata": {},
   "outputs": [],
   "source": [
    "2. Write a function that will return the longest word in a sentence. In cases where more than one word is found, return the first one.\n",
    "Examples\n",
    "\n",
    "find_longest(\"A thing of beauty is a joy forever.\") ➞ \"forever\"\n",
    "\n",
    "find_longest(\"Forgetfulness is by all means powerless!\") ➞ \"forgetfulness\"\n",
    "\n",
    "find_longest(\"\\\"Strengths\\\" is the longest and most commonly used word that contains only a single vowel.\") ➞ \"strengths\""
   ]
  },
  {
   "cell_type": "code",
   "execution_count": 88,
   "metadata": {},
   "outputs": [
    {
     "name": "stdout",
     "output_type": "stream",
     "text": [
      "forever\n",
      "Forgetfulness\n",
      "\"Strengths\"\n"
     ]
    }
   ],
   "source": [
    "def find_longest(s):\n",
    "    longest = 0\n",
    "    for word in s.split():\n",
    "        if len(word) > longest:\n",
    "            longest = len(word)\n",
    "            longest_word = word   \n",
    "    return longest_word.strip('.')\n",
    "\n",
    "print(find_longest(\"A thing of beauty is a joy forever.\"))\n",
    "print(find_longest(\"Forgetfulness is by all means powerless!\")   )\n",
    "print(find_longest('\"Strengths\" is the longest and most commonly used word that contains only a single vowel.') )"
   ]
  },
  {
   "cell_type": "code",
   "execution_count": null,
   "metadata": {},
   "outputs": [],
   "source": [
    "3. Create a function to check if a candidate is qualified in an imaginary coding interview of an imaginary tech startup.\n",
    "The criteria for a candidate to be qualified in the coding interview is:\n",
    "\n",
    "The candidate should have complete all the questions.\n",
    "The maximum time given to complete the interview is 120 minutes.\n",
    "The maximum time given for very easy questions is 5 minutes each.\n",
    "The maximum time given for easy questions is 10 minutes each.\n",
    "The maximum time given for medium questions is 15 minutes each.\n",
    "The maximum time given for hard questions is 20 minutes each.\n",
    "If all the above conditions are satisfied, return \"qualified\", else return \"disqualified\".\n",
    "\n",
    "You will be given a list of time taken by a candidate to solve a particular question and the total time taken by the candidate to complete the interview.\n",
    "\n",
    "Given a list , in a true condition will always be in the format [very easy, very easy, easy, easy, medium, medium, hard, hard].\n",
    "\n",
    "The maximum time to complete the interview includes a buffer time of 20 minutes.\n",
    "\n",
    "Examples\n",
    "\n",
    "interview([5, 5, 10, 10, 15, 15, 20, 20], 120) ➞ \"qualified\"\n",
    "\n",
    "interview([2, 3, 8, 6, 5, 12, 10, 18], 64) ➞ \"qualified\"\n",
    "\n",
    "interview([5, 5, 10, 10, 25, 15, 20, 20], 120) ➞ \"disqualified\"\n",
    "Exceeded the time limit for a medium question.\n",
    "interview([5, 5, 10, 10, 15, 15, 20], 120) ➞ \"disqualified\"\n",
    "\n",
    "Did not complete all the questions.\n",
    "interview([5, 5, 10, 10, 15, 15, 20, 20], 130) ➞ \"disqualified\"\n",
    "\n",
    "Solved all the questions in their respected time limits but exceeded the total time limit of the interview."
   ]
  },
  {
   "cell_type": "code",
   "execution_count": 89,
   "metadata": {},
   "outputs": [
    {
     "name": "stdout",
     "output_type": "stream",
     "text": [
      "qualified\n",
      "qualified\n",
      "disqualified\n",
      "disqualified\n",
      "disqualified\n"
     ]
    }
   ],
   "source": [
    "def interview(l,total_time):\n",
    "    if total_time <= 120 and len(l) == 8:\n",
    "        for i in l[0:2]:\n",
    "            if i > 5:\n",
    "                return \"disqualified\"\n",
    "        for i in l[2:4]:\n",
    "            if i > 10:\n",
    "                return \"disqualified\"\n",
    "        for i in l[4:6]:\n",
    "            if i > 15:\n",
    "                return \"disqualified\"\n",
    "        for i in l[6:8]:\n",
    "            if i > 20:\n",
    "                return \"disqualified\"\n",
    "    else:\n",
    "        return \"disqualified\"\n",
    "    \n",
    "    return 'qualified'\n",
    "\n",
    "print(interview([5, 5, 10, 10, 15, 15, 20, 20], 120) )\n",
    "print(interview([2, 3, 8, 6, 5, 12, 10, 18], 64) )\n",
    "print(interview([5, 5, 10, 10, 25, 15, 20, 20], 120) )\n",
    "print(interview([5, 5, 10, 10, 15, 15, 20], 120))\n",
    "print(interview([5, 5, 10, 10, 15, 15, 20, 20], 130) )"
   ]
  },
  {
   "cell_type": "code",
   "execution_count": null,
   "metadata": {},
   "outputs": [],
   "source": [
    "4. Write a function that divides a list into chunks of size n, where n is the length of each chunk.\n",
    "Examples\n",
    "\n",
    "chunkify([2, 3, 4, 5], 2) ➞ [[2, 3], [4, 5]]\n",
    "\n",
    "chunkify([2, 3, 4, 5, 6], 2) ➞ [[2, 3], [4, 5], [6]]\n",
    "\n",
    "chunkify([2, 3, 4, 5, 6, 7], 3) ➞ [[2, 3, 4], [5, 6, 7]]\n",
    "\n",
    "chunkify([2, 3, 4, 5, 6, 7], 1) ➞ [[2], [3], [4], [5], [6], [7]]\n",
    "\n",
    "chunkify([2, 3, 4, 5, 6, 7], 7) ➞ [[2, 3, 4, 5, 6, 7]]"
   ]
  },
  {
   "cell_type": "code",
   "execution_count": 90,
   "metadata": {},
   "outputs": [
    {
     "name": "stdout",
     "output_type": "stream",
     "text": [
      "[[2, 3], [4, 5]]\n",
      "[[2, 3], [4, 5], [6]]\n",
      "[[2, 3, 4], [5, 6, 7]]\n",
      "[[2], [3], [4], [5], [6], [7]]\n",
      "[[2, 3, 4, 5, 6, 7]]\n"
     ]
    }
   ],
   "source": [
    "def chunkify(lst, size):\n",
    "  return [lst[i:i + size] for i in range(0,len(lst),size)]\n",
    "\n",
    "print(chunkify([2, 3, 4, 5], 2))\n",
    "print(chunkify([2, 3, 4, 5, 6], 2))\n",
    "print(chunkify([2, 3, 4, 5, 6, 7], 3))\n",
    "print(chunkify([2, 3, 4, 5, 6, 7], 1))\n",
    "print(chunkify([2, 3, 4, 5, 6, 7], 7))"
   ]
  },
  {
   "cell_type": "code",
   "execution_count": null,
   "metadata": {},
   "outputs": [],
   "source": [
    "5. You are given a list of strings consisting of grocery items, with prices in\n",
    "parentheses. Return a list of prices in float format.\n",
    "\n",
    "Examples get_prices([\"salad (4.99)&quot;]) ➞ [4.99] get_prices([ &quot;artichokes (1.99)\", \"rotiserrie chicken (5.99)&quot;, &quot;gum (0.75)\" ]) ➞ [1.99, 5.99, 0.75] get_prices([ \"ice cream (5.99)&quot;, &quot;banana (0.20)\", \"sandwich (8.50)&quot;, &quot;soup (1.99)\" ]) ➞ [5.99, 0.2, 8.50, 1.99]"
   ]
  },
  {
   "cell_type": "code",
   "execution_count": 91,
   "metadata": {},
   "outputs": [
    {
     "name": "stdout",
     "output_type": "stream",
     "text": [
      "[1.99, 5.99, 0.75]\n",
      "[5.99, 0.2, 8.5, 1.99]\n",
      "[4.99]\n"
     ]
    }
   ],
   "source": [
    "def get_prices(l):\n",
    "    l1 = []\n",
    "    for i in l:\n",
    "        l1.append(i.split(' ')[-1].replace('($', '').replace(')',''))\n",
    "    return list(map(float,l1))\n",
    "\n",
    "print(get_prices(l = [\n",
    "  \"artichokes ($1.99)\",\n",
    "  \"rotiserrie chicken ($5.99)\",\n",
    "  \"gum ($0.75)\"\n",
    "]))\n",
    "\n",
    "print(get_prices([\n",
    "  \"ice cream ($5.99)\",\n",
    "  \"banana ($0.20)\",\n",
    "  \"sandwich ($8.50)\",\n",
    "  \"soup ($1.99)\"\n",
    "])\n",
    ")\n",
    "print(get_prices([\"salad ($4.99)\"]))"
   ]
  },
  {
   "cell_type": "code",
   "execution_count": null,
   "metadata": {},
   "outputs": [],
   "source": [
    "Programming_Assignment_19\n",
    "1. Create a checker board generator, which takes as inputs n and 2 elements to generate an n x n checkerboard with those two elements as alternating squares.\n",
    "Examples\n",
    "\n",
    "checker_board(2, 7, 6) ➞ [ [7, 6], [6, 7] ]\n",
    "\n",
    "checker_board(3, \"A\", \"B\") ➞ [ [\"A\", \"B\", \"A\"], [\"B\", \"A\", \"B\"], [\"A\", \"B\", \"A\"] ]\n",
    "\n",
    "checker_board(4, \"c\", \"d\") ➞ [ [\"c\", \"d\", \"c\", \"d\"], [\"d\", \"c\", \"d\", \"c\"], [\"c\", \"d\", \"c\", \"d\"], [\"d\", \"c\", \"d\", \"c\"] ]\n",
    "\n",
    "checker_board(4, \"c\", \"c\") ➞ \"invalid\""
   ]
  },
  {
   "cell_type": "code",
   "execution_count": 92,
   "metadata": {},
   "outputs": [
    {
     "name": "stdout",
     "output_type": "stream",
     "text": [
      "[[7, 6], [6, 7]]\n",
      "[['A', 'B', 'A'], ['B', 'A', 'B'], ['A', 'B', 'A']]\n",
      "[['c', 'd', 'c', 'd'], ['d', 'c', 'd', 'c'], ['c', 'd', 'c', 'd'], ['d', 'c', 'd', 'c']]\n",
      "invalid\n"
     ]
    }
   ],
   "source": [
    "import numpy as np\n",
    "\n",
    "def checker_board(n,e1,e2):\n",
    "    if e1 != e2:\n",
    "        l = []\n",
    "        for i in range(n):\n",
    "            l1 = []\n",
    "\n",
    "            for j in range(n):\n",
    "                if i % 2 == 0:\n",
    "                    if j % 2 == 0:\n",
    "                        l1.append(e1) \n",
    "                    else:\n",
    "                        l1.append(e2)\n",
    "                else:\n",
    "                    if j % 2 == 0:\n",
    "                        l1.append(e2) \n",
    "                    else:\n",
    "                        l1.append(e1) \n",
    "\n",
    "            l.append(l1)\n",
    "        return l\n",
    "    else:\n",
    "        return \"invalid\"\n",
    "\n",
    "print(checker_board(2,7,6))\n",
    "print(checker_board(3, \"A\", \"B\"))\n",
    "print(checker_board(4, \"c\", \"d\"))\n",
    "print(checker_board(4, \"c\", \"c\"))"
   ]
  },
  {
   "cell_type": "code",
   "execution_count": null,
   "metadata": {},
   "outputs": [],
   "source": [
    "2. A string is an almost-palindrome if, by changing only one character, you can make it a palindrome. Create a function that returns True if a string is an almost-palindrome and False otherwise.\n",
    "Examples\n",
    "\n",
    "almost_palindrome(\"abcdcbg\") ➞ True\n",
    "\n",
    "Transformed to \"abcdcba\" by changing \"g\" to \"a\".\n",
    "almost_palindrome(\"abccia\") ➞ True\n",
    "\n",
    "Transformed to \"abccba\" by changing \"i\" to \"b\".\n",
    "almost_palindrome(\"abcdaaa\") ➞ False\n",
    "\n",
    "Can't be transformed to a palindrome in exactly 1 turn."
   ]
  },
  {
   "cell_type": "code",
   "execution_count": 93,
   "metadata": {},
   "outputs": [
    {
     "name": "stdout",
     "output_type": "stream",
     "text": [
      "True\n",
      "True\n",
      "False\n"
     ]
    }
   ],
   "source": [
    "def almost_palindrome(s):\n",
    "    count = 0 \n",
    "    s1 = s[0:int(len(s)/2)+1]\n",
    "    s2 = s[-1:int(len(s)/2)-1:-1]\n",
    "    for i in range(len(s1)):\n",
    "        if s1[i] != s2[i]:\n",
    "            count += 1                \n",
    "    if count == 1:\n",
    "        return True\n",
    "    else:\n",
    "        return False\n",
    "    \n",
    "print(almost_palindrome(\"abcdcbg\"))\n",
    "print(almost_palindrome(\"abcacia\"))\n",
    "print(almost_palindrome(\"abcdaaa\"))"
   ]
  },
  {
   "cell_type": "code",
   "execution_count": null,
   "metadata": {},
   "outputs": [],
   "source": [
    "3. Create a function that finds how many prime numbers there are, up to the given integer.\n",
    "Examples\n",
    "\n",
    "prime_numbers(10) ➞ 4\n",
    "\n",
    "2, 3, 5 and 7\n",
    "prime_numbers(20) ➞ 8\n",
    "\n",
    "2, 3, 5, 7, 11, 13, 17 and 19\n",
    "prime_numbers(30) ➞ 10\n",
    "\n",
    "2, 3, 5, 7, 11, 13, 17, 19, 23 and 29"
   ]
  },
  {
   "cell_type": "code",
   "execution_count": 94,
   "metadata": {},
   "outputs": [
    {
     "data": {
      "text/plain": [
       "(10, [2, 3, 5, 7, 11, 13, 17, 19, 23, 29])"
      ]
     },
     "execution_count": 94,
     "metadata": {},
     "output_type": "execute_result"
    }
   ],
   "source": [
    "def prime_numbers(n):\n",
    "    l = [2]\n",
    "    for i in range(3,n,2):\n",
    "        for j in range(2,i):\n",
    "            if i % j == 0:                \n",
    "                break\n",
    "        else:\n",
    "            l.append(i)\n",
    "    return len(l),l\n",
    "\n",
    "prime_numbers(30)"
   ]
  },
  {
   "cell_type": "code",
   "execution_count": null,
   "metadata": {},
   "outputs": [],
   "source": [
    "4. If today was Monday, in two days, it would be Wednesday.\n",
    "Create a function that takes in a list of days as input and the number of days to increment by. Return a list of days after n number of days has passed.\n",
    "\n",
    "Examples\n",
    "\n",
    "after_n_days([\"Thursday\", \"Monday\"], 4) ➞ [\"Monday\", \"Friday\"]\n",
    "\n",
    "after_n_days([\"Sunday\", \"Sunday\", \"Sunday\"], 1) ➞ [\"Monday\", \"Monday\", \"Monday\"]\n",
    "\n",
    "after_n_days([\"Monday\", \"Tuesday\", \"Friday\"], 1) ➞ [\"Tuesday\", \"Wednesday\", \"Saturday\"]"
   ]
  },
  {
   "cell_type": "code",
   "execution_count": 95,
   "metadata": {},
   "outputs": [
    {
     "name": "stdout",
     "output_type": "stream",
     "text": [
      "['Monday', 'Friday']\n",
      "['Monday', 'Monday', 'Monday']\n",
      "['Tuesday', 'Wednesday', 'Saturday']\n"
     ]
    }
   ],
   "source": [
    "def after_n_days(l,n):\n",
    "    days_of_the_week = [\"Monday\", \"Tuesday\",\"Wednesday\",\"Thursday\", \"Friday\", \"Saturday\",\"Sunday\"]\n",
    "    \n",
    "    for i in range(len(l)):\n",
    "        if days_of_the_week.index(l[i]) + n < len(days_of_the_week):\n",
    "            l[i] = days_of_the_week[days_of_the_week.index(l[i])+n]\n",
    "        else:\n",
    "            l[i] = days_of_the_week[days_of_the_week.index(l[i])+n-len(days_of_the_week)]\n",
    "            \n",
    "    return l\n",
    "\n",
    "print(after_n_days([\"Thursday\", \"Monday\"], 4))\n",
    "print(after_n_days([\"Sunday\", \"Sunday\", \"Sunday\"], 1))\n",
    "print(after_n_days([\"Monday\", \"Tuesday\", \"Friday\"], 1) )"
   ]
  },
  {
   "cell_type": "code",
   "execution_count": null,
   "metadata": {},
   "outputs": [],
   "source": [
    "5. You are in the process of creating a chat application and want to add an anonymous name feature. This anonymous name feature will create an alias that consists of two capitalized words beginning with the same letter as the users first name.\n",
    "Create a function that determines if the list of users is mapped to a list of anonymous names correctly.\n",
    "\n",
    "Examples\n",
    "\n",
    "is_correct_aliases([\"Adrian M.\", \"Harriet S.\", \"Mandy T.\"], [\"Amazing Artichoke\", \"Hopeful Hedgehog\", \"Marvelous Mouse\"]) ➞ True\n",
    "\n",
    "is_correct_aliases([\"Rachel F.\", \"Pam G.\", \"Fred Z.\", \"Nancy K.\"], [\"Reassuring Rat\", \"Peaceful Panda\", \"Fantastic Frog\", \"Notable Nickel\"]) ➞ True\n",
    "\n",
    "is_correct_aliases([\"Beth T.\"], [\"Brandishing Mimosa\"]) ➞ False\n",
    "\n",
    "Both words in \"Brandishing Mimosa\" should begin with a \"B\" - \"Brandishing Beaver\" would do the trick."
   ]
  },
  {
   "cell_type": "code",
   "execution_count": 96,
   "metadata": {},
   "outputs": [
    {
     "name": "stdout",
     "output_type": "stream",
     "text": [
      "True\n",
      "True\n",
      "False\n"
     ]
    }
   ],
   "source": [
    "def is_correct_aliases(l1,l2):\n",
    "    for i in range(len(l1)):\n",
    "        if l1[i][0] == l2[i][0] and l1[i][0] == l2[i].split()[1][0]:\n",
    "            return True\n",
    "        else:\n",
    "            return False\n",
    "        \n",
    "        \n",
    "print(is_correct_aliases([\"Adrian M.\", \"Harriet S.\", \"Mandy T.\"], [\"Amazing Artichoke\", \"Hopeful Hedgehog\", \"Marvelous Mouse\"]))\n",
    "print(is_correct_aliases([\"Rachel F.\", \"Pam G.\", \"Fred Z.\", \"Nancy K.\"], [\"Reassuring Rat\", \"Peaceful Panda\", \"Fantastic Frog\", \"Notable Nickel\"]))\n",
    "print(is_correct_aliases([\"Beth T.\"], [\"Brandishing Mimosa\"]) )"
   ]
  },
  {
   "cell_type": "code",
   "execution_count": null,
   "metadata": {},
   "outputs": [],
   "source": [
    "Programming_Assignment_20\n",
    "1. Create a function based on the input and output. Look at the examples, there is a pattern.\n",
    "Examples\n",
    "\n",
    "secret(\"p.one.two.three\") ➞ \"\n",
    "\n",
    "\"\n",
    "secret(\"p.one\") ➞ \"\n",
    "\n",
    "\"\n",
    "secret(\"p.four.five\") ➞ \"\n",
    "\n",
    "\""
   ]
  },
  {
   "cell_type": "code",
   "execution_count": 97,
   "metadata": {},
   "outputs": [
    {
     "name": "stdout",
     "output_type": "stream",
     "text": [
      "<p class='one two three'></p>\n",
      "<p class='one'></p>\n",
      "<p class='four five'></p>\n"
     ]
    }
   ],
   "source": [
    "def secret(s):\n",
    "    s1 = ''\n",
    "    l = s.split('.')\n",
    "    s1 += '<' + l[0] + \" class='\"\n",
    "    \n",
    "    for i in range(1,len(l)):\n",
    "        s1 += l[i] + ' '\n",
    "        \n",
    "    return s1.strip() +\"'></\"+l[0]+\">\"    \n",
    "    \n",
    "print(secret(\"p.one.two.three\"))\n",
    "print(secret(\"p.one\"))\n",
    "print(secret(\"p.four.five\"))"
   ]
  },
  {
   "cell_type": "code",
   "execution_count": null,
   "metadata": {},
   "outputs": [],
   "source": [
    "2. Create a function which counts how many lone 1s appear in a given number. Lone means the number doesn't appear twice or more in a row.\n",
    "Examples\n",
    "\n",
    "count_lone_ones(101) ➞ 2\n",
    "\n",
    "count_lone_ones(1191) ➞ 1\n",
    "\n",
    "count_lone_ones(1111) ➞ 0\n",
    "\n",
    "count_lone_ones(462) ➞ 0"
   ]
  },
  {
   "cell_type": "code",
   "execution_count": 98,
   "metadata": {},
   "outputs": [
    {
     "name": "stdout",
     "output_type": "stream",
     "text": [
      "2\n",
      "1\n",
      "0\n",
      "0\n"
     ]
    }
   ],
   "source": [
    "def count_lone_ones(n):\n",
    "    n = str(n)\n",
    "    count = 0\n",
    "    \n",
    "    if n[0] == '1' and n[1] != '1':\n",
    "        count += 1\n",
    "        \n",
    "    for i in range(2,len(n)):\n",
    "        if n[i] == '1' and n[i-1] != '1':\n",
    "            count += 1\n",
    "            \n",
    "    return count\n",
    "\n",
    "print(count_lone_ones(101))\n",
    "print(count_lone_ones(1191))\n",
    "print(count_lone_ones(1111))\n",
    "print(count_lone_ones(462))"
   ]
  },
  {
   "cell_type": "code",
   "execution_count": null,
   "metadata": {},
   "outputs": [],
   "source": [
    "3. Write a method that accepts two integer parameters rows and cols. The output is a 2d array of numbers displayed in column-major order, meaning the numbers shown increase sequentially down each column and wrap to the top of the next column to the right once the bottom of the current column is reached.\n",
    "Examples\n",
    "\n",
    "printGrid(3, 6) ➞ [ [1, 4, 7, 10, 13, 16], [2, 5, 8, 11, 14, 17], [3, 6, 9, 12, 15, 18] ]\n",
    "\n",
    "printGrid(5, 3) ➞ [ [1, 6, 11], [2, 7, 12], [3, 8, 13], [4, 9, 14], [5, 10, 15] ]\n",
    "\n",
    "printGrid(4, 1) ➞ [ [1], [2], [3], [4] ]"
   ]
  },
  {
   "cell_type": "code",
   "execution_count": 99,
   "metadata": {},
   "outputs": [
    {
     "name": "stdout",
     "output_type": "stream",
     "text": [
      "[[1, 4, 7, 10, 13, 16], [2, 5, 8, 11, 14, 17], [3, 6, 9, 12, 15, 18]]\n",
      "[[1, 6, 11], [2, 7, 12], [3, 8, 13], [4, 9, 14], [5, 10, 15]]\n",
      "[[1], [2], [3], [4]]\n"
     ]
    }
   ],
   "source": [
    "def printGrid(r,c):\n",
    "    l = []\n",
    "    for i in range(r):\n",
    "        l1 = []\n",
    "        for j in range(c):\n",
    "            l1.append((i+1)+j*r)\n",
    "\n",
    "        l.append(l1)    \n",
    "\n",
    "    return l \n",
    "\n",
    "print(printGrid(3, 6))\n",
    "print(printGrid(5, 3))\n",
    "print(printGrid(4, 1))"
   ]
  },
  {
   "cell_type": "code",
   "execution_count": null,
   "metadata": {},
   "outputs": [],
   "source": [
    "4. Given a list of integers, return the smallest positive integer not present in the list.\n",
    "Here is a representative example. Consider the list:\n",
    "\n",
    "[-2, 6, 4, 5, 7, -1, 7, 1, 3, 6, 6, -2, 9, 10, 2, 2]\n",
    "\n",
    "After reordering, the list becomes:\n",
    "\n",
    "[-2, -2, -1, 1, 2, 2, 3, 4, 5, 6, 6, 6, 7, 7, 9, 10]\n",
    "\n",
    "from which we see that the smallest missing positive integer is 8.\n",
    "\n",
    "Examples\n",
    "\n",
    "min_miss_pos([-2, 6, 4, 5, 7, -1, 1, 3, 6, -2, 9, 10, 2, 2]) ➞ 8\n",
    "\n",
    "After sorting, list becomes [-2, -2, -1, 1, 2, 2, 3, 4, 5, 6, 6, 7, 9, 10]\n",
    "So the smallest missing positive integer is 8\n",
    "min_miss_pos([5, 9, -2, 0, 1, 3, 9, 3, 8, 9]) ➞ 2\n",
    "\n",
    "After sorting, list becomes [-2, 0, 1, 3, 3, 5, 8, 9, 9, 9]\n",
    "So the smallest missing positive integer is 2\n",
    "min_miss_pos([0, 4, 4, -1, 9, 4, 5, 2, 10, 7, 6, 3, 10, 9]) ➞ 1\n",
    "\n",
    "After sorting, list becomes [-1, 0, 2, 3, 4, 4, 4, 5, 6, 7, 9, 9, 10, 10]\n",
    "So the smallest missing positive integer is 1"
   ]
  },
  {
   "cell_type": "code",
   "execution_count": 100,
   "metadata": {},
   "outputs": [
    {
     "name": "stdout",
     "output_type": "stream",
     "text": [
      "2\n",
      "1\n",
      "1\n"
     ]
    }
   ],
   "source": [
    "def min_miss_pos(l):\n",
    "    n = max(sorted(l))\n",
    "\n",
    "    for i in range(n):\n",
    "        if i > 0 and i not in l:\n",
    "            return i\n",
    "        \n",
    "print(min_miss_pos([-2, 0, 1, 3, 3, 5, 8, 9, 9, 9]))\n",
    "print(min_miss_pos([0, 4, 4, -1, 9, 4, 5, 2, 10, 7, 6, 3, 10, 9]))\n",
    "print(min_miss_pos( [-1, 0, 2, 3, 4, 4, 4, 5, 6, 7, 9, 9, 10, 10]))"
   ]
  },
  {
   "cell_type": "code",
   "execution_count": null,
   "metadata": {},
   "outputs": [],
   "source": [
    "5. Google is launching a network of autonomous pizza delivery drones and wants you to create a flexible rewards system (Pizza Points™) that can be tweaked in the future. The rules are simple: if a customer has made at least N orders of at least Y price, they get a FREE pizza!\n",
    "Create a function that takes a dictionary of customers, a minimum number of orders and a minimum order price. Return a list of customers that are eligible for a free pizza.\n",
    "\n",
    "Examples\n",
    "\n",
    "customers = { \"Batman\": [22, 30, 11, 17, 15, 52, 27, 12], \"Spider-Man\": [5, 17, 30, 33, 40, 22, 26, 10, 11, 45] }\n",
    "\n",
    "pizza_points(customers, 5, 20) ➞ [\"Spider-Man\"]\n",
    "\n",
    "pizza_points(customers, 3, 10) ➞ [\"Batman\", \"Spider-Man\"]\n",
    "\n",
    "pizza_points(customers, 5, 100) ➞ []"
   ]
  },
  {
   "cell_type": "code",
   "execution_count": 101,
   "metadata": {},
   "outputs": [
    {
     "name": "stdout",
     "output_type": "stream",
     "text": [
      "['Spider-Man']\n",
      "['Batman', 'Spider-Man']\n",
      "[]\n"
     ]
    }
   ],
   "source": [
    "def pizza_points(customers, min_order, min_order_price):\n",
    "    l = []\n",
    "    for key,value in customers.items():\n",
    "        count = 0        \n",
    "        for i in value:\n",
    "            if i >= min_order_price:\n",
    "                count += 1\n",
    "\n",
    "        if count >= min_order:\n",
    "            l.append(key)\n",
    "    return l\n",
    "\n",
    "customers = { \"Batman\": [22, 30, 11, 17, 15, 52, 27, 12], \"Spider-Man\": [5, 17, 30, 33, 40, 22, 26, 10, 11, 45] }\n",
    "print(pizza_points(customers,5,20))\n",
    "print(pizza_points(customers,3,10))\n",
    "print(pizza_points(customers,5,100))"
   ]
  },
  {
   "cell_type": "code",
   "execution_count": null,
   "metadata": {},
   "outputs": [],
   "source": [
    "Assignment-21\n",
    "1. Given a sentence, return the number of words which have the same first and last letter.\n",
    "Examples\n",
    "\n",
    "count_same_ends(\"Pop! goes the balloon\") ➞ 1\n",
    "\n",
    "count_same_ends(\"And the crowd goes wild!\") ➞ 0\n",
    "\n",
    "count_same_ends(\"No I am not in a gang.\") ➞ 1"
   ]
  },
  {
   "cell_type": "code",
   "execution_count": 102,
   "metadata": {},
   "outputs": [
    {
     "data": {
      "text/plain": [
       "1"
      ]
     },
     "execution_count": 102,
     "metadata": {},
     "output_type": "execute_result"
    }
   ],
   "source": [
    "# Ans : \n",
    "def only_alpha(string):\n",
    "    new=\"\"\n",
    "    for i in string:\n",
    "        if i.isalpha():\n",
    "            new +=i\n",
    "    return new\n",
    "def count_same_ends(s):\n",
    "    s=s.lower()\n",
    "    s=s.split(\" \")\n",
    "    count=0\n",
    "    s=[only_alpha(i) for i in s]\n",
    "    for i in s:\n",
    "        if i[0]==i[-1]:\n",
    "            if len(i) > 1:\n",
    "                count+=1\n",
    "    return count\n",
    "count_same_ends(\"Pop! goes the balloon\")"
   ]
  },
  {
   "cell_type": "code",
   "execution_count": null,
   "metadata": {},
   "outputs": [],
   "source": [
    "count_same_ends(\"And the crowd goes wild!\")"
   ]
  },
  {
   "cell_type": "code",
   "execution_count": null,
   "metadata": {},
   "outputs": [],
   "source": [
    "count_same_ends(\"No I am not in a gang.\")"
   ]
  },
  {
   "cell_type": "code",
   "execution_count": null,
   "metadata": {},
   "outputs": [],
   "source": [
    "2. The Atbash cipher is an encryption method in which each letter of a word is replaced with its \"mirror\" letter in the alphabet: A <=> Z; B <=> Y; C <=> X; etc. Create a function that takes a string and applies the Atbash cipher to it.\n",
    "Examples\n",
    "\n",
    "atbash(\"apple\") ➞ \"zkkov\"\n",
    "\n",
    "atbash(\"Hello world!\") ➞ \"Svool dliow!\"\n",
    "\n",
    "atbash(\"Christmas is the 25th of December\") ➞ \"Xsirhgnzh rh gsv 25gs lu Wvxvnyvi\""
   ]
  },
  {
   "cell_type": "code",
   "execution_count": 103,
   "metadata": {},
   "outputs": [],
   "source": [
    "# Ans : \n",
    "def atbash(string):\n",
    "    n = ord('z') + ord('a')\n",
    "    N = ord('A') + ord('Z')\n",
    "    ans=''\n",
    "    string=string.split(\" \")\n",
    "    for s in string:\n",
    "        for i in s:\n",
    "            if i.isalpha(): \n",
    "                if i.isupper():\n",
    "                    ans+=(chr(N-ord(i)))\n",
    "                else:\n",
    "                    ans+=(chr(n-ord(i)))\n",
    "            \n",
    "            else:\n",
    "                ans+=i\n",
    "        ans+=\" \"\n",
    "    ans=ans[:-1]\n",
    "    return ans"
   ]
  },
  {
   "cell_type": "code",
   "execution_count": 104,
   "metadata": {},
   "outputs": [
    {
     "data": {
      "text/plain": [
       "'zkkov'"
      ]
     },
     "execution_count": 104,
     "metadata": {},
     "output_type": "execute_result"
    }
   ],
   "source": [
    "atbash(\"apple\")"
   ]
  },
  {
   "cell_type": "code",
   "execution_count": 105,
   "metadata": {},
   "outputs": [
    {
     "data": {
      "text/plain": [
       "'Svool dliow!'"
      ]
     },
     "execution_count": 105,
     "metadata": {},
     "output_type": "execute_result"
    }
   ],
   "source": [
    "atbash(\"Hello world!\")"
   ]
  },
  {
   "cell_type": "code",
   "execution_count": 106,
   "metadata": {},
   "outputs": [
    {
     "data": {
      "text/plain": [
       "'Xsirhgnzh rh gsv 25gs lu Wvxvnyvi'"
      ]
     },
     "execution_count": 106,
     "metadata": {},
     "output_type": "execute_result"
    }
   ],
   "source": [
    "atbash(\"Christmas is the 25th of December\")"
   ]
  },
  {
   "cell_type": "code",
   "execution_count": null,
   "metadata": {},
   "outputs": [],
   "source": [
    "3. Create a class Employee that will take a full name as argument, as well as a set of none, one or more keywords. Each instance should have a name and a lastname attributes plus one more attribute for each of the keywords, if any.\n",
    "Examples\n",
    "\n",
    "john = Employee(\"John Doe\") mary = Employee(\"Mary Major\", salary=120000) richard = Employee(\"Richard Roe\", salary=110000, height=178) giancarlo = Employee(\"Giancarlo Rossi\", salary=115000, height=182, nationality=\"Italian\")\n",
    "\n",
    "john.name ➞ \"John\" mary.lastname ➞ \"Major\" richard.height ➞ 178 giancarlo.nationality ➞ \"Italian\""
   ]
  },
  {
   "cell_type": "code",
   "execution_count": 107,
   "metadata": {},
   "outputs": [],
   "source": [
    "# Ans : \n",
    "class Employee:\n",
    "    def __init__(self, full_name, **kwargs):\n",
    "        self.name = full_name.split(' ')[0]\n",
    "        self.lastname = full_name.split(' ')[-1] \n",
    "#         print(kwargs)\n",
    "        for var in kwargs:\n",
    "            if isinstance(kwargs[var], str):\n",
    "                exec(\"self.{0} = '{1}'\".format(var,kwargs[var]))\n",
    "            else:\n",
    "                exec(\"self.{0} = {1}\".format(var,kwargs[var]))"
   ]
  },
  {
   "cell_type": "code",
   "execution_count": 108,
   "metadata": {},
   "outputs": [],
   "source": [
    "john = Employee(\"John Doe\")\n",
    "mary = Employee(\"Mary Major\", salary=120000)\n",
    "richard = Employee(\"Richard Roe\", salary=110000, height=178)\n",
    "giancarlo = Employee(\"Giancarlo Rossi\", salary=115000, height=182, nationality=\"Italian\")"
   ]
  },
  {
   "cell_type": "code",
   "execution_count": 109,
   "metadata": {},
   "outputs": [
    {
     "data": {
      "text/plain": [
       "'John'"
      ]
     },
     "execution_count": 109,
     "metadata": {},
     "output_type": "execute_result"
    }
   ],
   "source": [
    "john.name"
   ]
  },
  {
   "cell_type": "code",
   "execution_count": 110,
   "metadata": {},
   "outputs": [
    {
     "data": {
      "text/plain": [
       "'Major'"
      ]
     },
     "execution_count": 110,
     "metadata": {},
     "output_type": "execute_result"
    }
   ],
   "source": [
    "mary.lastname"
   ]
  },
  {
   "cell_type": "code",
   "execution_count": 111,
   "metadata": {},
   "outputs": [
    {
     "data": {
      "text/plain": [
       "178"
      ]
     },
     "execution_count": 111,
     "metadata": {},
     "output_type": "execute_result"
    }
   ],
   "source": [
    "richard.height"
   ]
  },
  {
   "cell_type": "code",
   "execution_count": 112,
   "metadata": {},
   "outputs": [
    {
     "data": {
      "text/plain": [
       "'Italian'"
      ]
     },
     "execution_count": 112,
     "metadata": {},
     "output_type": "execute_result"
    }
   ],
   "source": [
    "giancarlo.nationality"
   ]
  },
  {
   "cell_type": "code",
   "execution_count": null,
   "metadata": {},
   "outputs": [],
   "source": [
    "4. Create a function that determines whether each seat can \"see\" the front-stage. A number can \"see\" the front-stage if it is strictly greater than the number before it.\n",
    "Everyone can see the front-stage in the example below:\n",
    "\n",
    "FRONT STAGE [[1, 2, 3, 2, 1, 1], [2, 4, 4, 3, 2, 2], [5, 5, 5, 5, 4, 4], [6, 6, 7, 6, 5, 5]]\n",
    "\n",
    "Starting from the left, the 6 > 5 > 2 > 1, so all numbers can see. 6 > 5 > 4 > 2 - so all numbers can see, etc.\n",
    "\n",
    "Not everyone can see the front-stage in the example below:\n",
    "\n",
    "FRONT STAGE [[1, 2, 3, 2, 1, 1], [2, 4, 4, 3, 2, 2], [5, 5, 5, 10, 4, 4], [6, 6, 7, 6, 5, 5]]\n",
    "\n",
    "The 10 is directly in front of the 6 and blocking its view.\n",
    "\n",
    "The function should return True if every number can see the front-stage, and False if even a single number cannot.\n",
    "\n",
    "Examples\n",
    "\n",
    "can_see_stage([ [1, 2, 3], [4, 5, 6], [7, 8, 9] ]) ➞ True\n",
    "\n",
    "can_see_stage([ [0, 0, 0], [1, 1, 1], [2, 2, 2] ]) ➞ True\n",
    "\n",
    "can_see_stage([ [2, 0, 0], [1, 1, 1], [2, 2, 2] ]) ➞ False\n",
    "\n",
    "can_see_stage([ [1, 0, 0], [1, 1, 1], [2, 2, 2] ]) ➞ False\n",
    "\n",
    "Number must be strictly smaller than the number directly behind it."
   ]
  },
  {
   "cell_type": "code",
   "execution_count": 113,
   "metadata": {},
   "outputs": [],
   "source": [
    "# Ans : \n",
    "def can_see_stage(mat):\n",
    "    for i in range(len(mat[0])):\n",
    "        new = True\n",
    "        for j in range(len(mat)-1,-1,-1):\n",
    "            if new == True:\n",
    "                max = mat[j][i]\n",
    "                new = False\n",
    "            elif (max<=mat[j][i]):\n",
    "                return False\n",
    "            else:\n",
    "                max = mat[j][i]\n",
    "            if j == 0:\n",
    "                new = True\n",
    "\n",
    "    return True"
   ]
  },
  {
   "cell_type": "code",
   "execution_count": 114,
   "metadata": {},
   "outputs": [
    {
     "data": {
      "text/plain": [
       "True"
      ]
     },
     "execution_count": 114,
     "metadata": {},
     "output_type": "execute_result"
    }
   ],
   "source": [
    "can_see_stage([\n",
    "  [1, 2, 3],\n",
    "  [4, 5, 6],\n",
    "  [7, 8, 9]\n",
    "])"
   ]
  },
  {
   "cell_type": "code",
   "execution_count": 115,
   "metadata": {},
   "outputs": [
    {
     "data": {
      "text/plain": [
       "True"
      ]
     },
     "execution_count": 115,
     "metadata": {},
     "output_type": "execute_result"
    }
   ],
   "source": [
    "can_see_stage([\n",
    "  [0, 0, 0],\n",
    "  [1, 1, 1],\n",
    "  [2, 2, 2]\n",
    "])"
   ]
  },
  {
   "cell_type": "code",
   "execution_count": 116,
   "metadata": {},
   "outputs": [
    {
     "data": {
      "text/plain": [
       "False"
      ]
     },
     "execution_count": 116,
     "metadata": {},
     "output_type": "execute_result"
    }
   ],
   "source": [
    "can_see_stage([\n",
    "  [2, 0, 0], \n",
    "  [1, 1, 1], \n",
    "  [2, 2, 2]\n",
    "])"
   ]
  },
  {
   "cell_type": "code",
   "execution_count": 118,
   "metadata": {},
   "outputs": [
    {
     "data": {
      "text/plain": [
       "False"
      ]
     },
     "execution_count": 118,
     "metadata": {},
     "output_type": "execute_result"
    }
   ],
   "source": [
    "can_see_stage([\n",
    "  [1, 0, 0],\n",
    "  [1, 1, 1],\n",
    "  [2, 2, 2]\n",
    "])"
   ]
  },
  {
   "cell_type": "code",
   "execution_count": null,
   "metadata": {},
   "outputs": [],
   "source": [
    "5. Create a Pizza class with the attributes order_number and ingredients (which is given as a list). Only the ingredients will be given as input.\n",
    "You should also make it so that its possible to choose a ready made pizza flavour rather than typing out the ingredients manually! As well as creating this Pizza class, hard-code the following pizza flavours.\n",
    "\n",
    "Name Ingredients hawaiian ham, pineapple meat_festival beef, meatball, bacon garden_feast spinach, olives, mushroom\n",
    "\n",
    "Examples\n",
    "\n",
    "p1 = Pizza([\"bacon\", \"parmesan\", \"ham\"]) # order 1 p2 = Pizza.garden_feast() # order 2\n",
    "\n",
    "p1.ingredients ➞ [\"bacon\", \"parmesan\", \"ham\"]\n",
    "\n",
    "p2.ingredients ➞ [\"spinach\", \"olives\", \"mushroom\"]\n",
    "\n",
    "p1.order_number ➞ 1\n",
    "\n",
    "p2.order_number ➞ 2"
   ]
  },
  {
   "cell_type": "code",
   "execution_count": 119,
   "metadata": {},
   "outputs": [],
   "source": [
    "# Ans : \n",
    "order_number = 0\n",
    "class Pizza:\n",
    "    def __init__(self, *ingrd):\n",
    "        global order_number\n",
    "        order_number += 1\n",
    "        self.order_number = order_number\n",
    "        self.ingredients = ingrd[0]\n",
    "        \n",
    "    @classmethod\n",
    "    def garden_feast(self):\n",
    "        global order_number\n",
    "        order_number += 1\n",
    "        self.order_number = order_number\n",
    "        self.ingredients = [\"spinach\", \"olives\", \"mushroom\"]\n",
    "        return self\n",
    "        \n",
    "    @classmethod\n",
    "    def meat_festival(self):\n",
    "        global order_number\n",
    "        order_number += 1\n",
    "        self.order_number = order_number\n",
    "        self.ingredients = ['beef', 'meatball', 'bacon']\n",
    "        return self\n",
    "    \n",
    "    @classmethod    \n",
    "    def hawaiian(self):\n",
    "        global order_number\n",
    "        order_number += 1\n",
    "        self.order_number = order_number\n",
    "        self.ingredients = ['ham', 'pineapple']\n",
    "        return self"
   ]
  },
  {
   "cell_type": "code",
   "execution_count": 120,
   "metadata": {},
   "outputs": [],
   "source": [
    "p1 = Pizza([\"bacon\", \"parmesan\", \"ham\"])    # order 1\n",
    "p2 = Pizza.garden_feast() "
   ]
  },
  {
   "cell_type": "code",
   "execution_count": 121,
   "metadata": {},
   "outputs": [
    {
     "data": {
      "text/plain": [
       "['bacon', 'parmesan', 'ham']"
      ]
     },
     "execution_count": 121,
     "metadata": {},
     "output_type": "execute_result"
    }
   ],
   "source": [
    "p1.ingredients"
   ]
  },
  {
   "cell_type": "code",
   "execution_count": 122,
   "metadata": {},
   "outputs": [
    {
     "data": {
      "text/plain": [
       "['spinach', 'olives', 'mushroom']"
      ]
     },
     "execution_count": 122,
     "metadata": {},
     "output_type": "execute_result"
    }
   ],
   "source": [
    "p2.ingredients"
   ]
  },
  {
   "cell_type": "code",
   "execution_count": 123,
   "metadata": {},
   "outputs": [
    {
     "data": {
      "text/plain": [
       "1"
      ]
     },
     "execution_count": 123,
     "metadata": {},
     "output_type": "execute_result"
    }
   ],
   "source": [
    "p1.order_number"
   ]
  },
  {
   "cell_type": "code",
   "execution_count": 124,
   "metadata": {},
   "outputs": [
    {
     "data": {
      "text/plain": [
       "2"
      ]
     },
     "execution_count": 124,
     "metadata": {},
     "output_type": "execute_result"
    }
   ],
   "source": [
    "p2.order_number"
   ]
  },
  {
   "cell_type": "code",
   "execution_count": null,
   "metadata": {},
   "outputs": [],
   "source": [
    "assignment-23\n",
    "1. Create a class Smoothie and do the following:\n",
    "Create an instance attribute called ingredients.\n",
    "Create a get_cost method which calculates the total cost of the ingredients used to make the smoothie.\n",
    "Create a get_price method which returns the number from get_cost plus the number from get_cost multiplied by 1.5. Round to two decimal places.\n",
    "Create a get_name method which gets the ingredients and puts them in alphabetical order into a nice descriptive sentence. If there are multiple ingredients, add the word \"Fusion\" to the end but otherwise, add \"Smoothie\". Remember to change \"-berries\" to \"-berry\". See the examples below. Ingredient Price Strawberries 0.50 Mango 1.00 Raspberries 1.75 Pineapple 3.50 Examples s1 = Smoothie([&quot;Banana&quot;]) s1.ingredients ➞ [&quot;Banana&quot;] s1.get_cost() ➞ &quot;0.50\" s1.get_price() ➞ \"1.25&quot; s1.get_name() ➞ &quot;Banana Smoothie&quot; s2 = Smoothie([&quot;Raspberries&quot;, &quot;Strawberries&quot;, &quot;Blueberries&quot;]) s2.ingredients ➞ [&quot;Raspberries&quot;, &quot;Strawberries&quot;, &quot;Blueberries&quot;] s2.get_cost() ➞ &quot;3.50\" s2.get_price() ➞ \"$8.75\" s2.get_name() ➞ \"Blueberry Raspberry Strawberry Fusion\""
   ]
  },
  {
   "cell_type": "code",
   "execution_count": 125,
   "metadata": {},
   "outputs": [
    {
     "name": "stdout",
     "output_type": "stream",
     "text": [
      "['Banana']\n",
      "$0.50\n",
      "$1.25\n",
      "Banana Fusion\n",
      "['Raspberries', 'Strawberries', 'Blueberries']\n",
      "$3.50\n",
      "$8.75\n",
      "Blueberry Raspberry Strawberry  Fusion\n"
     ]
    }
   ],
   "source": [
    "# Ans : \n",
    "class Smoothie():\n",
    "    def __init__(self, ingredients):\n",
    "        self.ingredients = ingredients\n",
    "        \n",
    "    def get_cost(self):\n",
    "        cost = {\"Strawberries\": 1.50,\"Banana\":0.50,\"Mango\":2.50,\n",
    "                \"Blueberries\":1.00,\"Raspberries\":1.00,\"Apple1\":.75,\n",
    "                \"Pineapple\":3.50}\n",
    "        self.total_cost = 0\n",
    "        for i in self.ingredients:\n",
    "            self.total_cost += cost.get(i)\n",
    "            \n",
    "        return (\"$\"+ str('%.2f'%self.total_cost))\n",
    "    \n",
    "    def get_price(self):\n",
    "        x = (1.5*self.total_cost)+self.total_cost\n",
    "        \n",
    "        return \"$\"+str(round(x,2))\n",
    "    \n",
    "    def get_name(self):\n",
    "        res = \"\"\n",
    "        for i in sorted(self.ingredients):\n",
    "            if i[-1] == \"s\":\n",
    "                res =  res +  i[:-3]+\"y \"\n",
    "            else:\n",
    "                res = res + i\n",
    "        if len(res) == 1:\n",
    "            return res+\" Smoothie\"\n",
    "        else:\n",
    "            return res +\" Fusion\"\n",
    "        \n",
    "        return res\n",
    "    \n",
    "s1 = Smoothie([\"Banana\"])\n",
    "print(s1.ingredients)\n",
    "print(s1.get_cost())\n",
    "print(s1.get_price())\n",
    "print(s1.get_name())\n",
    "s2 = Smoothie([\"Raspberries\", \"Strawberries\", \"Blueberries\"])\n",
    "print(s2.ingredients)\n",
    "print(s2.get_cost())\n",
    "print(s2.get_price())\n",
    "print(s2.get_name())"
   ]
  },
  {
   "cell_type": "code",
   "execution_count": null,
   "metadata": {},
   "outputs": [],
   "source": [
    "2. Your task is to write a program which allows teachers to create a multiple choice test in a class called Testpaper and to be also able to assign a minimum pass mark. The testpaper's subject should also be included. The attributes are in the following order:\n",
    "subject\n",
    "markscheme\n",
    "pass_mark As well as that, we need to create student objects to take the test itself! Create another class called Student and do the following:\n",
    "Create an attribute called tests_taken and set the default as 'No tests taken'.\n",
    "Make a method called take_test(), which takes in the testpaper object they are completing and the student's answers. Compare what they wrote to the mark scheme, and append to the/create a dictionary assigned to tests_taken in the way as shown in the point below.\n",
    "Each key in the dictionary should be the testpaper subject and each value should be a string in the format seen in the examples below (whether or not the student has failed, and their percentage in brackets). Examples paper1 = Testpaper(\"Maths\", [\"1A\", \"2C\", \"3D\", \"4A\", \"5A\"], \"60%\") paper2 = Testpaper(\"Chemistry\", [\"1C\", \"2C\", \"3D\", \"4A\"], \"75%\") paper3 = Testpaper(\"Computing\", [\"1D\", \"2C\", \"3C\", \"4B\", \"5D\", \"6C\", \"7A\"], \"75%\") student1 = Student() student2 = Student() student1.tests_taken ➞ \"No tests taken\" student1.take_test(paper1, [\"1A\", \"2D\", \"3D\", \"4A\", \"5A\"]) student1.tests_taken ➞ {\"Maths\" : \"Passed! (80%)\"} student2.take_test(paper2, [\"1C\", \"2D\", \"3A\", \"4C\"]) student2.take_test(paper3, [\"1A\", \"2C\", \"3A\", \"4C\", \"5D\", \"6C\", \"7B\"]) student2.tests_taken ➞ {\"Chemistry\" : \"Failed! (25%)\", \"Computing\" : \"Failed! (43%)\"}"
   ]
  },
  {
   "cell_type": "code",
   "execution_count": 126,
   "metadata": {},
   "outputs": [
    {
     "name": "stdout",
     "output_type": "stream",
     "text": [
      "{}\n",
      "{'Maths': 'Passed!(80%)'}\n",
      "{'Chemistry': 'Failed!(25%)', 'Computing': 'Failed!(43%)'}\n"
     ]
    }
   ],
   "source": [
    "# Ans : \n",
    "import math\n",
    "class Testpaper():\n",
    "    def __init__(self, subject , markscheme, pass_mark):\n",
    "        self.subject = subject\n",
    "        self.markscheme = markscheme\n",
    "        self.pass_mark = pass_mark\n",
    "\n",
    "class Student(Testpaper):\n",
    "    def __init__(self):\n",
    "        self.tests_taken = {}\n",
    "        \n",
    "    def take_test(self, paper, stud_answer):\n",
    "        x = len(paper.markscheme)\n",
    "        count = 0\n",
    "        for i in range(x):\n",
    "            if paper.markscheme[i] == stud_answer[i]:\n",
    "                count+=1\n",
    "        percent = ((count/x)*100)\n",
    "        if int(paper.pass_mark[:-1]) <= percent:\n",
    "            self.tests_taken[paper.subject] = \"Passed!\"+ \"(\"+ str(math.ceil(percent))+\"%)\"\n",
    "        else:\n",
    "            self.tests_taken[paper.subject] = \"Failed!\"+ \"(\"+ str(math.ceil(percent))+\"%)\"\n",
    "\n",
    "        return self.tests_taken\n",
    "\n",
    "paper1 = Testpaper(\"Maths\", [\"1A\", \"2C\", \"3D\", \"4A\", \"5A\"], \"60%\")\n",
    "paper2 = Testpaper(\"Chemistry\", [\"1C\", \"2C\", \"3D\", \"4A\"], \"75%\")\n",
    "paper3 = Testpaper(\"Computing\", [\"1D\", \"2C\", \"3C\", \"4B\", \"5D\", \"6C\", \"7A\"], \"75%\")\n",
    "\n",
    "student1 = Student()\n",
    "student2 = Student()\n",
    "\n",
    "print(student1.tests_taken) \n",
    "student1.take_test(paper1, [\"1A\", \"2D\", \"3D\", \"4A\", \"5A\"])\n",
    "print(student1.tests_taken)\n",
    "student2.take_test(paper2, [\"1C\", \"2D\", \"3A\", \"4C\"])\n",
    "student2.take_test(paper3, [\"1A\", \"2C\", \"3A\", \"4C\", \"5D\", \"6C\", \"7B\"])\n",
    "print(student2.tests_taken )"
   ]
  },
  {
   "cell_type": "code",
   "execution_count": null,
   "metadata": {},
   "outputs": [],
   "source": [
    "3. Due to unforseen circumstances in Suburbia, the trains will be delayed by a further 10 minutes. Create a function that will help to plan out and manage these delays! Create a function called manage_delays that does the following:\n",
    "Parameters will be the train object, a destination and number of minutes the delay is.\n",
    "Increment to the train object's expected_time by the delay, if the destination given is in the train object's destinations. Examples trains = [ Train([\"Townsville\", \"Suburbia\", \"Urbantska\"], \"13:04\"), Train([\"Farmsdale\", \"Suburbia\", \"Lakeside Valley\"], \"13:20\"), Train([\"Suburbia\", \"Townsville\", \"Lakeside Valley\"], \"13:22\") ] for t in trains: manage_delays(t, \"Lakeside Valley\", 60) trains[0].expected_time ➞ \"13:04\" trains[1].expected_time ➞ \"14:20\" trains[2].expected_time ➞ \"14:22\""
   ]
  },
  {
   "cell_type": "code",
   "execution_count": 127,
   "metadata": {},
   "outputs": [
    {
     "name": "stdout",
     "output_type": "stream",
     "text": [
      "13:04\n",
      "14:20\n",
      "14:22\n"
     ]
    }
   ],
   "source": [
    "# Ans : \n",
    "import datetime\n",
    "def manage_delays(t, destination, delay):\n",
    "    if destination in t.stations:\n",
    "        delay_time = datetime.datetime.strptime(t.arrival, \"%H:%M\") + datetime.timedelta(minutes = delay)\n",
    "        x = str(delay_time.time())\n",
    "        t.expected_time = x[:-3]\n",
    "        return t.expected_time\n",
    "        \n",
    "\n",
    "class Train:\n",
    "    def __init__(self, stations, arrival):\n",
    "        self.stations = stations\n",
    "        self.arrival = arrival\n",
    "        self.expected_time = arrival\n",
    "        \n",
    "        \n",
    "    \n",
    "trains = [Train([\"Townsville\", \"Suburbia\", \"Urbantska\"], \"13:04\"),\n",
    "  Train([\"Farmsdale\", \"Suburbia\", \"Lakeside Valley\"], \"13:20\"),\n",
    "  Train([\"Suburbia\", \"Townsville\", \"Lakeside Valley\"], \"13:22\")]\n",
    "    \n",
    "for t in trains:\n",
    "    manage_delays(t, \"Lakeside Valley\", 60)\n",
    "\n",
    "print(trains[0].expected_time)\n",
    "print(trains[1].expected_time)\n",
    "print(trains[2].expected_time )"
   ]
  },
  {
   "cell_type": "code",
   "execution_count": 129,
   "metadata": {},
   "outputs": [],
   "source": [
    "4. Ted works as a computer programmer at Minecraft Inc. His boss has just given him an important assignment to update the code for the minecart tracks by the end of April. However, he has recently had to self-isolate due to Corvid-19 and has left the code for the tracks BACK AT WORK!! He has the shorthand for the tracks he's supposed to look at, and where the carts are suppost to end up, but not the actual code.\n",
    "He knows that:\n",
    "\n",
    "\"-->\" = \"Speed-Up Track\" ⁠— If a minecart interacts with this track, it's velocity increases by 2.67 BPS unless it's at its maximum speed of 8 BPS.\n",
    "\"<-->\" = \"Powered Track\" ⁠— If a minecart interacts with this track, it's velocity remains the same.\n",
    "\"<--\" = \"Slow-Down Track\" ⁠— If a minecart interacts with this track, it's velocity decreases by 2.67 BPS unless it's velocity equals 0, at which point it stops.\n",
    "\"---\" = \"Unpowered Track\" ⁠— If a minecart interacts with this track, it's velocity decreases by 1 BPS unless it's velocity equals 0, at which point it stops.\n",
    "Help Ted by writing a class for the tracks that interact with the provided Minecart class as shown above. And then write a function that will take a list of the shorthand tracks and:\n",
    "\n",
    "If the Minecart reaches the last peice of Track, return True.\n",
    "Else return the index of the Track where the Minecart stops. Examples mine_run([\"-->\", \"-->\", \"-->\", \"<--\", \"<--\", \"<--\"]) ➞ True mine_run([\"-->\", \"<--\", \"-->\", \"-->\", \"<-->\", \"---\"]) ➞ 1"
   ]
  },
  {
   "cell_type": "code",
   "execution_count": 132,
   "metadata": {},
   "outputs": [
    {
     "name": "stdout",
     "output_type": "stream",
     "text": [
      "True\n",
      "1\n"
     ]
    }
   ],
   "source": [
    "# Ans : \n",
    "def mine_run(lst_track):\n",
    "    right = \"-->\"\n",
    "    left = \"<--\"\n",
    "    count_right = 0\n",
    "    count_left = 0\n",
    "    for i in lst_track:\n",
    "        if i == right:\n",
    "            count_right += 1\n",
    "        elif i == left:\n",
    "            count_left += 1\n",
    "    if count_left == count_right:\n",
    "        return print(True)\n",
    "    else:\n",
    "        return print(count_right - count_left-1)\n",
    "\n",
    "mine_run([\"-->\", \"-->\", \"-->\", \"<--\", \"<--\", \"<--\"]) \n",
    "mine_run([\"-->\", \"<--\", \"-->\", \"-->\", \"<-->\", \"---\"])   "
   ]
  },
  {
   "cell_type": "code",
   "execution_count": null,
   "metadata": {},
   "outputs": [],
   "source": [
    "5. Make a Rectangle class with four parameters, an x, a y (representing the top-left corner of the rectangle), a width and a height exclusively in that order. Lastly, make a function intersecting that takes two Rectangle objects and returns True if those objects are intersecting (colliding), else return False.\n",
    "Examples a = Rectangle(10, 20, 100, 20) b = Rectangle(10, 40, 15, 20) c = Rectangle(50, 50, 20, 30) intersecting(a, b) ➞ True intersecting(a, c) ➞ False intersecting(b, c) ➞ True"
   ]
  },
  {
   "cell_type": "code",
   "execution_count": 133,
   "metadata": {},
   "outputs": [
    {
     "name": "stdout",
     "output_type": "stream",
     "text": [
      "True\n",
      "False\n",
      "True\n"
     ]
    }
   ],
   "source": [
    "# Ans : \n",
    "def intersecting(rectangle1, rectangle2):\n",
    "    if (rectangle2.y-rectangle1.y == rectangle1.height) or (rectangle2.y-rectangle1.y + rectangle1.height == rectangle2.height):\n",
    "        return print(True)\n",
    "    else:\n",
    "        return print(False)\n",
    "\n",
    "class Rectangle:\n",
    "    def __init__(self, x, y, width, height):\n",
    "        self.x = x\n",
    "        self.y = y\n",
    "        self.width = width\n",
    "        self.height = height\n",
    "\n",
    "a = Rectangle(10, 20, 100, 20)\n",
    "b = Rectangle(10, 40, 15, 20)\n",
    "c = Rectangle(50, 50, 20, 30)\n",
    "intersecting(a, b)\n",
    "intersecting(a, c)\n",
    "intersecting(b, c)"
   ]
  },
  {
   "cell_type": "code",
   "execution_count": null,
   "metadata": {},
   "outputs": [],
   "source": [
    "Assignment-25\n",
    "Question 1\n",
    "Write four functions that directly mutate a list:\n",
    "repeat(lst, n): Repeat lst n times.\n",
    "add(lst, x): Adds x to the end of the lst.\n",
    "remove(lst, m, n): Removes all elements between indices m and n inclusive in lst.\n",
    "concat(lst, x): concatenates lst with x (another list). Examples lst = [1, 2, 3, 4] repeat(lst, 3) ➞ [1, 2, 3, 4, 1, 2, 3, 4, 1, 2, 3, 4] add(lst, 1) ➞ [1, 2, 3, 4, 1, 2, 3, 4, 1, 2, 3, 4, 1] remove(lst, 1, 12) ➞ [1] concat(lst, [3, 4]) ➞ [1, 3, 4]"
   ]
  },
  {
   "cell_type": "code",
   "execution_count": 134,
   "metadata": {},
   "outputs": [
    {
     "name": "stdout",
     "output_type": "stream",
     "text": [
      "Repeating list [1, 2, 3, 4, 1, 2, 3, 4, 1, 2, 3, 4]\n",
      "adding at the end of list [1, 2, 3, 4, 1, 2, 3, 4, 1, 2, 3, 4, 8]\n",
      "Removing some elements form list [1, 2, 3, 4, 8]\n",
      "concating list [1, 2, 3, 4, 8, 6, 8]\n"
     ]
    }
   ],
   "source": [
    "# Ans : \n",
    "def repeat(lst,n):\n",
    "    return lst * n\n",
    "\n",
    "def add(lst, x):\n",
    "    lst.append(x)\n",
    "    return lst\n",
    "\n",
    "def remove(lst,m,n):\n",
    "    del lst[m:n+1]\n",
    "    return lst\n",
    "\n",
    "def concat(lst,lst2):\n",
    "    return lst + lst2\n",
    "    \n",
    "\n",
    "lst = [1,2,3,4]\n",
    "lst = repeat(lst,3)\n",
    "print('Repeating list', lst)\n",
    "lst = add(lst,8)\n",
    "print(\"adding at the end of list\",lst)\n",
    "lst = remove(lst,1,8)\n",
    "print('Removing some elements form list',lst)\n",
    "lst = concat(lst,[6,8])\n",
    "print('concating list',lst)"
   ]
  },
  {
   "cell_type": "code",
   "execution_count": null,
   "metadata": {},
   "outputs": [],
   "source": [
    "Question 2\n",
    "The classic game of Mastermind is played on a tray on which the Mastermind conceals a code and the Guesser has 10 tries to guess it. The code is a sequence of 4 (or 6, sometimes more) pegs of different colors. Each guess is a corresponding sequence of 4 (or more) pegs of different colors. A guess is 'correct' when the color of every peg in the guess exactly matches the corresponding peg in the Mastermind's code. After each guess by the Guesser, the Mastermind will give a score comprising black & white pegs, not arranged in any order:\n",
    "Black peg == guess peg matches the color of a code peg in the same position.\n",
    "White peg == guess peg matches the color of a code peg in another position. Create a function that takes two strings, code and guess as arguments, and returns the score in a dictionary.\n",
    "The code and guess are strings of numeric digits\n",
    "The color of the pegs are represented by numeric digits\n",
    "no 'peg' may be double-scored Examples guess_score('1423', '5678') ➞ {'black': 0, 'white': 0}\n",
    "guess_score('1423', '2222') ➞ {'black': 1, 'white': 0} guess_score('1423', '1234') ➞ {'black': 1, 'white': 3} guess_score('1423', '2211') ➞ {'black': 0, 'white': 2}"
   ]
  },
  {
   "cell_type": "code",
   "execution_count": 135,
   "metadata": {},
   "outputs": [],
   "source": [
    "# Ans : \n",
    "def guess_score(code, guesser):\n",
    "    \n",
    "    dict = {'black' : 0, 'white' : 0}\n",
    "    BlackCnt = 0\n",
    "    whiteCnt = 0\n",
    "\n",
    "    if len(code) != len(guesser):\n",
    "        print('code and guesser are of not of equal lenth')\n",
    "        return False\n",
    "\n",
    "    code = [code[x] for x in range(len(code))]    # converting string of numbers in to list\n",
    "  \n",
    "    # find the black match\n",
    "    for i in range(len(guesser)):\n",
    "        if code[i] == guesser[i]:                # matching the index for black match\n",
    "            code[i] = '-'                        # if found replacing the match with '-'\n",
    "            BlackCnt += 1 \n",
    "            dict['black'] = BlackCnt             # updating the black count\n",
    "            \n",
    "    #for white matches\n",
    "    for i in range(len(guesser)):\n",
    "        for j in range(len(code)):               # for white match they can be in any index, traverse through the string\n",
    "            if guesser[i] == code[j]:\n",
    "                code[j] = '-'                    # if found replace with '-'\n",
    "                whiteCnt += 1\n",
    "                dict['white'] = whiteCnt         # update the count \n",
    "\n",
    "    return dict"
   ]
  },
  {
   "cell_type": "code",
   "execution_count": 136,
   "metadata": {},
   "outputs": [
    {
     "data": {
      "text/plain": [
       "{'black': 0, 'white': 0}"
      ]
     },
     "execution_count": 136,
     "metadata": {},
     "output_type": "execute_result"
    }
   ],
   "source": [
    "guess_score('1423', '5678')"
   ]
  },
  {
   "cell_type": "code",
   "execution_count": 137,
   "metadata": {},
   "outputs": [
    {
     "data": {
      "text/plain": [
       "{'black': 1, 'white': 0}"
      ]
     },
     "execution_count": 137,
     "metadata": {},
     "output_type": "execute_result"
    }
   ],
   "source": [
    "guess_score('1423', '2222')"
   ]
  },
  {
   "cell_type": "code",
   "execution_count": 138,
   "metadata": {},
   "outputs": [
    {
     "data": {
      "text/plain": [
       "{'black': 1, 'white': 3}"
      ]
     },
     "execution_count": 138,
     "metadata": {},
     "output_type": "execute_result"
    }
   ],
   "source": [
    "guess_score('1423', '1234')"
   ]
  },
  {
   "cell_type": "code",
   "execution_count": 139,
   "metadata": {},
   "outputs": [
    {
     "data": {
      "text/plain": [
       "{'black': 0, 'white': 2}"
      ]
     },
     "execution_count": 139,
     "metadata": {},
     "output_type": "execute_result"
    }
   ],
   "source": [
    "guess_score('1423', '2211')"
   ]
  },
  {
   "cell_type": "code",
   "execution_count": null,
   "metadata": {},
   "outputs": [],
   "source": [
    "Question 3\n",
    "Create a function that takes a list lst and a number N and returns a list of two integers from lst whose product equals N. Examples two_product([1, 2, -1, 4, 5], 20) ➞ [4, 5] two_product([1, 2, 3, 4, 5], 10) ➞ [2, 5] two_product([100, 12, 4, 1, 2], 15) ➞ None"
   ]
  },
  {
   "cell_type": "code",
   "execution_count": 140,
   "metadata": {},
   "outputs": [
    {
     "data": {
      "text/plain": [
       "[4, 5]"
      ]
     },
     "execution_count": 140,
     "metadata": {},
     "output_type": "execute_result"
    }
   ],
   "source": [
    "# Ans : \n",
    "def two_product(lst, n):\n",
    "    lst = sorted(lst,reverse = True)\n",
    "    divisors = []\n",
    "    for i in range(len(lst)):\n",
    "        for j in range(i+1,len(lst)):\n",
    "            if lst[i]*lst[j] == n:\n",
    "                divisors.append(lst[i])            \n",
    "                divisors.append(lst[j])\n",
    "                break            \n",
    "    return sorted(divisors)\n",
    "two_product([1, 2, -1, 4, 5], 20)"
   ]
  },
  {
   "cell_type": "code",
   "execution_count": 141,
   "metadata": {},
   "outputs": [
    {
     "data": {
      "text/plain": [
       "[2, 5]"
      ]
     },
     "execution_count": 141,
     "metadata": {},
     "output_type": "execute_result"
    }
   ],
   "source": [
    "two_product([1, 2, 3, 4, 5], 10)"
   ]
  },
  {
   "cell_type": "code",
   "execution_count": 142,
   "metadata": {},
   "outputs": [
    {
     "data": {
      "text/plain": [
       "[]"
      ]
     },
     "execution_count": 142,
     "metadata": {},
     "output_type": "execute_result"
    }
   ],
   "source": [
    "two_product([100, 12, 4, 1, 2], 15)"
   ]
  },
  {
   "cell_type": "code",
   "execution_count": null,
   "metadata": {},
   "outputs": [],
   "source": [
    "Question 4\n",
    "In this challenge, sort a list containing a series of dates given as strings. Each date is given in the format DD-MM-YYYY_HH:MM: '12-02-2012_13:44' The priority of criteria used for sorting will be:\n",
    "Year\n",
    "Month\n",
    "Day\n",
    "Hours\n",
    "Minutes Given a list lst and a string mode, implement a function that returns:\n",
    "if mode is equal to 'ASC', the list lst sorted in ascending order.\n",
    "if mode is equal to 'DSC', the list lst sorted in descending order. Examples sort_dates(['10-02-2018_12:30', '10-02-2016_12:30', '10-02-2018_12:15'], 'ASC') ➞ ['10-02-2016_12:30', '10-02-2018_12:15', '10-02-2018_12:30'] sort_dates(['10-02-2018_12:30', '10-02-2016_12:30', '10-02-2018_12:15'], 'DSC') ➞ ['10-02-2018_12:30', '10-02-2018_12:15', '10-02-2016_12:30']\n",
    "sort_dates(['09-02-2000_10:03', '10-02-2000_18:29', '01-01-1999_00:55'], 'ASC') ➞ ['01-01-1999_00:55', '09-02-2000_10:03', '10-02-2000_18:29']"
   ]
  },
  {
   "cell_type": "code",
   "execution_count": 143,
   "metadata": {},
   "outputs": [
    {
     "name": "stdout",
     "output_type": "stream",
     "text": [
      "Sorting in Ascending order\n"
     ]
    },
    {
     "data": {
      "text/plain": [
       "['10-02-2016_12:30', '10-02-2018_12:15', '10-02-2018_12:30']"
      ]
     },
     "execution_count": 143,
     "metadata": {},
     "output_type": "execute_result"
    }
   ],
   "source": [
    "# Ans : \n",
    "import datetime\n",
    "def sort_dates(d, sort):\n",
    "    if sort == 'ASC':\n",
    "        print(\"Sorting in Ascending order\")\n",
    "        return sorted(d, key=lambda x: datetime.datetime.strptime(x, '%d-%m-%Y_%H:%M'), reverse = False)\n",
    "    elif sort == 'DSC':\n",
    "        print(\"Sorting in Descending order\")\n",
    "        return sorted(d, key=lambda x: datetime.datetime.strptime(x, '%d-%m-%Y_%H:%M'), reverse = True)\n",
    "    else:\n",
    "        print(\"Provide right sorting order\")\n",
    "sort_dates(['10-02-2018_12:30', '10-02-2016_12:30', '10-02-2018_12:15'],\n",
    "'ASC')"
   ]
  },
  {
   "cell_type": "code",
   "execution_count": 144,
   "metadata": {},
   "outputs": [
    {
     "name": "stdout",
     "output_type": "stream",
     "text": [
      "Sorting in Descending order\n"
     ]
    },
    {
     "data": {
      "text/plain": [
       "['10-02-2018_12:30', '10-02-2018_12:15', '10-02-2016_12:30']"
      ]
     },
     "execution_count": 144,
     "metadata": {},
     "output_type": "execute_result"
    }
   ],
   "source": [
    "sort_dates(['10-02-2018_12:30', '10-02-2016_12:30', '10-02-2018_12:15'],\n",
    "'DSC')"
   ]
  },
  {
   "cell_type": "code",
   "execution_count": 145,
   "metadata": {},
   "outputs": [
    {
     "name": "stdout",
     "output_type": "stream",
     "text": [
      "Sorting in Ascending order\n"
     ]
    },
    {
     "data": {
      "text/plain": [
       "['01-01-1999_00:55', '09-02-2000_10:03', '10-02-2000_18:29']"
      ]
     },
     "execution_count": 145,
     "metadata": {},
     "output_type": "execute_result"
    }
   ],
   "source": [
    "sort_dates(['09-02-2000_10:03', '10-02-2000_18:29', '01-01-1999_00:55'],\n",
    "'ASC')"
   ]
  },
  {
   "cell_type": "code",
   "execution_count": null,
   "metadata": {},
   "outputs": [],
   "source": [
    "Question 5\n",
    "Write a function that selects all words that have all the same vowels (in any order and/or number) as the first word, including the first word. Examples same_vowel_group(['toe', 'ocelot', 'maniac']) ➞ ['toe', 'ocelot'] same_vowel_group(['many', 'carriage', 'emit', 'apricot', 'animal']) ➞ ['many'] same_vowel_group(['hoops', 'chuff', 'bot', 'bottom']) ➞ ['hoops', 'bot', 'bottom']"
   ]
  },
  {
   "cell_type": "code",
   "execution_count": 146,
   "metadata": {},
   "outputs": [],
   "source": [
    "# Ans : \n",
    "def findVowelInWord(word):\n",
    "    vowel = 'aeiou'\n",
    "    lstvowstr = ''    \n",
    "    for i in range(len(word)):        \n",
    "        if word[i] in vowel:\n",
    "            lstvowstr = lstvowstr + word[i]\n",
    "    return ''.join(set(lstvowstr)) # find the unique vowels in the word\n",
    "\n",
    "\n",
    "def same_vowel_group(lst):\n",
    "    vowel = 'aeiou'\n",
    "    resultlst = []\n",
    "    test = findVowelInWord(lst[0])   # find the vowels in each word of the list     \n",
    "    resultlst.append(lst[0]) # append the first word in to list\n",
    "    for i in range(1,len(lst)):\n",
    "        vowWord = findVowelInWord(lst[i])\n",
    "        if test == vowWord: # check the vowel of each word with first word in the list\n",
    "            resultlst.append(lst[i])\n",
    "    return resultlst"
   ]
  },
  {
   "cell_type": "code",
   "execution_count": 147,
   "metadata": {},
   "outputs": [
    {
     "data": {
      "text/plain": [
       "['toe', 'ocelot']"
      ]
     },
     "execution_count": 147,
     "metadata": {},
     "output_type": "execute_result"
    }
   ],
   "source": [
    "same_vowel_group(['toe', 'ocelot', 'maniac'])"
   ]
  },
  {
   "cell_type": "code",
   "execution_count": 148,
   "metadata": {},
   "outputs": [
    {
     "data": {
      "text/plain": [
       "['many']"
      ]
     },
     "execution_count": 148,
     "metadata": {},
     "output_type": "execute_result"
    }
   ],
   "source": [
    "same_vowel_group(['many', 'carriage', 'emit', 'apricot', 'animal'])"
   ]
  },
  {
   "cell_type": "code",
   "execution_count": 149,
   "metadata": {},
   "outputs": [
    {
     "data": {
      "text/plain": [
       "['hoops', 'bot', 'bottom']"
      ]
     },
     "execution_count": 149,
     "metadata": {},
     "output_type": "execute_result"
    }
   ],
   "source": [
    "same_vowel_group(['hoops', 'chuff', 'bot', 'bottom'])"
   ]
  },
  {
   "cell_type": "code",
   "execution_count": null,
   "metadata": {},
   "outputs": [],
   "source": [
    "Question 6\n",
    "Create a function that takes a list of more than three numbers and returns the Least Common Multiple (LCM). Examples lcm_of_list([1, 2, 3, 4, 5, 6, 7, 8, 9, 10]) ➞ 2520 lcm_of_list([13, 6, 17, 18, 19, 20, 37]) ➞ 27965340 lcm_of_list([44, 64, 12, 17, 65]) ➞ 2333760"
   ]
  },
  {
   "cell_type": "code",
   "execution_count": 150,
   "metadata": {},
   "outputs": [],
   "source": [
    "# Ans : \n",
    "from math import gcd\n",
    "def lcm_of_list(lst):\n",
    "    a = [100, 200, 150]   \n",
    "    lcm = 1\n",
    "    for i in lst:\n",
    "        lcm = lcm*i//gcd(lcm, i)\n",
    "    return lcm"
   ]
  },
  {
   "cell_type": "code",
   "execution_count": 151,
   "metadata": {},
   "outputs": [
    {
     "data": {
      "text/plain": [
       "2520"
      ]
     },
     "execution_count": 151,
     "metadata": {},
     "output_type": "execute_result"
    }
   ],
   "source": [
    "lcm_of_list([1, 2, 3, 4, 5, 6, 7, 8, 9, 10])"
   ]
  },
  {
   "cell_type": "code",
   "execution_count": 152,
   "metadata": {},
   "outputs": [
    {
     "data": {
      "text/plain": [
       "27965340"
      ]
     },
     "execution_count": 152,
     "metadata": {},
     "output_type": "execute_result"
    }
   ],
   "source": [
    "lcm_of_list([13, 6, 17, 18, 19, 20, 37])"
   ]
  },
  {
   "cell_type": "code",
   "execution_count": 153,
   "metadata": {},
   "outputs": [
    {
     "data": {
      "text/plain": [
       "2333760"
      ]
     },
     "execution_count": 153,
     "metadata": {},
     "output_type": "execute_result"
    }
   ],
   "source": [
    "lcm_of_list([44, 64, 12, 17, 65])"
   ]
  },
  {
   "cell_type": "code",
   "execution_count": null,
   "metadata": {},
   "outputs": [],
   "source": []
  }
 ],
 "metadata": {
  "kernelspec": {
   "display_name": "Python 3",
   "language": "python",
   "name": "python3"
  },
  "language_info": {
   "codemirror_mode": {
    "name": "ipython",
    "version": 3
   },
   "file_extension": ".py",
   "mimetype": "text/x-python",
   "name": "python",
   "nbconvert_exporter": "python",
   "pygments_lexer": "ipython3",
   "version": "3.8.5"
  }
 },
 "nbformat": 4,
 "nbformat_minor": 4
}
